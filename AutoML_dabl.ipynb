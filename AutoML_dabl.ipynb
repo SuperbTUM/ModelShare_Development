{
  "nbformat": 4,
  "nbformat_minor": 0,
  "metadata": {
    "colab": {
      "provenance": [],
      "collapsed_sections": []
    },
    "kernelspec": {
      "name": "python3",
      "display_name": "Python 3"
    },
    "language_info": {
      "name": "python"
    }
  },
  "cells": [
    {
      "cell_type": "markdown",
      "source": [
        "[![Open in Colab](https://colab.research.google.com/assets/colab-badge.svg)](https://colab.research.google.com/github/SuperbTUM/ModelShare_Development/blob/master/notebooks/AutoML_dabl.ipynb)"
      ],
      "metadata": {
        "id": "oukTJhjnhJNl"
      }
    },
    {
      "cell_type": "code",
      "execution_count": 1,
      "metadata": {
        "colab": {
          "base_uri": "https://localhost:8080/"
        },
        "id": "Dc1dvu2v-pHx",
        "outputId": "2cde8db7-7102-49fe-844b-ec962a4990d8"
      },
      "outputs": [
        {
          "output_type": "stream",
          "name": "stdout",
          "text": [
            "\u001b[K     |████████████████████████████████| 951 kB 7.7 MB/s \n",
            "\u001b[K     |████████████████████████████████| 96 kB 1.5 MB/s \n",
            "\u001b[K     |████████████████████████████████| 442 kB 39.8 MB/s \n",
            "\u001b[K     |████████████████████████████████| 132 kB 35.5 MB/s \n",
            "\u001b[K     |████████████████████████████████| 22.3 MB 1.6 MB/s \n",
            "\u001b[K     |████████████████████████████████| 288 kB 47.2 MB/s \n",
            "\u001b[K     |████████████████████████████████| 8.6 MB 37.4 MB/s \n",
            "\u001b[K     |████████████████████████████████| 83 kB 1.8 MB/s \n",
            "\u001b[K     |████████████████████████████████| 146 kB 58.0 MB/s \n",
            "\u001b[K     |████████████████████████████████| 13.1 MB 39.1 MB/s \n",
            "\u001b[K     |████████████████████████████████| 178 kB 51.5 MB/s \n",
            "\u001b[K     |████████████████████████████████| 308 kB 51.8 MB/s \n",
            "\u001b[K     |████████████████████████████████| 291 kB 51.8 MB/s \n",
            "\u001b[K     |████████████████████████████████| 4.5 MB 44.4 MB/s \n",
            "\u001b[K     |████████████████████████████████| 79 kB 6.0 MB/s \n",
            "\u001b[K     |████████████████████████████████| 140 kB 59.9 MB/s \n",
            "\u001b[K     |████████████████████████████████| 55 kB 2.8 MB/s \n",
            "\u001b[K     |████████████████████████████████| 87 kB 5.9 MB/s \n",
            "\u001b[K     |████████████████████████████████| 46 kB 2.8 MB/s \n",
            "\u001b[K     |████████████████████████████████| 127 kB 28.2 MB/s \n",
            "\u001b[K     |████████████████████████████████| 86 kB 5.2 MB/s \n",
            "\u001b[?25h  Building wheel for Pympler (setup.py) ... \u001b[?25l\u001b[?25hdone\n",
            "  Building wheel for wget (setup.py) ... \u001b[?25l\u001b[?25hdone\n",
            "  Building wheel for fire (setup.py) ... \u001b[?25l\u001b[?25hdone\n",
            "\u001b[31mERROR: pip's dependency resolver does not currently take into account all the packages that are installed. This behaviour is the source of the following dependency conflicts.\n",
            "yellowbrick 1.5 requires scikit-learn>=1.0.0, but you have scikit-learn 0.24.2 which is incompatible.\u001b[0m\n"
          ]
        }
      ],
      "source": [
        "!pip install aimodelshare --upgrade -q"
      ]
    },
    {
      "cell_type": "code",
      "source": [
        "import aimodelshare as ai"
      ],
      "metadata": {
        "id": "_UGYQ-Be-z7q"
      },
      "execution_count": 2,
      "outputs": []
    },
    {
      "cell_type": "code",
      "source": [
        "from aimodelshare.aws import set_credentials\n",
        "set_credentials(credential_file=\"credentials.txt\", type=\"deploy_model\")"
      ],
      "metadata": {
        "colab": {
          "base_uri": "https://localhost:8080/"
        },
        "id": "aSCFrSnl-4Qb",
        "outputId": "a8c03054-9ce1-41c6-8f70-46e09caaa999"
      },
      "execution_count": 3,
      "outputs": [
        {
          "output_type": "stream",
          "name": "stdout",
          "text": [
            "AI Model Share login credentials set successfully.\n",
            "AWS credentials set successfully.\n"
          ]
        }
      ]
    },
    {
      "cell_type": "markdown",
      "source": [
        "Two ways to obtain dataset; one is import_quickstart_data, another is to load csv file."
      ],
      "metadata": {
        "id": "u3Og3J9fU2hf"
      }
    },
    {
      "cell_type": "code",
      "source": [
        "X_train, X_test, y_train_labels, y_test_labels, example_data = ai.import_quickstart_data(\"covid_tweets\")\n",
        "# Each sample is a sentence\n",
        "print(y_train_labels[0])"
      ],
      "metadata": {
        "colab": {
          "base_uri": "https://localhost:8080/"
        },
        "id": "zMiKvZeh-7Ws",
        "outputId": "146388e8-cd59-48eb-bc58-eb3b9209d1b7"
      },
      "execution_count": 6,
      "outputs": [
        {
          "output_type": "stream",
          "name": "stdout",
          "text": [
            "Downloading [======================================>          ]\n",
            "\n",
            "Data downloaded successfully.\n",
            "\n",
            "Preparing downloaded files for use...\n",
            "\n",
            "Success! Your Quick Start materials have been downloaded. \n",
            "You are now ready to run the tutorial.\n",
            "fake\n"
          ]
        }
      ]
    },
    {
      "cell_type": "code",
      "source": [
        "!pip install dabl\n",
        "import dabl"
      ],
      "metadata": {
        "colab": {
          "base_uri": "https://localhost:8080/"
        },
        "id": "yg_sHWtZ-9c1",
        "outputId": "76003a17-066c-479d-e741-8817d51b8803"
      },
      "execution_count": 5,
      "outputs": [
        {
          "output_type": "stream",
          "name": "stdout",
          "text": [
            "Looking in indexes: https://pypi.org/simple, https://us-python.pkg.dev/colab-wheels/public/simple/\n",
            "Collecting dabl\n",
            "  Downloading dabl-0.2.2-py3-none-any.whl (558 kB)\n",
            "\u001b[K     |████████████████████████████████| 558 kB 5.6 MB/s \n",
            "\u001b[?25hRequirement already satisfied: matplotlib in /usr/local/lib/python3.7/dist-packages (from dabl) (3.2.2)\n",
            "Requirement already satisfied: numpy in /usr/local/lib/python3.7/dist-packages (from dabl) (1.21.6)\n",
            "Requirement already satisfied: scikit-learn>=0.24.0 in /usr/local/lib/python3.7/dist-packages (from dabl) (0.24.2)\n",
            "Requirement already satisfied: pandas in /usr/local/lib/python3.7/dist-packages (from dabl) (1.3.5)\n",
            "Requirement already satisfied: scipy in /usr/local/lib/python3.7/dist-packages (from dabl) (1.7.3)\n",
            "Requirement already satisfied: seaborn in /usr/local/lib/python3.7/dist-packages (from dabl) (0.11.2)\n",
            "Requirement already satisfied: joblib>=0.11 in /usr/local/lib/python3.7/dist-packages (from scikit-learn>=0.24.0->dabl) (1.2.0)\n",
            "Requirement already satisfied: threadpoolctl>=2.0.0 in /usr/local/lib/python3.7/dist-packages (from scikit-learn>=0.24.0->dabl) (3.1.0)\n",
            "Requirement already satisfied: cycler>=0.10 in /usr/local/lib/python3.7/dist-packages (from matplotlib->dabl) (0.11.0)\n",
            "Requirement already satisfied: python-dateutil>=2.1 in /usr/local/lib/python3.7/dist-packages (from matplotlib->dabl) (2.8.2)\n",
            "Requirement already satisfied: kiwisolver>=1.0.1 in /usr/local/lib/python3.7/dist-packages (from matplotlib->dabl) (1.4.4)\n",
            "Requirement already satisfied: pyparsing!=2.0.4,!=2.1.2,!=2.1.6,>=2.0.1 in /usr/local/lib/python3.7/dist-packages (from matplotlib->dabl) (3.0.9)\n",
            "Requirement already satisfied: typing-extensions in /usr/local/lib/python3.7/dist-packages (from kiwisolver>=1.0.1->matplotlib->dabl) (4.1.1)\n",
            "Requirement already satisfied: six>=1.5 in /usr/local/lib/python3.7/dist-packages (from python-dateutil>=2.1->matplotlib->dabl) (1.15.0)\n",
            "Requirement already satisfied: pytz>=2017.3 in /usr/local/lib/python3.7/dist-packages (from pandas->dabl) (2022.5)\n",
            "Installing collected packages: dabl\n",
            "Successfully installed dabl-0.2.2\n"
          ]
        }
      ]
    },
    {
      "cell_type": "markdown",
      "source": [
        "AutoML with Simple Classifier"
      ],
      "metadata": {
        "id": "joWR6kLBggfa"
      }
    },
    {
      "cell_type": "code",
      "source": [
        "import pandas as pd\n",
        "import numpy as np\n",
        "\n",
        "from sklearn.feature_extraction.text import TfidfVectorizer\n",
        "tf_idf_vectorizer = TfidfVectorizer(stop_words='english')\n",
        "tfidf_simple = tf_idf_vectorizer.fit(X_train)\n",
        "\n",
        "def preprocessor(data):\n",
        "  from sklearn.feature_extraction.text import TfidfVectorizer\n",
        "  tf1_new = TfidfVectorizer(vocabulary = tfidf_simple.vocabulary_)\n",
        "  new_tfidf_df = tf1_new.fit_transform(data)\n",
        "  new_tfidf_df = new_tfidf_df.todense()\n",
        "  return new_tfidf_df\n",
        "\n",
        "X_train_processed = preprocessor(X_train)\n",
        "X_test_processed = preprocessor(X_test)\n",
        "y_train_labels_processed = np.asarray(list(map(lambda x: 0 if x == \"fake\" else 1, y_train_labels))).reshape(len(X_train), 1)\n",
        "y_test_labels_processed = np.asarray(list(map(lambda x: 0 if x == \"fake\" else 1, y_test_labels)))\n",
        "\n",
        "print(X_train_processed.shape)\n",
        "print(y_train_labels_processed.shape)\n",
        "print(np.concatenate((X_train_processed, y_train_labels_processed), axis=1).shape)\n",
        "\n",
        "pd_tweets = pd.DataFrame(np.concatenate((X_train_processed, y_train_labels_processed), axis=1), columns=[\"feature_\" + str(i) for i in range(X_train_processed.shape[1])] + [\"classification\"])\n",
        "ec = dabl.SimpleClassifier(random_state=0).fit(pd_tweets, target_col=\"classification\")\n"
      ],
      "metadata": {
        "id": "7akupoZFA0u3",
        "colab": {
          "base_uri": "https://localhost:8080/"
        },
        "outputId": "0b92c7ab-415a-4bc2-bf78-aebe3437f95b"
      },
      "execution_count": 13,
      "outputs": [
        {
          "output_type": "stream",
          "name": "stdout",
          "text": [
            "(6505, 18039)\n",
            "(6505, 1)\n",
            "(6505, 18040)\n",
            "Running DummyClassifier()\n",
            "accuracy: 0.525 average_precision: 0.475 roc_auc: 0.500 recall_macro: 0.500 f1_macro: 0.344\n",
            "=== new best DummyClassifier() (using recall_macro):\n",
            "accuracy: 0.525 average_precision: 0.475 roc_auc: 0.500 recall_macro: 0.500 f1_macro: 0.344\n",
            "\n",
            "Running GaussianNB()\n",
            "accuracy: 0.722 average_precision: 0.846 roc_auc: 0.862 recall_macro: 0.731 f1_macro: 0.715\n",
            "=== new best GaussianNB() (using recall_macro):\n",
            "accuracy: 0.722 average_precision: 0.846 roc_auc: 0.862 recall_macro: 0.731 f1_macro: 0.715\n",
            "\n",
            "Running MultinomialNB()\n",
            "accuracy: 0.752 average_precision: 0.822 roc_auc: 0.864 recall_macro: 0.750 f1_macro: 0.750\n",
            "=== new best MultinomialNB() (using recall_macro):\n",
            "accuracy: 0.752 average_precision: 0.822 roc_auc: 0.864 recall_macro: 0.750 f1_macro: 0.750\n",
            "\n",
            "Running DecisionTreeClassifier(class_weight='balanced', max_depth=1)\n",
            "accuracy: 0.689 average_precision: 0.607 roc_auc: 0.689 recall_macro: 0.689 f1_macro: 0.689\n",
            "Running DecisionTreeClassifier(class_weight='balanced', max_depth=5)\n",
            "accuracy: 0.797 average_precision: 0.802 roc_auc: 0.864 recall_macro: 0.799 f1_macro: 0.797\n",
            "=== new best DecisionTreeClassifier(class_weight='balanced', max_depth=5) (using recall_macro):\n",
            "accuracy: 0.797 average_precision: 0.802 roc_auc: 0.864 recall_macro: 0.799 f1_macro: 0.797\n",
            "\n",
            "Running DecisionTreeClassifier(class_weight='balanced', min_impurity_decrease=0.01)\n",
            "accuracy: 0.784 average_precision: 0.749 roc_auc: 0.814 recall_macro: 0.784 f1_macro: 0.784\n",
            "Running LogisticRegression(C=0.1, class_weight='balanced', max_iter=1000)\n",
            "accuracy: 0.822 average_precision: 0.894 roc_auc: 0.093 recall_macro: 0.823 f1_macro: 0.821\n",
            "=== new best LogisticRegression(C=0.1, class_weight='balanced', max_iter=1000) (using recall_macro):\n",
            "accuracy: 0.822 average_precision: 0.894 roc_auc: 0.093 recall_macro: 0.823 f1_macro: 0.821\n",
            "\n",
            "Running LogisticRegression(class_weight='balanced', max_iter=1000)\n",
            "accuracy: 0.822 average_precision: 0.893 roc_auc: 0.094 recall_macro: 0.824 f1_macro: 0.822\n",
            "=== new best LogisticRegression(class_weight='balanced', max_iter=1000) (using recall_macro):\n",
            "accuracy: 0.822 average_precision: 0.893 roc_auc: 0.094 recall_macro: 0.824 f1_macro: 0.822\n",
            "\n",
            "\n",
            "Best model:\n",
            "LogisticRegression(class_weight='balanced', max_iter=1000)\n",
            "Best Scores:\n",
            "accuracy: 0.822 average_precision: 0.893 roc_auc: 0.094 recall_macro: 0.824 f1_macro: 0.822\n"
          ]
        }
      ]
    },
    {
      "cell_type": "code",
      "source": [
        "dabl.explain(ec)"
      ],
      "metadata": {
        "colab": {
          "base_uri": "https://localhost:8080/",
          "height": 392
        },
        "id": "E_cPUMVpX_Ft",
        "outputId": "8ff13dd8-2d86-4463-dfcd-00c84f20cdc2"
      },
      "execution_count": 14,
      "outputs": [
        {
          "output_type": "display_data",
          "data": {
            "text/plain": [
              "<Figure size 720x360 with 1 Axes>"
            ],
            "image/png": "[encoded data removed]"
          },
          "metadata": {
            "needs_background": "light"
          }
        }
      ]
    },
    {
      "cell_type": "code",
      "source": [
        "ec.score(X_test_processed, y_test_labels_processed)"
      ],
      "metadata": {
        "colab": {
          "base_uri": "https://localhost:8080/"
        },
        "id": "uDlooWZYdT_O",
        "outputId": "a1cee6a4-e9a7-485e-b3b2-e59127f14f3f"
      },
      "execution_count": 16,
      "outputs": [
        {
          "output_type": "execute_result",
          "data": {
            "text/plain": [
              "0.8092457420924575"
            ]
          },
          "metadata": {},
          "execution_count": 16
        }
      ]
    },
    {
      "cell_type": "markdown",
      "source": [
        "AutoML with [params grid search](https://scikit-learn.org/stable/modules/generated/sklearn.model_selection.HalvingGridSearchCV.html)"
      ],
      "metadata": {
        "id": "7KseN0WUglDu"
      }
    },
    {
      "cell_type": "code",
      "source": [
        "from sklearn.ensemble import RandomForestClassifier\n",
        "from sklearn.experimental import enable_halving_search_cv # experimental\n",
        "from sklearn.model_selection import HalvingGridSearchCV\n",
        "\n",
        "parameters = {\"max_depth\": [3, 5, 10], \"min_samples_split\": [2, 5, 10]}\n",
        "base_estimator = RandomForestClassifier(random_state=0)\n",
        "sh = HalvingGridSearchCV(base_estimator,\n",
        "              parameters,\n",
        "              cv=5,\n",
        "              factor=2,\n",
        "              resource=\"n_estimators\",\n",
        "              max_resources=30,\n",
        "              aggressive_elimination=False,\n",
        "              random_state=0).fit(X_train_processed, y_train_labels_processed.ravel())\n",
        "\n",
        "sh.best_estimator_"
      ],
      "metadata": {
        "colab": {
          "base_uri": "https://localhost:8080/"
        },
        "id": "tHN_fSkQYMlo",
        "outputId": "d3db7758-47fc-4670-9aa8-d7e0ceb1802b"
      },
      "execution_count": 22,
      "outputs": [
        {
          "output_type": "execute_result",
          "data": {
            "text/plain": [
              "RandomForestClassifier(max_depth=10, min_samples_split=10, n_estimators=24,\n",
              "                       random_state=0)"
            ]
          },
          "metadata": {},
          "execution_count": 22
        }
      ]
    },
    {
      "cell_type": "code",
      "source": [
        "best_estimator = sh.best_estimator_\n",
        "best_estimator.score(X_test_processed, y_test_labels_processed)"
      ],
      "metadata": {
        "colab": {
          "base_uri": "https://localhost:8080/"
        },
        "id": "5RftzjFAgCpx",
        "outputId": "5cf699b2-c9fc-4659-cc1f-b1820a7df594"
      },
      "execution_count": 23,
      "outputs": [
        {
          "output_type": "execute_result",
          "data": {
            "text/plain": [
              "0.8525547445255475"
            ]
          },
          "metadata": {},
          "execution_count": 23
        }
      ]
    }
  ]
}