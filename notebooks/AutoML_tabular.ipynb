{
  "nbformat": 4,
  "nbformat_minor": 0,
  "metadata": {
    "colab": {
      "provenance": [],
      "collapsed_sections": []
    },
    "kernelspec": {
      "name": "python3",
      "display_name": "Python 3"
    },
    "language_info": {
      "name": "python"
    }
  },
  "cells": [
    {
      "cell_type": "code",
      "execution_count": 2,
      "metadata": {
        "colab": {
          "base_uri": "https://localhost:8080/",
          "height": 1000
        },
        "id": "QP_1B3Njmy4_",
        "outputId": "94927350-8fbb-44fc-f556-2be209701eeb"
      },
      "outputs": [
        {
          "output_type": "stream",
          "name": "stdout",
          "text": [
            "\u001b[31mERROR: pip's dependency resolver does not currently take into account all the packages that are installed. This behaviour is the source of the following dependency conflicts.\n",
            "yellowbrick 1.5 requires scikit-learn>=1.0.0, but you have scikit-learn 0.24.2 which is incompatible.\n",
            "mljar-supervised 0.11.3 requires scikit-learn>=1.0, but you have scikit-learn 0.24.2 which is incompatible.\n",
            "dabl 0.2.4 requires scikit-learn>=1.0, but you have scikit-learn 0.24.2 which is incompatible.\u001b[0m\n",
            "Looking in indexes: https://pypi.org/simple, https://us-python.pkg.dev/colab-wheels/public/simple/\n",
            "Requirement already satisfied: dabl in /usr/local/lib/python3.7/dist-packages (0.2.4)\n",
            "Requirement already satisfied: pandas in /usr/local/lib/python3.7/dist-packages (from dabl) (1.3.5)\n",
            "Collecting scikit-learn>=1.0\n",
            "  Using cached scikit_learn-1.0.2-cp37-cp37m-manylinux_2_17_x86_64.manylinux2014_x86_64.whl (24.8 MB)\n",
            "Requirement already satisfied: matplotlib>=3.4 in /usr/local/lib/python3.7/dist-packages (from dabl) (3.5.3)\n",
            "Requirement already satisfied: scipy in /usr/local/lib/python3.7/dist-packages (from dabl) (1.7.3)\n",
            "Requirement already satisfied: seaborn in /usr/local/lib/python3.7/dist-packages (from dabl) (0.11.2)\n",
            "Requirement already satisfied: numpy in /usr/local/lib/python3.7/dist-packages (from dabl) (1.21.6)\n",
            "Requirement already satisfied: python-dateutil>=2.7 in /usr/local/lib/python3.7/dist-packages (from matplotlib>=3.4->dabl) (2.8.2)\n",
            "Requirement already satisfied: pillow>=6.2.0 in /usr/local/lib/python3.7/dist-packages (from matplotlib>=3.4->dabl) (7.1.2)\n",
            "Requirement already satisfied: kiwisolver>=1.0.1 in /usr/local/lib/python3.7/dist-packages (from matplotlib>=3.4->dabl) (1.4.4)\n",
            "Requirement already satisfied: fonttools>=4.22.0 in /usr/local/lib/python3.7/dist-packages (from matplotlib>=3.4->dabl) (4.38.0)\n",
            "Requirement already satisfied: cycler>=0.10 in /usr/local/lib/python3.7/dist-packages (from matplotlib>=3.4->dabl) (0.11.0)\n",
            "Requirement already satisfied: pyparsing>=2.2.1 in /usr/local/lib/python3.7/dist-packages (from matplotlib>=3.4->dabl) (3.0.9)\n",
            "Requirement already satisfied: packaging>=20.0 in /usr/local/lib/python3.7/dist-packages (from matplotlib>=3.4->dabl) (21.3)\n",
            "Requirement already satisfied: typing-extensions in /usr/local/lib/python3.7/dist-packages (from kiwisolver>=1.0.1->matplotlib>=3.4->dabl) (4.1.1)\n",
            "Requirement already satisfied: six>=1.5 in /usr/local/lib/python3.7/dist-packages (from python-dateutil>=2.7->matplotlib>=3.4->dabl) (1.15.0)\n",
            "Requirement already satisfied: threadpoolctl>=2.0.0 in /usr/local/lib/python3.7/dist-packages (from scikit-learn>=1.0->dabl) (3.1.0)\n",
            "Requirement already satisfied: joblib>=0.11 in /usr/local/lib/python3.7/dist-packages (from scikit-learn>=1.0->dabl) (1.2.0)\n",
            "Requirement already satisfied: pytz>=2017.3 in /usr/local/lib/python3.7/dist-packages (from pandas->dabl) (2022.6)\n",
            "Installing collected packages: scikit-learn\n",
            "  Attempting uninstall: scikit-learn\n",
            "    Found existing installation: scikit-learn 0.24.2\n",
            "    Uninstalling scikit-learn-0.24.2:\n",
            "      Successfully uninstalled scikit-learn-0.24.2\n",
            "\u001b[31mERROR: pip's dependency resolver does not currently take into account all the packages that are installed. This behaviour is the source of the following dependency conflicts.\n",
            "aimodelshare 0.0.142 requires scikit-learn==0.24.2, but you have scikit-learn 1.0.2 which is incompatible.\u001b[0m\n",
            "Successfully installed scikit-learn-1.0.2\n"
          ]
        },
        {
          "output_type": "display_data",
          "data": {
            "application/vnd.colab-display-data+json": {
              "pip_warning": {
                "packages": [
                  "sklearn"
                ]
              }
            }
          },
          "metadata": {}
        },
        {
          "output_type": "stream",
          "name": "stdout",
          "text": [
            "Looking in indexes: https://pypi.org/simple, https://us-python.pkg.dev/colab-wheels/public/simple/\n",
            "Requirement already satisfied: mljar-supervised in /usr/local/lib/python3.7/dist-packages (0.11.3)\n",
            "Requirement already satisfied: joblib>=1.0.1 in /usr/local/lib/python3.7/dist-packages (from mljar-supervised) (1.2.0)\n",
            "Requirement already satisfied: wordcloud>=1.8.1 in /usr/local/lib/python3.7/dist-packages (from mljar-supervised) (1.8.2.2)\n",
            "Requirement already satisfied: lightgbm>=3.0.0 in /usr/local/lib/python3.7/dist-packages (from mljar-supervised) (3.3.3)\n",
            "Requirement already satisfied: seaborn>=0.11.1 in /usr/local/lib/python3.7/dist-packages (from mljar-supervised) (0.11.2)\n",
            "Requirement already satisfied: optuna>=2.7.0 in /usr/local/lib/python3.7/dist-packages (from mljar-supervised) (3.0.3)\n",
            "Requirement already satisfied: catboost>=0.24.4 in /usr/local/lib/python3.7/dist-packages (from mljar-supervised) (1.1.1)\n",
            "Requirement already satisfied: scipy>=1.6.1 in /usr/local/lib/python3.7/dist-packages (from mljar-supervised) (1.7.3)\n",
            "Requirement already satisfied: numpy>=1.19.5 in /usr/local/lib/python3.7/dist-packages (from mljar-supervised) (1.21.6)\n",
            "Requirement already satisfied: scikit-learn>=1.0 in /usr/local/lib/python3.7/dist-packages (from mljar-supervised) (1.0.2)\n",
            "Requirement already satisfied: scikit-plot==0.3.7 in /usr/local/lib/python3.7/dist-packages (from mljar-supervised) (0.3.7)\n",
            "Requirement already satisfied: xgboost>=1.3.3 in /usr/local/lib/python3.7/dist-packages (from mljar-supervised) (1.6.2)\n",
            "Requirement already satisfied: pandas>=1.2.0 in /usr/local/lib/python3.7/dist-packages (from mljar-supervised) (1.3.5)\n",
            "Requirement already satisfied: tabulate>=0.8.7 in /usr/local/lib/python3.7/dist-packages (from mljar-supervised) (0.8.10)\n",
            "Requirement already satisfied: typing-extensions in /usr/local/lib/python3.7/dist-packages (from mljar-supervised) (4.1.1)\n",
            "Requirement already satisfied: shap>=0.36.0 in /usr/local/lib/python3.7/dist-packages (from mljar-supervised) (0.41.0)\n",
            "Requirement already satisfied: matplotlib>=3.2.2 in /usr/local/lib/python3.7/dist-packages (from mljar-supervised) (3.5.3)\n",
            "Requirement already satisfied: markdown in /usr/local/lib/python3.7/dist-packages (from mljar-supervised) (3.4.1)\n",
            "Requirement already satisfied: dtreeviz>=1.3.3 in /usr/local/lib/python3.7/dist-packages (from mljar-supervised) (1.4.0)\n",
            "Requirement already satisfied: category-encoders>=2.2.2 in /usr/local/lib/python3.7/dist-packages (from mljar-supervised) (2.5.1.post0)\n",
            "Requirement already satisfied: plotly in /usr/local/lib/python3.7/dist-packages (from catboost>=0.24.4->mljar-supervised) (5.5.0)\n",
            "Requirement already satisfied: graphviz in /usr/local/lib/python3.7/dist-packages (from catboost>=0.24.4->mljar-supervised) (0.10.1)\n",
            "Requirement already satisfied: six in /usr/local/lib/python3.7/dist-packages (from catboost>=0.24.4->mljar-supervised) (1.15.0)\n",
            "Requirement already satisfied: statsmodels>=0.9.0 in /usr/local/lib/python3.7/dist-packages (from category-encoders>=2.2.2->mljar-supervised) (0.12.2)\n",
            "Requirement already satisfied: patsy>=0.5.1 in /usr/local/lib/python3.7/dist-packages (from category-encoders>=2.2.2->mljar-supervised) (0.5.3)\n",
            "Requirement already satisfied: colour in /usr/local/lib/python3.7/dist-packages (from dtreeviz>=1.3.3->mljar-supervised) (0.1.5)\n",
            "Requirement already satisfied: pytest in /usr/local/lib/python3.7/dist-packages (from dtreeviz>=1.3.3->mljar-supervised) (3.6.4)\n",
            "Requirement already satisfied: wheel in /usr/local/lib/python3.7/dist-packages (from lightgbm>=3.0.0->mljar-supervised) (0.38.3)\n",
            "Requirement already satisfied: kiwisolver>=1.0.1 in /usr/local/lib/python3.7/dist-packages (from matplotlib>=3.2.2->mljar-supervised) (1.4.4)\n",
            "Requirement already satisfied: pillow>=6.2.0 in /usr/local/lib/python3.7/dist-packages (from matplotlib>=3.2.2->mljar-supervised) (7.1.2)\n",
            "Requirement already satisfied: fonttools>=4.22.0 in /usr/local/lib/python3.7/dist-packages (from matplotlib>=3.2.2->mljar-supervised) (4.38.0)\n",
            "Requirement already satisfied: packaging>=20.0 in /usr/local/lib/python3.7/dist-packages (from matplotlib>=3.2.2->mljar-supervised) (21.3)\n",
            "Requirement already satisfied: pyparsing>=2.2.1 in /usr/local/lib/python3.7/dist-packages (from matplotlib>=3.2.2->mljar-supervised) (3.0.9)\n",
            "Requirement already satisfied: cycler>=0.10 in /usr/local/lib/python3.7/dist-packages (from matplotlib>=3.2.2->mljar-supervised) (0.11.0)\n",
            "Requirement already satisfied: python-dateutil>=2.7 in /usr/local/lib/python3.7/dist-packages (from matplotlib>=3.2.2->mljar-supervised) (2.8.2)\n",
            "Requirement already satisfied: colorlog in /usr/local/lib/python3.7/dist-packages (from optuna>=2.7.0->mljar-supervised) (6.7.0)\n",
            "Requirement already satisfied: tqdm in /usr/local/lib/python3.7/dist-packages (from optuna>=2.7.0->mljar-supervised) (4.64.1)\n",
            "Requirement already satisfied: importlib-metadata<5.0.0 in /usr/local/lib/python3.7/dist-packages (from optuna>=2.7.0->mljar-supervised) (4.13.0)\n",
            "Requirement already satisfied: PyYAML in /usr/local/lib/python3.7/dist-packages (from optuna>=2.7.0->mljar-supervised) (6.0)\n",
            "Requirement already satisfied: cliff in /usr/local/lib/python3.7/dist-packages (from optuna>=2.7.0->mljar-supervised) (3.10.1)\n",
            "Requirement already satisfied: cmaes>=0.8.2 in /usr/local/lib/python3.7/dist-packages (from optuna>=2.7.0->mljar-supervised) (0.9.0)\n",
            "Requirement already satisfied: sqlalchemy>=1.3.0 in /usr/local/lib/python3.7/dist-packages (from optuna>=2.7.0->mljar-supervised) (1.4.43)\n",
            "Requirement already satisfied: alembic>=1.5.0 in /usr/local/lib/python3.7/dist-packages (from optuna>=2.7.0->mljar-supervised) (1.8.1)\n",
            "Requirement already satisfied: Mako in /usr/local/lib/python3.7/dist-packages (from alembic>=1.5.0->optuna>=2.7.0->mljar-supervised) (1.2.3)\n",
            "Requirement already satisfied: importlib-resources in /usr/local/lib/python3.7/dist-packages (from alembic>=1.5.0->optuna>=2.7.0->mljar-supervised) (5.10.0)\n",
            "Requirement already satisfied: zipp>=0.5 in /usr/local/lib/python3.7/dist-packages (from importlib-metadata<5.0.0->optuna>=2.7.0->mljar-supervised) (3.10.0)\n",
            "Requirement already satisfied: pytz>=2017.3 in /usr/local/lib/python3.7/dist-packages (from pandas>=1.2.0->mljar-supervised) (2022.6)\n",
            "Requirement already satisfied: threadpoolctl>=2.0.0 in /usr/local/lib/python3.7/dist-packages (from scikit-learn>=1.0->mljar-supervised) (3.1.0)\n",
            "Requirement already satisfied: slicer==0.0.7 in /usr/local/lib/python3.7/dist-packages (from shap>=0.36.0->mljar-supervised) (0.0.7)\n",
            "Requirement already satisfied: cloudpickle in /usr/local/lib/python3.7/dist-packages (from shap>=0.36.0->mljar-supervised) (1.5.0)\n",
            "Requirement already satisfied: numba in /usr/local/lib/python3.7/dist-packages (from shap>=0.36.0->mljar-supervised) (0.56.4)\n",
            "Requirement already satisfied: greenlet!=0.4.17 in /usr/local/lib/python3.7/dist-packages (from sqlalchemy>=1.3.0->optuna>=2.7.0->mljar-supervised) (2.0.1)\n",
            "Requirement already satisfied: PrettyTable>=0.7.2 in /usr/local/lib/python3.7/dist-packages (from cliff->optuna>=2.7.0->mljar-supervised) (3.5.0)\n",
            "Requirement already satisfied: autopage>=0.4.0 in /usr/local/lib/python3.7/dist-packages (from cliff->optuna>=2.7.0->mljar-supervised) (0.5.1)\n",
            "Requirement already satisfied: stevedore>=2.0.1 in /usr/local/lib/python3.7/dist-packages (from cliff->optuna>=2.7.0->mljar-supervised) (3.5.2)\n",
            "Requirement already satisfied: pbr!=2.1.0,>=2.0.0 in /usr/local/lib/python3.7/dist-packages (from cliff->optuna>=2.7.0->mljar-supervised) (5.11.0)\n",
            "Requirement already satisfied: cmd2>=1.0.0 in /usr/local/lib/python3.7/dist-packages (from cliff->optuna>=2.7.0->mljar-supervised) (2.4.2)\n",
            "Requirement already satisfied: pyperclip>=1.6 in /usr/local/lib/python3.7/dist-packages (from cmd2>=1.0.0->cliff->optuna>=2.7.0->mljar-supervised) (1.8.2)\n",
            "Requirement already satisfied: wcwidth>=0.1.7 in /usr/local/lib/python3.7/dist-packages (from cmd2>=1.0.0->cliff->optuna>=2.7.0->mljar-supervised) (0.2.5)\n",
            "Requirement already satisfied: attrs>=16.3.0 in /usr/local/lib/python3.7/dist-packages (from cmd2>=1.0.0->cliff->optuna>=2.7.0->mljar-supervised) (22.1.0)\n",
            "Requirement already satisfied: MarkupSafe>=0.9.2 in /usr/local/lib/python3.7/dist-packages (from Mako->alembic>=1.5.0->optuna>=2.7.0->mljar-supervised) (2.0.1)\n",
            "Requirement already satisfied: setuptools in /usr/local/lib/python3.7/dist-packages (from numba->shap>=0.36.0->mljar-supervised) (57.4.0)\n",
            "Requirement already satisfied: llvmlite<0.40,>=0.39.0dev0 in /usr/local/lib/python3.7/dist-packages (from numba->shap>=0.36.0->mljar-supervised) (0.39.1)\n",
            "Requirement already satisfied: tenacity>=6.2.0 in /usr/local/lib/python3.7/dist-packages (from plotly->catboost>=0.24.4->mljar-supervised) (8.1.0)\n",
            "Requirement already satisfied: atomicwrites>=1.0 in /usr/local/lib/python3.7/dist-packages (from pytest->dtreeviz>=1.3.3->mljar-supervised) (1.4.1)\n",
            "Requirement already satisfied: pluggy<0.8,>=0.5 in /usr/local/lib/python3.7/dist-packages (from pytest->dtreeviz>=1.3.3->mljar-supervised) (0.7.1)\n",
            "Requirement already satisfied: py>=1.5.0 in /usr/local/lib/python3.7/dist-packages (from pytest->dtreeviz>=1.3.3->mljar-supervised) (1.11.0)\n",
            "Requirement already satisfied: more-itertools>=4.0.0 in /usr/local/lib/python3.7/dist-packages (from pytest->dtreeviz>=1.3.3->mljar-supervised) (9.0.0)\n"
          ]
        }
      ],
      "source": [
        "!pip install aimodelshare --upgrade -q\n",
        "!pip install dabl\n",
        "!pip install mljar-supervised"
      ]
    },
    {
      "cell_type": "code",
      "source": [
        "import aimodelshare as ai\n",
        "import dabl\n",
        "import numpy as np\n",
        "import pandas as pd\n",
        "\n",
        "X_train, X_test, y_train, y_test, example_data, y_test_labels = ai.import_quickstart_data(\"titanic\")\n",
        "\n",
        "types = dabl.detect_types(X_train)\n",
        "indices = list(types.index)\n",
        "names = types.columns.to_numpy()\n",
        "types = types.to_numpy()\n",
        "\n",
        "d = dict()\n",
        "for index, tpes in zip(indices, types):\n",
        "  for name, tpe in zip(names, tpes):\n",
        "    if tpe:\n",
        "      d[index] = name\n",
        "  \n",
        "X_train_processed = dabl.clean(X_train, type_hints=d)\n",
        "X_test_processed = dabl.clean(X_test, type_hints=d)\n",
        "\n",
        "preprocessor = dabl.EasyPreprocessor()\n",
        "preprocessor.fit(X_train_processed)\n",
        "X_train_processed = preprocessor.transform(X_train_processed)\n",
        "preprocessor.fit(X_test_processed)\n",
        "X_test_processed = preprocessor.transform(X_test_processed)\n",
        "\n",
        "y_train_labels_processed = np.asarray(list(map(lambda x: 0 if x == y_test_labels[0] else 1, y_train))).reshape(len(X_train), 1)\n",
        "y_test_labels_processed = np.asarray(list(map(lambda x: 0 if x == y_test_labels[0] else 1, y_test)))\n",
        "\n",
        "titanic = pd.DataFrame(np.concatenate((X_train_processed, y_train_labels_processed), axis=1), columns=[\"feature_\" + str(i) for i in range(X_train_processed.shape[1])] + [\"classification\"])\n",
        "ec = dabl.SimpleClassifier(random_state=0).fit(titanic, target_col=\"classification\")"
      ],
      "metadata": {
        "colab": {
          "base_uri": "https://localhost:8080/"
        },
        "id": "bYxRlOCSr_Ad",
        "outputId": "c0ebc518-60e5-4a58-dd53-4674a3617abb"
      },
      "execution_count": 24,
      "outputs": [
        {
          "output_type": "stream",
          "name": "stdout",
          "text": [
            "Downloading [===>                                             ]\n",
            "\n",
            "Data downloaded successfully.\n",
            "\n",
            "Preparing downloaded files for use...\n",
            "\n",
            "Success! Your Quick Start materials have been downloaded. \n",
            "You are now ready to run the tutorial.\n",
            "Running DummyClassifier(random_state=0)\n",
            "accuracy: 0.625 average_precision: 0.375 roc_auc: 0.500 recall_macro: 0.500 f1_macro: 0.384\n",
            "=== new best DummyClassifier(random_state=0) (using recall_macro):\n",
            "accuracy: 0.625 average_precision: 0.375 roc_auc: 0.500 recall_macro: 0.500 f1_macro: 0.384\n",
            "\n",
            "Running GaussianNB()\n",
            "accuracy: 0.765 average_precision: 0.764 roc_auc: 0.820 recall_macro: 0.764 f1_macro: 0.755\n",
            "=== new best GaussianNB() (using recall_macro):\n",
            "accuracy: 0.765 average_precision: 0.764 roc_auc: 0.820 recall_macro: 0.764 f1_macro: 0.755\n",
            "\n",
            "Running MultinomialNB()\n",
            "accuracy: 0.770 average_precision: 0.810 roc_auc: 0.834 recall_macro: 0.763 f1_macro: 0.758\n",
            "Running DecisionTreeClassifier(class_weight='balanced', max_depth=1, random_state=0)\n",
            "accuracy: 0.781 average_precision: 0.613 roc_auc: 0.763 recall_macro: 0.763 f1_macro: 0.765\n",
            "Running DecisionTreeClassifier(class_weight='balanced', max_depth=5, random_state=0)\n",
            "accuracy: 0.788 average_precision: 0.760 roc_auc: 0.828 recall_macro: 0.779 f1_macro: 0.775\n",
            "=== new best DecisionTreeClassifier(class_weight='balanced', max_depth=5, random_state=0) (using recall_macro):\n",
            "accuracy: 0.788 average_precision: 0.760 roc_auc: 0.828 recall_macro: 0.779 f1_macro: 0.775\n",
            "\n",
            "Running DecisionTreeClassifier(class_weight='balanced', min_impurity_decrease=0.01,\n",
            "                       random_state=0)\n",
            "accuracy: 0.796 average_precision: 0.747 roc_auc: 0.825 recall_macro: 0.781 f1_macro: 0.781\n",
            "=== new best DecisionTreeClassifier(class_weight='balanced', min_impurity_decrease=0.01,\n",
            "                       random_state=0) (using recall_macro):\n",
            "accuracy: 0.796 average_precision: 0.747 roc_auc: 0.825 recall_macro: 0.781 f1_macro: 0.781\n",
            "\n",
            "Running LogisticRegression(C=0.1, class_weight='balanced', max_iter=1000,\n",
            "                   random_state=0)\n",
            "accuracy: 0.775 average_precision: 0.804 roc_auc: 0.839 recall_macro: 0.772 f1_macro: 0.765\n",
            "Running LogisticRegression(C=1, class_weight='balanced', max_iter=1000, random_state=0)\n",
            "accuracy: 0.776 average_precision: 0.804 roc_auc: 0.840 recall_macro: 0.777 f1_macro: 0.768\n",
            "\n",
            "Best model:\n",
            "DecisionTreeClassifier(class_weight='balanced', min_impurity_decrease=0.01,\n",
            "                       random_state=0)\n",
            "Best Scores:\n",
            "accuracy: 0.796 average_precision: 0.747 roc_auc: 0.825 recall_macro: 0.781 f1_macro: 0.781\n"
          ]
        }
      ]
    },
    {
      "cell_type": "markdown",
      "source": [
        "Seems that dabl does not include xgboost, lightgbm...try another automl lib instead\n",
        "\n",
        "Default algos: catboost, xgboost, random forest, lightgbm...\n",
        "\n",
        "Automatically test all possible models by setting mode to 'Compete'"
      ],
      "metadata": {
        "id": "IoCgoPNvnXcD"
      }
    },
    {
      "cell_type": "code",
      "source": [
        "import os\n",
        "import shutil\n",
        "automl_dir = \"AutoML_classifier\"\n",
        "if os.path.exists(automl_dir):\n",
        "    shutil.rmtree(automl_dir)"
      ],
      "metadata": {
        "id": "e1HvsG2lqc-9"
      },
      "execution_count": 3,
      "outputs": []
    },
    {
      "cell_type": "code",
      "source": [
        "!pip install --upgrade matplotlib"
      ],
      "metadata": {
        "colab": {
          "base_uri": "https://localhost:8080/"
        },
        "id": "AI5lWfqEiM38",
        "outputId": "8b1a423d-55af-4589-e070-541dd11c1cc9"
      },
      "execution_count": 4,
      "outputs": [
        {
          "output_type": "stream",
          "name": "stdout",
          "text": [
            "Looking in indexes: https://pypi.org/simple, https://us-python.pkg.dev/colab-wheels/public/simple/\n",
            "Requirement already satisfied: matplotlib in /usr/local/lib/python3.7/dist-packages (3.5.3)\n",
            "Requirement already satisfied: fonttools>=4.22.0 in /usr/local/lib/python3.7/dist-packages (from matplotlib) (4.38.0)\n",
            "Requirement already satisfied: cycler>=0.10 in /usr/local/lib/python3.7/dist-packages (from matplotlib) (0.11.0)\n",
            "Requirement already satisfied: pyparsing>=2.2.1 in /usr/local/lib/python3.7/dist-packages (from matplotlib) (3.0.9)\n",
            "Requirement already satisfied: packaging>=20.0 in /usr/local/lib/python3.7/dist-packages (from matplotlib) (21.3)\n",
            "Requirement already satisfied: python-dateutil>=2.7 in /usr/local/lib/python3.7/dist-packages (from matplotlib) (2.8.2)\n",
            "Requirement already satisfied: kiwisolver>=1.0.1 in /usr/local/lib/python3.7/dist-packages (from matplotlib) (1.4.4)\n",
            "Requirement already satisfied: numpy>=1.17 in /usr/local/lib/python3.7/dist-packages (from matplotlib) (1.21.6)\n",
            "Requirement already satisfied: pillow>=6.2.0 in /usr/local/lib/python3.7/dist-packages (from matplotlib) (7.1.2)\n",
            "Requirement already satisfied: typing-extensions in /usr/local/lib/python3.7/dist-packages (from kiwisolver>=1.0.1->matplotlib) (4.1.1)\n",
            "Requirement already satisfied: six>=1.5 in /usr/local/lib/python3.7/dist-packages (from python-dateutil>=2.7->matplotlib) (1.15.0)\n"
          ]
        }
      ]
    },
    {
      "cell_type": "code",
      "source": [
        "import aimodelshare as ai\n",
        "from supervised.automl import AutoML\n",
        "\n",
        "X_train, X_test, y_train, y_test, example_data, y_test_labels = ai.import_quickstart_data(\"titanic\")\n",
        "\n",
        "# automl = AutoML(results_path=automl_dir, mode=\"Compete\")\n",
        "automl = AutoML(results_path=automl_dir)#, mode=\"Compete\")\n",
        "automl.fit(X_train, y_train)\n",
        "\n",
        "predictions = automl.predict(X_test)"
      ],
      "metadata": {
        "colab": {
          "base_uri": "https://localhost:8080/"
        },
        "id": "cbrt5IB6m1w3",
        "outputId": "d596a9fb-e962-45d3-c678-074aa80eac66"
      },
      "execution_count": 5,
      "outputs": [
        {
          "output_type": "stream",
          "name": "stdout",
          "text": [
            "Downloading [===>                                             ]\n",
            "\n",
            "Data downloaded successfully.\n",
            "\n",
            "Preparing downloaded files for use...\n",
            "\n",
            "Success! Your Quick Start materials have been downloaded. \n",
            "You are now ready to run the tutorial.\n",
            "AutoML directory: AutoML_classifier\n",
            "The task is binary_classification with evaluation metric logloss\n",
            "AutoML will use algorithms: ['Baseline', 'Linear', 'Decision Tree', 'Random Forest', 'Xgboost', 'Neural Network']\n",
            "AutoML will ensemble available models\n",
            "AutoML steps: ['simple_algorithms', 'default_algorithms', 'ensemble']\n",
            "* Step simple_algorithms will try to check up to 3 models\n",
            "1_Baseline logloss 0.670136 trained in 1.36 seconds\n"
          ]
        },
        {
          "output_type": "stream",
          "name": "stderr",
          "text": [
            "WARNING:matplotlib.font_manager:findfont: Font family ['Arial'] not found. Falling back to DejaVu Sans.\n",
            "WARNING:matplotlib.font_manager:findfont: Font family ['Arial'] not found. Falling back to DejaVu Sans.\n",
            "WARNING:matplotlib.font_manager:findfont: Font family ['Arial'] not found. Falling back to DejaVu Sans.\n",
            "WARNING:matplotlib.font_manager:findfont: Font family ['Arial'] not found. Falling back to DejaVu Sans.\n"
          ]
        },
        {
          "output_type": "stream",
          "name": "stdout",
          "text": [
            "2_DecisionTree logloss 0.516392 trained in 20.94 seconds\n",
            "3_Linear logloss 0.464615 trained in 3.15 seconds\n",
            "* Step default_algorithms will try to check up to 3 models\n",
            "4_Default_Xgboost logloss 0.439622 trained in 5.45 seconds\n",
            "5_Default_NeuralNetwork logloss 0.528917 trained in 1.74 seconds\n",
            "6_Default_RandomForest logloss 0.442645 trained in 7.3 seconds\n",
            "* Step ensemble will try to check up to 1 model\n",
            "Ensemble logloss 0.427154 trained in 0.84 seconds\n",
            "AutoML fit time: 54.8 seconds\n",
            "AutoML best model: Ensemble\n"
          ]
        }
      ]
    },
    {
      "cell_type": "code",
      "source": [
        "from sklearn.metrics import accuracy_score\n",
        "\n",
        "print(f\"Accuracy: {accuracy_score(y_test, predictions)*100.0:.2f}%\" )"
      ],
      "metadata": {
        "colab": {
          "base_uri": "https://localhost:8080/"
        },
        "id": "8nqD0pl1pnMJ",
        "outputId": "fd7ca7c6-a053-4173-803a-8f7e6cf6bb5a"
      },
      "execution_count": 6,
      "outputs": [
        {
          "output_type": "stream",
          "name": "stdout",
          "text": [
            "Accuracy: 79.77%\n"
          ]
        }
      ]
    },
    {
      "cell_type": "markdown",
      "source": [
        "Save automl model into onnx model is not supported yet"
      ],
      "metadata": {
        "id": "6UYPM8RZrw8E"
      }
    },
    {
      "cell_type": "code",
      "source": [
        "automl.get_leaderboard()"
      ],
      "metadata": {
        "colab": {
          "base_uri": "https://localhost:8080/",
          "height": 269
        },
        "id": "q95cRM2F7Jbz",
        "outputId": "44c8bef3-b5ca-445a-fa00-5bdaa7560d7c"
      },
      "execution_count": 7,
      "outputs": [
        {
          "output_type": "execute_result",
          "data": {
            "text/plain": [
              "                      name      model_type metric_type  metric_value  \\\n",
              "0               1_Baseline        Baseline     logloss      0.670136   \n",
              "1           2_DecisionTree   Decision Tree     logloss      0.516392   \n",
              "2                 3_Linear          Linear     logloss      0.464615   \n",
              "3        4_Default_Xgboost         Xgboost     logloss      0.439622   \n",
              "4  5_Default_NeuralNetwork  Neural Network     logloss      0.528917   \n",
              "5   6_Default_RandomForest   Random Forest     logloss      0.442645   \n",
              "6                 Ensemble        Ensemble     logloss      0.427154   \n",
              "\n",
              "   train_time  \n",
              "0        3.30  \n",
              "1       22.36  \n",
              "2        4.55  \n",
              "3        6.95  \n",
              "4        3.12  \n",
              "5        8.93  \n",
              "6        0.84  "
            ],
            "text/html": [
              "\n",
              "  <div id=\"df-ed8f3a60-0839-4dce-a67e-8e441c1e1ff6\">\n",
              "    <div class=\"colab-df-container\">\n",
              "      <div>\n",
              "<style scoped>\n",
              "    .dataframe tbody tr th:only-of-type {\n",
              "        vertical-align: middle;\n",
              "    }\n",
              "\n",
              "    .dataframe tbody tr th {\n",
              "        vertical-align: top;\n",
              "    }\n",
              "\n",
              "    .dataframe thead th {\n",
              "        text-align: right;\n",
              "    }\n",
              "</style>\n",
              "<table border=\"1\" class=\"dataframe\">\n",
              "  <thead>\n",
              "    <tr style=\"text-align: right;\">\n",
              "      <th></th>\n",
              "      <th>name</th>\n",
              "      <th>model_type</th>\n",
              "      <th>metric_type</th>\n",
              "      <th>metric_value</th>\n",
              "      <th>train_time</th>\n",
              "    </tr>\n",
              "  </thead>\n",
              "  <tbody>\n",
              "    <tr>\n",
              "      <th>0</th>\n",
              "      <td>1_Baseline</td>\n",
              "      <td>Baseline</td>\n",
              "      <td>logloss</td>\n",
              "      <td>0.670136</td>\n",
              "      <td>3.30</td>\n",
              "    </tr>\n",
              "    <tr>\n",
              "      <th>1</th>\n",
              "      <td>2_DecisionTree</td>\n",
              "      <td>Decision Tree</td>\n",
              "      <td>logloss</td>\n",
              "      <td>0.516392</td>\n",
              "      <td>22.36</td>\n",
              "    </tr>\n",
              "    <tr>\n",
              "      <th>2</th>\n",
              "      <td>3_Linear</td>\n",
              "      <td>Linear</td>\n",
              "      <td>logloss</td>\n",
              "      <td>0.464615</td>\n",
              "      <td>4.55</td>\n",
              "    </tr>\n",
              "    <tr>\n",
              "      <th>3</th>\n",
              "      <td>4_Default_Xgboost</td>\n",
              "      <td>Xgboost</td>\n",
              "      <td>logloss</td>\n",
              "      <td>0.439622</td>\n",
              "      <td>6.95</td>\n",
              "    </tr>\n",
              "    <tr>\n",
              "      <th>4</th>\n",
              "      <td>5_Default_NeuralNetwork</td>\n",
              "      <td>Neural Network</td>\n",
              "      <td>logloss</td>\n",
              "      <td>0.528917</td>\n",
              "      <td>3.12</td>\n",
              "    </tr>\n",
              "    <tr>\n",
              "      <th>5</th>\n",
              "      <td>6_Default_RandomForest</td>\n",
              "      <td>Random Forest</td>\n",
              "      <td>logloss</td>\n",
              "      <td>0.442645</td>\n",
              "      <td>8.93</td>\n",
              "    </tr>\n",
              "    <tr>\n",
              "      <th>6</th>\n",
              "      <td>Ensemble</td>\n",
              "      <td>Ensemble</td>\n",
              "      <td>logloss</td>\n",
              "      <td>0.427154</td>\n",
              "      <td>0.84</td>\n",
              "    </tr>\n",
              "  </tbody>\n",
              "</table>\n",
              "</div>\n",
              "      <button class=\"colab-df-convert\" onclick=\"convertToInteractive('df-ed8f3a60-0839-4dce-a67e-8e441c1e1ff6')\"\n",
              "              title=\"Convert this dataframe to an interactive table.\"\n",
              "              style=\"display:none;\">\n",
              "        \n",
              "  <svg xmlns=\"http://www.w3.org/2000/svg\" height=\"24px\"viewBox=\"0 0 24 24\"\n",
              "       width=\"24px\">\n",
              "    <path d=\"M0 0h24v24H0V0z\" fill=\"none\"/>\n",
              "    <path d=\"M18.56 5.44l.94 2.06.94-2.06 2.06-.94-2.06-.94-.94-2.06-.94 2.06-2.06.94zm-11 1L8.5 8.5l.94-2.06 2.06-.94-2.06-.94L8.5 2.5l-.94 2.06-2.06.94zm10 10l.94 2.06.94-2.06 2.06-.94-2.06-.94-.94-2.06-.94 2.06-2.06.94z\"/><path d=\"M17.41 7.96l-1.37-1.37c-.4-.4-.92-.59-1.43-.59-.52 0-1.04.2-1.43.59L10.3 9.45l-7.72 7.72c-.78.78-.78 2.05 0 2.83L4 21.41c.39.39.9.59 1.41.59.51 0 1.02-.2 1.41-.59l7.78-7.78 2.81-2.81c.8-.78.8-2.07 0-2.86zM5.41 20L4 18.59l7.72-7.72 1.47 1.35L5.41 20z\"/>\n",
              "  </svg>\n",
              "      </button>\n",
              "      \n",
              "  <style>\n",
              "    .colab-df-container {\n",
              "      display:flex;\n",
              "      flex-wrap:wrap;\n",
              "      gap: 12px;\n",
              "    }\n",
              "\n",
              "    .colab-df-convert {\n",
              "      background-color: #E8F0FE;\n",
              "      border: none;\n",
              "      border-radius: 50%;\n",
              "      cursor: pointer;\n",
              "      display: none;\n",
              "      fill: #1967D2;\n",
              "      height: 32px;\n",
              "      padding: 0 0 0 0;\n",
              "      width: 32px;\n",
              "    }\n",
              "\n",
              "    .colab-df-convert:hover {\n",
              "      background-color: #E2EBFA;\n",
              "      box-shadow: 0px 1px 2px rgba(60, 64, 67, 0.3), 0px 1px 3px 1px rgba(60, 64, 67, 0.15);\n",
              "      fill: #174EA6;\n",
              "    }\n",
              "\n",
              "    [theme=dark] .colab-df-convert {\n",
              "      background-color: #3B4455;\n",
              "      fill: #D2E3FC;\n",
              "    }\n",
              "\n",
              "    [theme=dark] .colab-df-convert:hover {\n",
              "      background-color: #434B5C;\n",
              "      box-shadow: 0px 1px 3px 1px rgba(0, 0, 0, 0.15);\n",
              "      filter: drop-shadow(0px 1px 2px rgba(0, 0, 0, 0.3));\n",
              "      fill: #FFFFFF;\n",
              "    }\n",
              "  </style>\n",
              "\n",
              "      <script>\n",
              "        const buttonEl =\n",
              "          document.querySelector('#df-ed8f3a60-0839-4dce-a67e-8e441c1e1ff6 button.colab-df-convert');\n",
              "        buttonEl.style.display =\n",
              "          google.colab.kernel.accessAllowed ? 'block' : 'none';\n",
              "\n",
              "        async function convertToInteractive(key) {\n",
              "          const element = document.querySelector('#df-ed8f3a60-0839-4dce-a67e-8e441c1e1ff6');\n",
              "          const dataTable =\n",
              "            await google.colab.kernel.invokeFunction('convertToInteractive',\n",
              "                                                     [key], {});\n",
              "          if (!dataTable) return;\n",
              "\n",
              "          const docLinkHtml = 'Like what you see? Visit the ' +\n",
              "            '<a target=\"_blank\" href=https://colab.research.google.com/notebooks/data_table.ipynb>data table notebook</a>'\n",
              "            + ' to learn more about interactive tables.';\n",
              "          element.innerHTML = '';\n",
              "          dataTable['output_type'] = 'display_data';\n",
              "          await google.colab.output.renderOutput(dataTable, element);\n",
              "          const docLink = document.createElement('div');\n",
              "          docLink.innerHTML = docLinkHtml;\n",
              "          element.appendChild(docLink);\n",
              "        }\n",
              "      </script>\n",
              "    </div>\n",
              "  </div>\n",
              "  "
            ]
          },
          "metadata": {},
          "execution_count": 7
        }
      ]
    },
    {
      "cell_type": "code",
      "source": [
        "selected_models = automl.ensemble.selected_models\n",
        "models = []\n",
        "for model_ in selected_models:\n",
        "  model = model_[\"model\"]\n",
        "  models.append([model.get_name(), model])\n",
        "models"
      ],
      "metadata": {
        "colab": {
          "base_uri": "https://localhost:8080/"
        },
        "id": "AyT4BMlbUyuX",
        "outputId": "4013ae0e-a872-450e-9204-329e285f673c"
      },
      "execution_count": 8,
      "outputs": [
        {
          "output_type": "execute_result",
          "data": {
            "text/plain": [
              "[['2_DecisionTree',\n",
              "  <supervised.model_framework.ModelFramework at 0x7f9c384ff090>],\n",
              " ['3_Linear', <supervised.model_framework.ModelFramework at 0x7f9c332d6a10>],\n",
              " ['4_Default_Xgboost',\n",
              "  <supervised.model_framework.ModelFramework at 0x7f9c3801a250>]]"
            ]
          },
          "metadata": {},
          "execution_count": 8
        }
      ]
    },
    {
      "cell_type": "markdown",
      "source": [
        "Get weights"
      ],
      "metadata": {
        "id": "WjNAUg76SiZp"
      }
    },
    {
      "cell_type": "code",
      "source": [
        "os.chdir(automl_dir)"
      ],
      "metadata": {
        "id": "puh-A5SUNhPz"
      },
      "execution_count": 9,
      "outputs": []
    },
    {
      "cell_type": "code",
      "source": [
        "import glob\n",
        "\n",
        "loaded_model = []\n",
        "for model_name, model in models:\n",
        "  os.chdir(model_name)\n",
        "  \n",
        "  model.load(\"./\", \"\")\n",
        "  os.chdir(\"..\") \n",
        "\n",
        "  loaded_model.append(model)"
      ],
      "metadata": {
        "id": "UnGbjPoVNR4R"
      },
      "execution_count": 10,
      "outputs": []
    },
    {
      "cell_type": "code",
      "source": [
        "import numpy as np\n",
        "\n",
        "for model in loaded_model:\n",
        "  predictions = model.predict(X_test)\n",
        "  predict_cols = predictions.columns\n",
        "  predict_cols = np.asarray([name.split(\"_\")[-1] for name in predict_cols])\n",
        "  predictions = predict_cols[predictions.to_numpy().argmax(axis=-1)]\n",
        "  print(f\"Accuracy: {accuracy_score(y_test, predictions)*100.0:.2f}%\" )"
      ],
      "metadata": {
        "colab": {
          "base_uri": "https://localhost:8080/"
        },
        "id": "N9-AgVrJZbgf",
        "outputId": "c5a323eb-a00a-4327-c969-4a351e514254"
      },
      "execution_count": 11,
      "outputs": [
        {
          "output_type": "stream",
          "name": "stdout",
          "text": [
            "Accuracy: 77.10%\n",
            "Accuracy: 75.57%\n",
            "Accuracy: 78.63%\n"
          ]
        }
      ]
    },
    {
      "cell_type": "markdown",
      "source": [
        "Transform to onnx with ensemble model"
      ],
      "metadata": {
        "id": "GNMK1J7UTiem"
      }
    },
    {
      "cell_type": "code",
      "source": [
        "parsed_models = []\n",
        "\n",
        "for model_detail in models:\n",
        "  name, model = model_detail\n",
        "  preprocessor = model.preprocessings[0]\n",
        "  learner = model.learners[0].model\n",
        "  parsed_models.append((preprocessor, learner))"
      ],
      "metadata": {
        "id": "jGQ-Z1XgpB5d"
      },
      "execution_count": 12,
      "outputs": []
    },
    {
      "cell_type": "code",
      "source": [
        "from sklearn.pipeline import make_pipeline, Pipeline\n",
        "from sklearn.ensemble import StackingClassifier\n",
        "from sklearn.linear_model import LogisticRegression\n",
        "from skl2onnx import update_registered_converter\n",
        "from skl2onnx.common.shape_calculator import (\n",
        "    calculate_linear_classifier_output_shapes,\n",
        "    calculate_linear_regressor_output_shapes)\n",
        "from xgboost import XGBClassifier\n",
        "from onnxmltools.convert.xgboost.operator_converters.XGBoost import (\n",
        "    convert_xgboost)\n",
        "from onnxmltools.convert import convert_xgboost as convert_xgboost_booster\n",
        "\n",
        "\n",
        "preprocessor = parsed_models[0][0]\n",
        "X_train_transformed, y_train_transformed, _ = preprocessor.fit_and_transform(X_train, y_train)\n",
        "X_test_transformed, y_test_transformed, _ = preprocessor.fit_and_transform(X_test, y_test)\n",
        "\n",
        "model_pipelines = []\n",
        "\n",
        "\n",
        "for preprocessor, model in parsed_models:\n",
        "  # preprocessor.fit = preprocessor.fit_and_transform\n",
        "\n",
        "  # # Not a good idea\n",
        "  # def transforms(X_validation):\n",
        "  #   try:\n",
        "  #     return preprocessor.transform(X_validation, y_validation=None)[0]\n",
        "  #   except:\n",
        "  #     return preprocessor.transform(X_validation)\n",
        "  # preprocessor.transform = transforms\n",
        "  if not hasattr(model, \"fit\"):\n",
        "    import xgboost\n",
        "    if isinstance(model, xgboost.core.Booster):\n",
        "      new_model = xgboost.XGBClassifier()\n",
        "      new_model._Booster = model\n",
        "\n",
        "      update_registered_converter(\n",
        "                      XGBClassifier, 'XGBoostXGBClassifier',\n",
        "                      calculate_linear_classifier_output_shapes, convert_xgboost,\n",
        "                      options={'nocl': [True, False], 'zipmap': [True, False, 'columns']})\n",
        "    else:\n",
        "      raise NotImplementedError\n",
        "    assert hasattr(model, \"predict\")# and hasattr(preprocessor, \"fit\") and hasattr(preprocessor, \"transform\")\n",
        "    pipeline = new_model\n",
        "  else:\n",
        "    pipeline = model\n",
        "  model_pipelines.append(pipeline)\n",
        "\n",
        "\n",
        "estimators = [(\"model_\"+str(i), pipeline) for i, pipeline in enumerate(model_pipelines)]\n",
        "\n",
        "stacked_classifier = StackingClassifier(estimators=estimators, \n",
        "            final_estimator=LogisticRegression())\n",
        "\n",
        "pipeline = make_pipeline(stacked_classifier)\n",
        "\n",
        "print(pipeline)\n",
        "print(\"success\")\n",
        "\n",
        "pipeline.fit(X_train_transformed.to_numpy(), y_train_transformed)\n",
        "pipeline.score(X_test_transformed.to_numpy(), y_test_transformed)"
      ],
      "metadata": {
        "id": "uHcxqYFVa78d",
        "colab": {
          "base_uri": "https://localhost:8080/"
        },
        "outputId": "1c9cdf1c-ab14-48b3-d00b-ffd8072b9790"
      },
      "execution_count": 46,
      "outputs": [
        {
          "output_type": "stream",
          "name": "stdout",
          "text": [
            "Pipeline(steps=[('stackingclassifier',\n",
            "                 StackingClassifier(estimators=[('model_0',\n",
            "                                                 DecisionTreeClassifier(max_depth=3,\n",
            "                                                                        random_state=1235)),\n",
            "                                                ('model_1',\n",
            "                                                 LogisticRegression(max_iter=500,\n",
            "                                                                    n_jobs=-1,\n",
            "                                                                    tol=0.0005)),\n",
            "                                                ('model_2',\n",
            "                                                 XGBClassifier(base_score=0.5,\n",
            "                                                               booster='gbtree',\n",
            "                                                               callbacks=None,\n",
            "                                                               colsample_bylevel=1,\n",
            "                                                               colsample_bynode=1,\n",
            "                                                               colsample_bytree=1,\n",
            "                                                               early_stopping_roun...\n",
            "                                                               importance_type=None,\n",
            "                                                               interaction_constraints='',\n",
            "                                                               learning_rate=0.300000012,\n",
            "                                                               max_bin=256,\n",
            "                                                               max_cat_to_onehot=4,\n",
            "                                                               max_delta_step=0,\n",
            "                                                               max_depth=6,\n",
            "                                                               max_leaves=0,\n",
            "                                                               min_child_weight=1,\n",
            "                                                               missing=nan,\n",
            "                                                               monotone_constraints='()',\n",
            "                                                               n_estimators=100,\n",
            "                                                               n_jobs=0,\n",
            "                                                               num_parallel_tree=1,\n",
            "                                                               predictor='auto',\n",
            "                                                               random_state=0,\n",
            "                                                               reg_alpha=0,\n",
            "                                                               reg_lambda=1, ...))],\n",
            "                                    final_estimator=LogisticRegression()))])\n",
            "success\n"
          ]
        },
        {
          "output_type": "execute_result",
          "data": {
            "text/plain": [
              "0.8053435114503816"
            ]
          },
          "metadata": {},
          "execution_count": 46
        }
      ]
    },
    {
      "cell_type": "code",
      "source": [
        "from aimodelshare.aimsonnx import model_to_onnx\n",
        "from skl2onnx import convert_sklearn\n",
        "\n",
        "# Check how many preprocessed input features there are\n",
        "from skl2onnx.common.data_types import FloatTensorType\n",
        "initial_type = [('float_input', FloatTensorType([None, X_train.shape[1]]))]  # Insert correct number of features in preprocessed data\n",
        "\n",
        "onnx_model = convert_sklearn(\n",
        "    pipeline, 'pipeline_ensemble',\n",
        "    initial_type,\n",
        "    target_opset={'': 12, 'ai.onnx.ml': 2})\n",
        "# onnx_model = model_to_onnx(pipeline, framework='sklearn',\n",
        "#               initial_types=initial_type,\n",
        "#               transfer_learning=False, deep_learning=False)\n",
        "\n",
        "with open(\"model.onnx\", \"wb\") as f:\n",
        "    f.write(onnx_model.SerializeToString())"
      ],
      "metadata": {
        "id": "mShSQZggrwVk",
        "colab": {
          "base_uri": "https://localhost:8080/"
        },
        "outputId": "43809305-4a57-44dd-df2b-c15d1f123d58"
      },
      "execution_count": 45,
      "outputs": [
        {
          "output_type": "stream",
          "name": "stdout",
          "text": [
            "[('float_input', FloatTensorType(shape=[None, 5]))]\n"
          ]
        }
      ]
    }
  ]
}