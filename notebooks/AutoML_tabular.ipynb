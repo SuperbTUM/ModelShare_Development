{
  "nbformat": 4,
  "nbformat_minor": 0,
  "metadata": {
    "colab": {
      "provenance": [],
      "collapsed_sections": []
    },
    "kernelspec": {
      "name": "python3",
      "display_name": "Python 3"
    },
    "language_info": {
      "name": "python"
    }
  },
  "cells": [
    {
      "cell_type": "code",
      "execution_count": 13,
      "metadata": {
        "colab": {
          "base_uri": "https://localhost:8080/",
          "height": 1000
        },
        "id": "QP_1B3Njmy4_",
        "outputId": "0accb725-5b70-4507-b0ff-7ac110adf9a9"
      },
      "outputs": [
        {
          "output_type": "stream",
          "name": "stdout",
          "text": [
            "\u001b[31mERROR: pip's dependency resolver does not currently take into account all the packages that are installed. This behaviour is the source of the following dependency conflicts.\n",
            "yellowbrick 1.5 requires scikit-learn>=1.0.0, but you have scikit-learn 0.24.2 which is incompatible.\n",
            "mljar-supervised 0.11.3 requires scikit-learn>=1.0, but you have scikit-learn 0.24.2 which is incompatible.\u001b[0m\n",
            "Looking in indexes: https://pypi.org/simple, https://us-python.pkg.dev/colab-wheels/public/simple/\n",
            "Collecting dabl\n",
            "  Downloading dabl-0.2.4-py3-none-any.whl (563 kB)\n",
            "\u001b[K     |████████████████████████████████| 563 kB 3.9 MB/s \n",
            "\u001b[?25hRequirement already satisfied: seaborn in /usr/local/lib/python3.7/dist-packages (from dabl) (0.11.2)\n",
            "Requirement already satisfied: pandas in /usr/local/lib/python3.7/dist-packages (from dabl) (1.3.5)\n",
            "Requirement already satisfied: numpy in /usr/local/lib/python3.7/dist-packages (from dabl) (1.21.6)\n",
            "Requirement already satisfied: scipy in /usr/local/lib/python3.7/dist-packages (from dabl) (1.7.3)\n",
            "Collecting matplotlib>=3.4\n",
            "  Downloading matplotlib-3.5.3-cp37-cp37m-manylinux_2_5_x86_64.manylinux1_x86_64.whl (11.2 MB)\n",
            "\u001b[K     |████████████████████████████████| 11.2 MB 37.5 MB/s \n",
            "\u001b[?25hCollecting scikit-learn>=1.0\n",
            "  Using cached scikit_learn-1.0.2-cp37-cp37m-manylinux_2_17_x86_64.manylinux2014_x86_64.whl (24.8 MB)\n",
            "Requirement already satisfied: python-dateutil>=2.7 in /usr/local/lib/python3.7/dist-packages (from matplotlib>=3.4->dabl) (2.8.2)\n",
            "Requirement already satisfied: packaging>=20.0 in /usr/local/lib/python3.7/dist-packages (from matplotlib>=3.4->dabl) (21.3)\n",
            "Requirement already satisfied: cycler>=0.10 in /usr/local/lib/python3.7/dist-packages (from matplotlib>=3.4->dabl) (0.11.0)\n",
            "Collecting fonttools>=4.22.0\n",
            "  Downloading fonttools-4.38.0-py3-none-any.whl (965 kB)\n",
            "\u001b[K     |████████████████████████████████| 965 kB 41.5 MB/s \n",
            "\u001b[?25hRequirement already satisfied: pillow>=6.2.0 in /usr/local/lib/python3.7/dist-packages (from matplotlib>=3.4->dabl) (7.1.2)\n",
            "Requirement already satisfied: pyparsing>=2.2.1 in /usr/local/lib/python3.7/dist-packages (from matplotlib>=3.4->dabl) (3.0.9)\n",
            "Requirement already satisfied: kiwisolver>=1.0.1 in /usr/local/lib/python3.7/dist-packages (from matplotlib>=3.4->dabl) (1.4.4)\n",
            "Requirement already satisfied: typing-extensions in /usr/local/lib/python3.7/dist-packages (from kiwisolver>=1.0.1->matplotlib>=3.4->dabl) (4.1.1)\n",
            "Requirement already satisfied: six>=1.5 in /usr/local/lib/python3.7/dist-packages (from python-dateutil>=2.7->matplotlib>=3.4->dabl) (1.15.0)\n",
            "Requirement already satisfied: joblib>=0.11 in /usr/local/lib/python3.7/dist-packages (from scikit-learn>=1.0->dabl) (1.2.0)\n",
            "Requirement already satisfied: threadpoolctl>=2.0.0 in /usr/local/lib/python3.7/dist-packages (from scikit-learn>=1.0->dabl) (3.1.0)\n",
            "Requirement already satisfied: pytz>=2017.3 in /usr/local/lib/python3.7/dist-packages (from pandas->dabl) (2022.6)\n",
            "Installing collected packages: fonttools, matplotlib, scikit-learn, dabl\n",
            "  Attempting uninstall: matplotlib\n",
            "    Found existing installation: matplotlib 3.2.2\n",
            "    Uninstalling matplotlib-3.2.2:\n",
            "      Successfully uninstalled matplotlib-3.2.2\n",
            "  Attempting uninstall: scikit-learn\n",
            "    Found existing installation: scikit-learn 0.24.2\n",
            "    Uninstalling scikit-learn-0.24.2:\n",
            "      Successfully uninstalled scikit-learn-0.24.2\n",
            "\u001b[31mERROR: pip's dependency resolver does not currently take into account all the packages that are installed. This behaviour is the source of the following dependency conflicts.\n",
            "aimodelshare 0.0.141 requires scikit-learn==0.24.2, but you have scikit-learn 1.0.2 which is incompatible.\u001b[0m\n",
            "Successfully installed dabl-0.2.4 fonttools-4.38.0 matplotlib-3.5.3 scikit-learn-1.0.2\n"
          ]
        },
        {
          "output_type": "display_data",
          "data": {
            "application/vnd.colab-display-data+json": {
              "pip_warning": {
                "packages": [
                  "matplotlib",
                  "mpl_toolkits",
                  "sklearn"
                ]
              }
            }
          },
          "metadata": {}
        },
        {
          "output_type": "stream",
          "name": "stdout",
          "text": [
            "Looking in indexes: https://pypi.org/simple, https://us-python.pkg.dev/colab-wheels/public/simple/\n",
            "Requirement already satisfied: mljar-supervised in /usr/local/lib/python3.7/dist-packages (0.11.3)\n",
            "Requirement already satisfied: matplotlib>=3.2.2 in /usr/local/lib/python3.7/dist-packages (from mljar-supervised) (3.5.3)\n",
            "Requirement already satisfied: category-encoders>=2.2.2 in /usr/local/lib/python3.7/dist-packages (from mljar-supervised) (2.5.1.post0)\n",
            "Requirement already satisfied: scipy>=1.6.1 in /usr/local/lib/python3.7/dist-packages (from mljar-supervised) (1.7.3)\n",
            "Requirement already satisfied: seaborn>=0.11.1 in /usr/local/lib/python3.7/dist-packages (from mljar-supervised) (0.11.2)\n",
            "Requirement already satisfied: tabulate>=0.8.7 in /usr/local/lib/python3.7/dist-packages (from mljar-supervised) (0.8.10)\n",
            "Requirement already satisfied: typing-extensions in /usr/local/lib/python3.7/dist-packages (from mljar-supervised) (4.1.1)\n",
            "Requirement already satisfied: dtreeviz>=1.3.3 in /usr/local/lib/python3.7/dist-packages (from mljar-supervised) (1.4.0)\n",
            "Requirement already satisfied: wordcloud>=1.8.1 in /usr/local/lib/python3.7/dist-packages (from mljar-supervised) (1.8.2.2)\n",
            "Requirement already satisfied: scikit-plot==0.3.7 in /usr/local/lib/python3.7/dist-packages (from mljar-supervised) (0.3.7)\n",
            "Requirement already satisfied: optuna>=2.7.0 in /usr/local/lib/python3.7/dist-packages (from mljar-supervised) (3.0.3)\n",
            "Requirement already satisfied: catboost>=0.24.4 in /usr/local/lib/python3.7/dist-packages (from mljar-supervised) (1.1.1)\n",
            "Requirement already satisfied: markdown in /usr/local/lib/python3.7/dist-packages (from mljar-supervised) (3.4.1)\n",
            "Requirement already satisfied: lightgbm>=3.0.0 in /usr/local/lib/python3.7/dist-packages (from mljar-supervised) (3.3.3)\n",
            "Requirement already satisfied: joblib>=1.0.1 in /usr/local/lib/python3.7/dist-packages (from mljar-supervised) (1.2.0)\n",
            "Requirement already satisfied: scikit-learn>=1.0 in /usr/local/lib/python3.7/dist-packages (from mljar-supervised) (1.0.2)\n",
            "Requirement already satisfied: xgboost>=1.3.3 in /usr/local/lib/python3.7/dist-packages (from mljar-supervised) (1.6.2)\n",
            "Requirement already satisfied: shap>=0.36.0 in /usr/local/lib/python3.7/dist-packages (from mljar-supervised) (0.41.0)\n",
            "Requirement already satisfied: numpy>=1.19.5 in /usr/local/lib/python3.7/dist-packages (from mljar-supervised) (1.21.6)\n",
            "Requirement already satisfied: pandas>=1.2.0 in /usr/local/lib/python3.7/dist-packages (from mljar-supervised) (1.3.5)\n",
            "Requirement already satisfied: graphviz in /usr/local/lib/python3.7/dist-packages (from catboost>=0.24.4->mljar-supervised) (0.10.1)\n",
            "Requirement already satisfied: plotly in /usr/local/lib/python3.7/dist-packages (from catboost>=0.24.4->mljar-supervised) (5.5.0)\n",
            "Requirement already satisfied: six in /usr/local/lib/python3.7/dist-packages (from catboost>=0.24.4->mljar-supervised) (1.15.0)\n",
            "Requirement already satisfied: patsy>=0.5.1 in /usr/local/lib/python3.7/dist-packages (from category-encoders>=2.2.2->mljar-supervised) (0.5.3)\n",
            "Requirement already satisfied: statsmodels>=0.9.0 in /usr/local/lib/python3.7/dist-packages (from category-encoders>=2.2.2->mljar-supervised) (0.12.2)\n",
            "Requirement already satisfied: pytest in /usr/local/lib/python3.7/dist-packages (from dtreeviz>=1.3.3->mljar-supervised) (3.6.4)\n",
            "Requirement already satisfied: colour in /usr/local/lib/python3.7/dist-packages (from dtreeviz>=1.3.3->mljar-supervised) (0.1.5)\n",
            "Requirement already satisfied: wheel in /usr/local/lib/python3.7/dist-packages (from lightgbm>=3.0.0->mljar-supervised) (0.38.1)\n",
            "Requirement already satisfied: kiwisolver>=1.0.1 in /usr/local/lib/python3.7/dist-packages (from matplotlib>=3.2.2->mljar-supervised) (1.4.4)\n",
            "Requirement already satisfied: pillow>=6.2.0 in /usr/local/lib/python3.7/dist-packages (from matplotlib>=3.2.2->mljar-supervised) (7.1.2)\n",
            "Requirement already satisfied: pyparsing>=2.2.1 in /usr/local/lib/python3.7/dist-packages (from matplotlib>=3.2.2->mljar-supervised) (3.0.9)\n",
            "Requirement already satisfied: packaging>=20.0 in /usr/local/lib/python3.7/dist-packages (from matplotlib>=3.2.2->mljar-supervised) (21.3)\n",
            "Requirement already satisfied: cycler>=0.10 in /usr/local/lib/python3.7/dist-packages (from matplotlib>=3.2.2->mljar-supervised) (0.11.0)\n",
            "Requirement already satisfied: fonttools>=4.22.0 in /usr/local/lib/python3.7/dist-packages (from matplotlib>=3.2.2->mljar-supervised) (4.38.0)\n",
            "Requirement already satisfied: python-dateutil>=2.7 in /usr/local/lib/python3.7/dist-packages (from matplotlib>=3.2.2->mljar-supervised) (2.8.2)\n",
            "Requirement already satisfied: PyYAML in /usr/local/lib/python3.7/dist-packages (from optuna>=2.7.0->mljar-supervised) (6.0)\n",
            "Requirement already satisfied: cliff in /usr/local/lib/python3.7/dist-packages (from optuna>=2.7.0->mljar-supervised) (3.10.1)\n",
            "Requirement already satisfied: sqlalchemy>=1.3.0 in /usr/local/lib/python3.7/dist-packages (from optuna>=2.7.0->mljar-supervised) (1.4.42)\n",
            "Requirement already satisfied: importlib-metadata<5.0.0 in /usr/local/lib/python3.7/dist-packages (from optuna>=2.7.0->mljar-supervised) (4.13.0)\n",
            "Requirement already satisfied: colorlog in /usr/local/lib/python3.7/dist-packages (from optuna>=2.7.0->mljar-supervised) (6.7.0)\n",
            "Requirement already satisfied: cmaes>=0.8.2 in /usr/local/lib/python3.7/dist-packages (from optuna>=2.7.0->mljar-supervised) (0.9.0)\n",
            "Requirement already satisfied: tqdm in /usr/local/lib/python3.7/dist-packages (from optuna>=2.7.0->mljar-supervised) (4.64.1)\n",
            "Requirement already satisfied: alembic>=1.5.0 in /usr/local/lib/python3.7/dist-packages (from optuna>=2.7.0->mljar-supervised) (1.8.1)\n",
            "Requirement already satisfied: Mako in /usr/local/lib/python3.7/dist-packages (from alembic>=1.5.0->optuna>=2.7.0->mljar-supervised) (1.2.3)\n",
            "Requirement already satisfied: importlib-resources in /usr/local/lib/python3.7/dist-packages (from alembic>=1.5.0->optuna>=2.7.0->mljar-supervised) (5.10.0)\n",
            "Requirement already satisfied: zipp>=0.5 in /usr/local/lib/python3.7/dist-packages (from importlib-metadata<5.0.0->optuna>=2.7.0->mljar-supervised) (3.10.0)\n",
            "Requirement already satisfied: pytz>=2017.3 in /usr/local/lib/python3.7/dist-packages (from pandas>=1.2.0->mljar-supervised) (2022.6)\n",
            "Requirement already satisfied: threadpoolctl>=2.0.0 in /usr/local/lib/python3.7/dist-packages (from scikit-learn>=1.0->mljar-supervised) (3.1.0)\n",
            "Requirement already satisfied: slicer==0.0.7 in /usr/local/lib/python3.7/dist-packages (from shap>=0.36.0->mljar-supervised) (0.0.7)\n",
            "Requirement already satisfied: numba in /usr/local/lib/python3.7/dist-packages (from shap>=0.36.0->mljar-supervised) (0.56.4)\n",
            "Requirement already satisfied: cloudpickle in /usr/local/lib/python3.7/dist-packages (from shap>=0.36.0->mljar-supervised) (1.5.0)\n",
            "Requirement already satisfied: greenlet!=0.4.17 in /usr/local/lib/python3.7/dist-packages (from sqlalchemy>=1.3.0->optuna>=2.7.0->mljar-supervised) (2.0.0.post0)\n",
            "Requirement already satisfied: PrettyTable>=0.7.2 in /usr/local/lib/python3.7/dist-packages (from cliff->optuna>=2.7.0->mljar-supervised) (3.5.0)\n",
            "Requirement already satisfied: stevedore>=2.0.1 in /usr/local/lib/python3.7/dist-packages (from cliff->optuna>=2.7.0->mljar-supervised) (3.5.2)\n",
            "Requirement already satisfied: pbr!=2.1.0,>=2.0.0 in /usr/local/lib/python3.7/dist-packages (from cliff->optuna>=2.7.0->mljar-supervised) (5.11.0)\n",
            "Requirement already satisfied: cmd2>=1.0.0 in /usr/local/lib/python3.7/dist-packages (from cliff->optuna>=2.7.0->mljar-supervised) (2.4.2)\n",
            "Requirement already satisfied: autopage>=0.4.0 in /usr/local/lib/python3.7/dist-packages (from cliff->optuna>=2.7.0->mljar-supervised) (0.5.1)\n",
            "Requirement already satisfied: wcwidth>=0.1.7 in /usr/local/lib/python3.7/dist-packages (from cmd2>=1.0.0->cliff->optuna>=2.7.0->mljar-supervised) (0.2.5)\n",
            "Requirement already satisfied: attrs>=16.3.0 in /usr/local/lib/python3.7/dist-packages (from cmd2>=1.0.0->cliff->optuna>=2.7.0->mljar-supervised) (22.1.0)\n",
            "Requirement already satisfied: pyperclip>=1.6 in /usr/local/lib/python3.7/dist-packages (from cmd2>=1.0.0->cliff->optuna>=2.7.0->mljar-supervised) (1.8.2)\n",
            "Requirement already satisfied: MarkupSafe>=0.9.2 in /usr/local/lib/python3.7/dist-packages (from Mako->alembic>=1.5.0->optuna>=2.7.0->mljar-supervised) (2.0.1)\n",
            "Requirement already satisfied: setuptools in /usr/local/lib/python3.7/dist-packages (from numba->shap>=0.36.0->mljar-supervised) (57.4.0)\n",
            "Requirement already satisfied: llvmlite<0.40,>=0.39.0dev0 in /usr/local/lib/python3.7/dist-packages (from numba->shap>=0.36.0->mljar-supervised) (0.39.1)\n",
            "Requirement already satisfied: tenacity>=6.2.0 in /usr/local/lib/python3.7/dist-packages (from plotly->catboost>=0.24.4->mljar-supervised) (8.1.0)\n",
            "Requirement already satisfied: py>=1.5.0 in /usr/local/lib/python3.7/dist-packages (from pytest->dtreeviz>=1.3.3->mljar-supervised) (1.11.0)\n",
            "Requirement already satisfied: more-itertools>=4.0.0 in /usr/local/lib/python3.7/dist-packages (from pytest->dtreeviz>=1.3.3->mljar-supervised) (9.0.0)\n",
            "Requirement already satisfied: atomicwrites>=1.0 in /usr/local/lib/python3.7/dist-packages (from pytest->dtreeviz>=1.3.3->mljar-supervised) (1.4.1)\n",
            "Requirement already satisfied: pluggy<0.8,>=0.5 in /usr/local/lib/python3.7/dist-packages (from pytest->dtreeviz>=1.3.3->mljar-supervised) (0.7.1)\n"
          ]
        }
      ],
      "source": [
        "!pip install aimodelshare --upgrade -q\n",
        "!pip install dabl\n",
        "!pip install mljar-supervised"
      ]
    },
    {
      "cell_type": "code",
      "source": [
        "import aimodelshare as ai\n",
        "import dabl\n",
        "import numpy as np\n",
        "import pandas as pd\n",
        "\n",
        "X_train, X_test, y_train, y_test, example_data, y_test_labels = ai.import_quickstart_data(\"titanic\")\n",
        "\n",
        "types = dabl.detect_types(X_train)\n",
        "indices = list(types.index)\n",
        "names = types.columns.to_numpy()\n",
        "types = types.to_numpy()\n",
        "\n",
        "d = dict()\n",
        "for index, tpes in zip(indices, types):\n",
        "  for name, tpe in zip(names, tpes):\n",
        "    if tpe:\n",
        "      d[index] = name\n",
        "  \n",
        "X_train_processed = dabl.clean(X_train, type_hints=d)\n",
        "X_test_processed = dabl.clean(X_test, type_hints=d)\n",
        "\n",
        "preprocessor = dabl.EasyPreprocessor()\n",
        "preprocessor.fit(X_train_processed)\n",
        "X_train_processed = preprocessor.transform(X_train_processed)\n",
        "preprocessor.fit(X_test_processed)\n",
        "X_test_processed = preprocessor.transform(X_test_processed)\n",
        "\n",
        "y_train_labels_processed = np.asarray(list(map(lambda x: 0 if x == y_test_labels[0] else 1, y_train))).reshape(len(X_train), 1)\n",
        "y_test_labels_processed = np.asarray(list(map(lambda x: 0 if x == y_test_labels[0] else 1, y_test)))\n",
        "\n",
        "titanic = pd.DataFrame(np.concatenate((X_train_processed, y_train_labels_processed), axis=1), columns=[\"feature_\" + str(i) for i in range(X_train_processed.shape[1])] + [\"classification\"])\n",
        "ec = dabl.SimpleClassifier(random_state=0).fit(titanic, target_col=\"classification\")"
      ],
      "metadata": {
        "colab": {
          "base_uri": "https://localhost:8080/"
        },
        "id": "bYxRlOCSr_Ad",
        "outputId": "628c1616-afe4-4dcb-f288-1e8e565fa9a9"
      },
      "execution_count": 53,
      "outputs": [
        {
          "output_type": "stream",
          "name": "stdout",
          "text": [
            "Downloading [===>                                             ]\n",
            "\n",
            "Data downloaded successfully.\n",
            "\n",
            "Preparing downloaded files for use...\n",
            "\n",
            "Success! Your Quick Start materials have been downloaded. \n",
            "You are now ready to run the tutorial.\n",
            "Running DummyClassifier(random_state=0)\n",
            "accuracy: 0.617 average_precision: 0.383 roc_auc: 0.500 recall_macro: 0.500 f1_macro: 0.382\n",
            "=== new best DummyClassifier(random_state=0) (using recall_macro):\n",
            "accuracy: 0.617 average_precision: 0.383 roc_auc: 0.500 recall_macro: 0.500 f1_macro: 0.382\n",
            "\n",
            "Running GaussianNB()\n",
            "accuracy: 0.775 average_precision: 0.780 roc_auc: 0.828 recall_macro: 0.770 f1_macro: 0.765\n",
            "=== new best GaussianNB() (using recall_macro):\n",
            "accuracy: 0.775 average_precision: 0.780 roc_auc: 0.828 recall_macro: 0.770 f1_macro: 0.765\n",
            "\n",
            "Running MultinomialNB()\n",
            "accuracy: 0.777 average_precision: 0.817 roc_auc: 0.836 recall_macro: 0.770 f1_macro: 0.766\n",
            "=== new best MultinomialNB() (using recall_macro):\n",
            "accuracy: 0.777 average_precision: 0.817 roc_auc: 0.836 recall_macro: 0.770 f1_macro: 0.766\n",
            "\n",
            "Running DecisionTreeClassifier(class_weight='balanced', max_depth=1, random_state=0)\n",
            "accuracy: 0.790 average_precision: 0.634 roc_auc: 0.771 recall_macro: 0.771 f1_macro: 0.774\n",
            "=== new best DecisionTreeClassifier(class_weight='balanced', max_depth=1, random_state=0) (using recall_macro):\n",
            "accuracy: 0.790 average_precision: 0.634 roc_auc: 0.771 recall_macro: 0.771 f1_macro: 0.774\n",
            "\n",
            "Running DecisionTreeClassifier(class_weight='balanced', max_depth=5, random_state=0)\n",
            "accuracy: 0.789 average_precision: 0.792 roc_auc: 0.842 recall_macro: 0.780 f1_macro: 0.778\n",
            "=== new best DecisionTreeClassifier(class_weight='balanced', max_depth=5, random_state=0) (using recall_macro):\n",
            "accuracy: 0.789 average_precision: 0.792 roc_auc: 0.842 recall_macro: 0.780 f1_macro: 0.778\n",
            "\n",
            "Running DecisionTreeClassifier(class_weight='balanced', min_impurity_decrease=0.01,\n",
            "                       random_state=0)\n",
            "accuracy: 0.800 average_precision: 0.764 roc_auc: 0.834 recall_macro: 0.790 f1_macro: 0.789\n",
            "=== new best DecisionTreeClassifier(class_weight='balanced', min_impurity_decrease=0.01,\n",
            "                       random_state=0) (using recall_macro):\n",
            "accuracy: 0.800 average_precision: 0.764 roc_auc: 0.834 recall_macro: 0.790 f1_macro: 0.789\n",
            "\n",
            "Running LogisticRegression(C=0.1, class_weight='balanced', max_iter=1000,\n",
            "                   random_state=0)\n",
            "accuracy: 0.780 average_precision: 0.813 roc_auc: 0.842 recall_macro: 0.774 f1_macro: 0.770\n",
            "Running LogisticRegression(C=1, class_weight='balanced', max_iter=1000, random_state=0)\n",
            "accuracy: 0.771 average_precision: 0.814 roc_auc: 0.842 recall_macro: 0.768 f1_macro: 0.762\n",
            "\n",
            "Best model:\n",
            "DecisionTreeClassifier(class_weight='balanced', min_impurity_decrease=0.01,\n",
            "                       random_state=0)\n",
            "Best Scores:\n",
            "accuracy: 0.800 average_precision: 0.764 roc_auc: 0.834 recall_macro: 0.790 f1_macro: 0.789\n"
          ]
        }
      ]
    },
    {
      "cell_type": "markdown",
      "source": [
        "Seems that dabl does not include xgboost, lightgbm...try another automl lib instead\n",
        "\n",
        "Default algos: catboost, xgboost, random forest, lightgbm...\n",
        "\n",
        "Automatically test all possible models by setting mode to 'Compete'"
      ],
      "metadata": {
        "id": "IoCgoPNvnXcD"
      }
    },
    {
      "cell_type": "code",
      "source": [
        "import os\n",
        "import shutil\n",
        "automl_dir = \"AutoML_classifier\"\n",
        "if os.path.exists(automl_dir):\n",
        "    shutil.rmtree(automl_dir)"
      ],
      "metadata": {
        "id": "e1HvsG2lqc-9"
      },
      "execution_count": null,
      "outputs": []
    },
    {
      "cell_type": "code",
      "source": [
        "import aimodelshare as ai\n",
        "from supervised.automl import AutoML\n",
        "\n",
        "X_train, X_test, y_train, y_test, example_data, y_test_labels = ai.import_quickstart_data(\"titanic\")\n",
        "\n",
        "# automl = AutoML(results_path=automl_dir, mode=\"Compete\")\n",
        "automl = AutoML(results_path=automl_dir)#, mode=\"Compete\")\n",
        "automl.fit(X_train, y_train)\n",
        "\n",
        "predictions = automl.predict(X_test)"
      ],
      "metadata": {
        "colab": {
          "base_uri": "https://localhost:8080/"
        },
        "id": "cbrt5IB6m1w3",
        "outputId": "c5bdc4e6-e24a-418e-ae31-451981900168"
      },
      "execution_count": null,
      "outputs": [
        {
          "output_type": "stream",
          "name": "stdout",
          "text": [
            "Downloading [===>                                             ]\n",
            "\n",
            "Data downloaded successfully.\n",
            "\n",
            "Preparing downloaded files for use...\n",
            "\n",
            "Success! Your Quick Start materials have been downloaded. \n",
            "You are now ready to run the tutorial.\n",
            "AutoML directory: AutoML_classifier\n",
            "The task is binary_classification with evaluation metric logloss\n",
            "AutoML will use algorithms: ['Baseline', 'Linear', 'Decision Tree', 'Random Forest', 'Xgboost', 'Neural Network']\n",
            "AutoML will ensemble available models\n",
            "AutoML steps: ['simple_algorithms', 'default_algorithms', 'ensemble']\n",
            "* Step simple_algorithms will try to check up to 3 models\n",
            "1_Baseline logloss 0.663015 trained in 1.17 seconds\n"
          ]
        },
        {
          "output_type": "stream",
          "name": "stderr",
          "text": [
            "WARNING:matplotlib.font_manager:findfont: Font family ['Arial'] not found. Falling back to DejaVu Sans.\n",
            "WARNING:matplotlib.font_manager:findfont: Font family ['Arial'] not found. Falling back to DejaVu Sans.\n",
            "WARNING:matplotlib.font_manager:findfont: Font family ['Arial'] not found. Falling back to DejaVu Sans.\n",
            "WARNING:matplotlib.font_manager:findfont: Font family ['Arial'] not found. Falling back to DejaVu Sans.\n"
          ]
        },
        {
          "output_type": "stream",
          "name": "stdout",
          "text": [
            "2_DecisionTree logloss 0.519159 trained in 17.96 seconds\n",
            "3_Linear logloss 0.524437 trained in 3.24 seconds\n",
            "* Step default_algorithms will try to check up to 3 models\n",
            "4_Default_Xgboost logloss 0.492153 trained in 5.04 seconds\n",
            "5_Default_NeuralNetwork logloss 0.5878 trained in 1.6 seconds\n",
            "6_Default_RandomForest logloss 0.527079 trained in 6.56 seconds\n",
            "* Step ensemble will try to check up to 1 model\n",
            "Ensemble logloss 0.489899 trained in 0.58 seconds\n",
            "AutoML fit time: 49.81 seconds\n",
            "AutoML best model: Ensemble\n"
          ]
        }
      ]
    },
    {
      "cell_type": "code",
      "source": [
        "from sklearn.metrics import accuracy_score\n",
        "\n",
        "print(f\"Accuracy: {accuracy_score(y_test, predictions)*100.0:.2f}%\" )"
      ],
      "metadata": {
        "colab": {
          "base_uri": "https://localhost:8080/"
        },
        "id": "8nqD0pl1pnMJ",
        "outputId": "0cad6e5c-a01b-4d89-dbc7-89c8c7ce88eb"
      },
      "execution_count": null,
      "outputs": [
        {
          "output_type": "stream",
          "name": "stdout",
          "text": [
            "Accuracy: 80.15%\n"
          ]
        }
      ]
    },
    {
      "cell_type": "markdown",
      "source": [
        "Save automl model into onnx model is not supported yet"
      ],
      "metadata": {
        "id": "6UYPM8RZrw8E"
      }
    },
    {
      "cell_type": "code",
      "source": [
        "automl.get_leaderboard()"
      ],
      "metadata": {
        "colab": {
          "base_uri": "https://localhost:8080/",
          "height": 269
        },
        "id": "q95cRM2F7Jbz",
        "outputId": "055e5c88-b338-43a5-b63b-0cf8ff803180"
      },
      "execution_count": null,
      "outputs": [
        {
          "output_type": "execute_result",
          "data": {
            "text/plain": [
              "                      name      model_type metric_type  metric_value  \\\n",
              "0               1_Baseline        Baseline     logloss      0.663015   \n",
              "1           2_DecisionTree   Decision Tree     logloss      0.519159   \n",
              "2                 3_Linear          Linear     logloss      0.524437   \n",
              "3        4_Default_Xgboost         Xgboost     logloss      0.492153   \n",
              "4  5_Default_NeuralNetwork  Neural Network     logloss      0.587800   \n",
              "5   6_Default_RandomForest   Random Forest     logloss      0.527079   \n",
              "6                 Ensemble        Ensemble     logloss      0.489899   \n",
              "\n",
              "   train_time  \n",
              "0        3.14  \n",
              "1       19.33  \n",
              "2        4.63  \n",
              "3        6.48  \n",
              "4        2.84  \n",
              "5        8.01  \n",
              "6        0.58  "
            ],
            "text/html": [
              "\n",
              "  <div id=\"df-f6cba410-0028-40cc-b396-8e8aef0c7dc1\">\n",
              "    <div class=\"colab-df-container\">\n",
              "      <div>\n",
              "<style scoped>\n",
              "    .dataframe tbody tr th:only-of-type {\n",
              "        vertical-align: middle;\n",
              "    }\n",
              "\n",
              "    .dataframe tbody tr th {\n",
              "        vertical-align: top;\n",
              "    }\n",
              "\n",
              "    .dataframe thead th {\n",
              "        text-align: right;\n",
              "    }\n",
              "</style>\n",
              "<table border=\"1\" class=\"dataframe\">\n",
              "  <thead>\n",
              "    <tr style=\"text-align: right;\">\n",
              "      <th></th>\n",
              "      <th>name</th>\n",
              "      <th>model_type</th>\n",
              "      <th>metric_type</th>\n",
              "      <th>metric_value</th>\n",
              "      <th>train_time</th>\n",
              "    </tr>\n",
              "  </thead>\n",
              "  <tbody>\n",
              "    <tr>\n",
              "      <th>0</th>\n",
              "      <td>1_Baseline</td>\n",
              "      <td>Baseline</td>\n",
              "      <td>logloss</td>\n",
              "      <td>0.663015</td>\n",
              "      <td>3.14</td>\n",
              "    </tr>\n",
              "    <tr>\n",
              "      <th>1</th>\n",
              "      <td>2_DecisionTree</td>\n",
              "      <td>Decision Tree</td>\n",
              "      <td>logloss</td>\n",
              "      <td>0.519159</td>\n",
              "      <td>19.33</td>\n",
              "    </tr>\n",
              "    <tr>\n",
              "      <th>2</th>\n",
              "      <td>3_Linear</td>\n",
              "      <td>Linear</td>\n",
              "      <td>logloss</td>\n",
              "      <td>0.524437</td>\n",
              "      <td>4.63</td>\n",
              "    </tr>\n",
              "    <tr>\n",
              "      <th>3</th>\n",
              "      <td>4_Default_Xgboost</td>\n",
              "      <td>Xgboost</td>\n",
              "      <td>logloss</td>\n",
              "      <td>0.492153</td>\n",
              "      <td>6.48</td>\n",
              "    </tr>\n",
              "    <tr>\n",
              "      <th>4</th>\n",
              "      <td>5_Default_NeuralNetwork</td>\n",
              "      <td>Neural Network</td>\n",
              "      <td>logloss</td>\n",
              "      <td>0.587800</td>\n",
              "      <td>2.84</td>\n",
              "    </tr>\n",
              "    <tr>\n",
              "      <th>5</th>\n",
              "      <td>6_Default_RandomForest</td>\n",
              "      <td>Random Forest</td>\n",
              "      <td>logloss</td>\n",
              "      <td>0.527079</td>\n",
              "      <td>8.01</td>\n",
              "    </tr>\n",
              "    <tr>\n",
              "      <th>6</th>\n",
              "      <td>Ensemble</td>\n",
              "      <td>Ensemble</td>\n",
              "      <td>logloss</td>\n",
              "      <td>0.489899</td>\n",
              "      <td>0.58</td>\n",
              "    </tr>\n",
              "  </tbody>\n",
              "</table>\n",
              "</div>\n",
              "      <button class=\"colab-df-convert\" onclick=\"convertToInteractive('df-f6cba410-0028-40cc-b396-8e8aef0c7dc1')\"\n",
              "              title=\"Convert this dataframe to an interactive table.\"\n",
              "              style=\"display:none;\">\n",
              "        \n",
              "  <svg xmlns=\"http://www.w3.org/2000/svg\" height=\"24px\"viewBox=\"0 0 24 24\"\n",
              "       width=\"24px\">\n",
              "    <path d=\"M0 0h24v24H0V0z\" fill=\"none\"/>\n",
              "    <path d=\"M18.56 5.44l.94 2.06.94-2.06 2.06-.94-2.06-.94-.94-2.06-.94 2.06-2.06.94zm-11 1L8.5 8.5l.94-2.06 2.06-.94-2.06-.94L8.5 2.5l-.94 2.06-2.06.94zm10 10l.94 2.06.94-2.06 2.06-.94-2.06-.94-.94-2.06-.94 2.06-2.06.94z\"/><path d=\"M17.41 7.96l-1.37-1.37c-.4-.4-.92-.59-1.43-.59-.52 0-1.04.2-1.43.59L10.3 9.45l-7.72 7.72c-.78.78-.78 2.05 0 2.83L4 21.41c.39.39.9.59 1.41.59.51 0 1.02-.2 1.41-.59l7.78-7.78 2.81-2.81c.8-.78.8-2.07 0-2.86zM5.41 20L4 18.59l7.72-7.72 1.47 1.35L5.41 20z\"/>\n",
              "  </svg>\n",
              "      </button>\n",
              "      \n",
              "  <style>\n",
              "    .colab-df-container {\n",
              "      display:flex;\n",
              "      flex-wrap:wrap;\n",
              "      gap: 12px;\n",
              "    }\n",
              "\n",
              "    .colab-df-convert {\n",
              "      background-color: #E8F0FE;\n",
              "      border: none;\n",
              "      border-radius: 50%;\n",
              "      cursor: pointer;\n",
              "      display: none;\n",
              "      fill: #1967D2;\n",
              "      height: 32px;\n",
              "      padding: 0 0 0 0;\n",
              "      width: 32px;\n",
              "    }\n",
              "\n",
              "    .colab-df-convert:hover {\n",
              "      background-color: #E2EBFA;\n",
              "      box-shadow: 0px 1px 2px rgba(60, 64, 67, 0.3), 0px 1px 3px 1px rgba(60, 64, 67, 0.15);\n",
              "      fill: #174EA6;\n",
              "    }\n",
              "\n",
              "    [theme=dark] .colab-df-convert {\n",
              "      background-color: #3B4455;\n",
              "      fill: #D2E3FC;\n",
              "    }\n",
              "\n",
              "    [theme=dark] .colab-df-convert:hover {\n",
              "      background-color: #434B5C;\n",
              "      box-shadow: 0px 1px 3px 1px rgba(0, 0, 0, 0.15);\n",
              "      filter: drop-shadow(0px 1px 2px rgba(0, 0, 0, 0.3));\n",
              "      fill: #FFFFFF;\n",
              "    }\n",
              "  </style>\n",
              "\n",
              "      <script>\n",
              "        const buttonEl =\n",
              "          document.querySelector('#df-f6cba410-0028-40cc-b396-8e8aef0c7dc1 button.colab-df-convert');\n",
              "        buttonEl.style.display =\n",
              "          google.colab.kernel.accessAllowed ? 'block' : 'none';\n",
              "\n",
              "        async function convertToInteractive(key) {\n",
              "          const element = document.querySelector('#df-f6cba410-0028-40cc-b396-8e8aef0c7dc1');\n",
              "          const dataTable =\n",
              "            await google.colab.kernel.invokeFunction('convertToInteractive',\n",
              "                                                     [key], {});\n",
              "          if (!dataTable) return;\n",
              "\n",
              "          const docLinkHtml = 'Like what you see? Visit the ' +\n",
              "            '<a target=\"_blank\" href=https://colab.research.google.com/notebooks/data_table.ipynb>data table notebook</a>'\n",
              "            + ' to learn more about interactive tables.';\n",
              "          element.innerHTML = '';\n",
              "          dataTable['output_type'] = 'display_data';\n",
              "          await google.colab.output.renderOutput(dataTable, element);\n",
              "          const docLink = document.createElement('div');\n",
              "          docLink.innerHTML = docLinkHtml;\n",
              "          element.appendChild(docLink);\n",
              "        }\n",
              "      </script>\n",
              "    </div>\n",
              "  </div>\n",
              "  "
            ]
          },
          "metadata": {},
          "execution_count": 4
        }
      ]
    },
    {
      "cell_type": "code",
      "source": [
        "selected_models = automl.ensemble.selected_models\n",
        "models = []\n",
        "for model_ in selected_models:\n",
        "  model = model_[\"model\"]\n",
        "  models.append([model.get_name(), model])\n",
        "models"
      ],
      "metadata": {
        "colab": {
          "base_uri": "https://localhost:8080/"
        },
        "id": "AyT4BMlbUyuX",
        "outputId": "737ee7a5-e8d9-4535-ff99-6f5f542995d0"
      },
      "execution_count": null,
      "outputs": [
        {
          "output_type": "execute_result",
          "data": {
            "text/plain": [
              "[['2_DecisionTree',\n",
              "  <supervised.model_framework.ModelFramework at 0x7feed8fc7910>],\n",
              " ['4_Default_Xgboost',\n",
              "  <supervised.model_framework.ModelFramework at 0x7feffa6e1290>]]"
            ]
          },
          "metadata": {},
          "execution_count": 5
        }
      ]
    },
    {
      "cell_type": "markdown",
      "source": [
        "Get weights"
      ],
      "metadata": {
        "id": "WjNAUg76SiZp"
      }
    },
    {
      "cell_type": "code",
      "source": [
        "os.chdir(automl_dir)"
      ],
      "metadata": {
        "id": "puh-A5SUNhPz"
      },
      "execution_count": null,
      "outputs": []
    },
    {
      "cell_type": "code",
      "source": [
        "import glob\n",
        "\n",
        "loaded_model = []\n",
        "for model_name, model in models:\n",
        "  os.chdir(model_name)\n",
        "  \n",
        "  model.load(\"./\", \"\")\n",
        "  os.chdir(\"..\") \n",
        "\n",
        "  loaded_model.append(model)"
      ],
      "metadata": {
        "id": "UnGbjPoVNR4R"
      },
      "execution_count": null,
      "outputs": []
    },
    {
      "cell_type": "code",
      "source": [
        "import numpy as np\n",
        "\n",
        "for model in loaded_model:\n",
        "  predictions = model.predict(X_test)\n",
        "  predict_cols = predictions.columns\n",
        "  predict_cols = np.asarray([name.split(\"_\")[-1] for name in predict_cols])\n",
        "  predictions = predict_cols[predictions.to_numpy().argmax(axis=-1)]\n",
        "  print(f\"Accuracy: {accuracy_score(y_test, predictions)*100.0:.2f}%\" )"
      ],
      "metadata": {
        "colab": {
          "base_uri": "https://localhost:8080/"
        },
        "id": "N9-AgVrJZbgf",
        "outputId": "c2e36e5c-cd70-4a0a-bd1d-be8104574f3a"
      },
      "execution_count": null,
      "outputs": [
        {
          "output_type": "stream",
          "name": "stdout",
          "text": [
            "Accuracy: 79.77%\n",
            "Accuracy: 77.10%\n"
          ]
        }
      ]
    },
    {
      "cell_type": "code",
      "source": [
        "model.learners"
      ],
      "metadata": {
        "colab": {
          "base_uri": "https://localhost:8080/"
        },
        "id": "ucUQxDgalrBP",
        "outputId": "7a76247d-c0b6-4df3-c645-18f1aee1d43d"
      },
      "execution_count": null,
      "outputs": [
        {
          "output_type": "execute_result",
          "data": {
            "text/plain": [
              "[<supervised.algorithms.xgboost.XgbAlgorithm at 0x7feed5f3ae10>]"
            ]
          },
          "metadata": {},
          "execution_count": 11
        }
      ]
    },
    {
      "cell_type": "markdown",
      "source": [
        "Not be able to transfer to onnx with best model: model is not a standard classifier"
      ],
      "metadata": {
        "id": "GNMK1J7UTiem"
      }
    },
    {
      "cell_type": "code",
      "source": [
        "from sklearn.pipeline import make_pipeline, Pipeline\n",
        "from sklearn.ensemble import StackingClassifier\n",
        "from sklearn.linear_model import LogisticRegression\n",
        "\n",
        "stacked_classifier = StackingClassifier(estimators=[\n",
        "            (\"model_\"+str(i), model) for i, model in enumerate(loaded_model)], \n",
        "            final_estimator=LogisticRegression())\n",
        "\n",
        "stacked_classifier.classes_ #?? not exist\n",
        "\n",
        "pipeline = make_pipeline(stacked_classifier)\n",
        "pipeline.score(X_test,y_test)\n"
      ],
      "metadata": {
        "id": "uHcxqYFVa78d"
      },
      "execution_count": null,
      "outputs": []
    },
    {
      "cell_type": "code",
      "source": [
        "from aimodelshare.aimsonnx import model_to_onnx\n",
        "\n",
        "# Check how many preprocessed input features there are\n",
        "from skl2onnx.common.data_types import FloatTensorType\n",
        "initial_type = [('float_input', FloatTensorType([None, X_train.shape[1]])) for _ in range(len(loaded_model))]  # Insert correct number of features in preprocessed data\n",
        "\n",
        "onnx_model = model_to_onnx(pipeline, framework='sklearn',\n",
        "              initial_types=initial_type,\n",
        "              transfer_learning=False, deep_learning=False)\n",
        "\n",
        "with open(\"model.onnx\", \"wb\") as f:\n",
        "    f.write(onnx_model.SerializeToString())"
      ],
      "metadata": {
        "id": "mShSQZggrwVk"
      },
      "execution_count": null,
      "outputs": []
    }
  ]
}