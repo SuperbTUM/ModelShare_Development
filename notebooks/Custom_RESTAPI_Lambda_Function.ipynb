{
  "nbformat": 4,
  "nbformat_minor": 0,
  "metadata": {
    "colab": {
      "provenance": [],
      "collapsed_sections": []
    },
    "kernelspec": {
      "name": "python3",
      "display_name": "Python 3"
    },
    "language_info": {
      "name": "python"
    }
  },
  "cells": [
    {
      "cell_type": "markdown",
      "source": [
        "[![Open in Colab](https://colab.research.google.com/assets/colab-badge.svg)](https://colab.research.google.com/github/SuperbTUM/Modelshare_Development/blob/master/notebooks/Custom_RESTAPI_Lambda_Function.ipynb)"
      ],
      "metadata": {
        "id": "9r7U1qhoiO_7"
      }
    },
    {
      "cell_type": "code",
      "execution_count": null,
      "metadata": {
        "id": "OE8nx5r4L6bM",
        "colab": {
          "base_uri": "https://localhost:8080/"
        },
        "outputId": "f901834f-870e-410a-9ca7-e7925d2fef5e"
      },
      "outputs": [
        {
          "output_type": "stream",
          "name": "stdout",
          "text": [
            "\u001b[K     |████████████████████████████████| 951 kB 28.6 MB/s \n",
            "\u001b[K     |████████████████████████████████| 4.5 MB 47.6 MB/s \n",
            "\u001b[K     |████████████████████████████████| 132 kB 45.9 MB/s \n",
            "\u001b[K     |████████████████████████████████| 291 kB 45.7 MB/s \n",
            "\u001b[K     |████████████████████████████████| 288 kB 59.3 MB/s \n",
            "\u001b[K     |████████████████████████████████| 442 kB 50.5 MB/s \n",
            "\u001b[K     |████████████████████████████████| 146 kB 74.4 MB/s \n",
            "\u001b[K     |████████████████████████████████| 13.1 MB 44.9 MB/s \n",
            "\u001b[K     |████████████████████████████████| 83 kB 2.3 MB/s \n",
            "\u001b[K     |████████████████████████████████| 308 kB 64.3 MB/s \n",
            "\u001b[K     |████████████████████████████████| 96 kB 5.8 MB/s \n",
            "\u001b[K     |████████████████████████████████| 178 kB 61.1 MB/s \n",
            "\u001b[K     |████████████████████████████████| 22.3 MB 1.3 MB/s \n",
            "\u001b[K     |████████████████████████████████| 8.6 MB 55.2 MB/s \n",
            "\u001b[K     |████████████████████████████████| 79 kB 7.9 MB/s \n",
            "\u001b[K     |████████████████████████████████| 140 kB 56.5 MB/s \n",
            "\u001b[K     |████████████████████████████████| 55 kB 144 kB/s \n",
            "\u001b[K     |████████████████████████████████| 87 kB 6.5 MB/s \n",
            "\u001b[K     |████████████████████████████████| 46 kB 3.8 MB/s \n",
            "\u001b[K     |████████████████████████████████| 127 kB 60.0 MB/s \n",
            "\u001b[K     |████████████████████████████████| 86 kB 5.5 MB/s \n",
            "\u001b[?25h  Building wheel for Pympler (setup.py) ... \u001b[?25l\u001b[?25hdone\n",
            "  Building wheel for wget (setup.py) ... \u001b[?25l\u001b[?25hdone\n",
            "  Building wheel for fire (setup.py) ... \u001b[?25l\u001b[?25hdone\n",
            "\u001b[31mERROR: pip's dependency resolver does not currently take into account all the packages that are installed. This behaviour is the source of the following dependency conflicts.\n",
            "yellowbrick 1.5 requires scikit-learn>=1.0.0, but you have scikit-learn 0.24.2 which is incompatible.\u001b[0m\n"
          ]
        }
      ],
      "source": [
        "!pip install aimodelshare --upgrade -q"
      ]
    },
    {
      "cell_type": "code",
      "source": [
        "import aimodelshare as ai"
      ],
      "metadata": {
        "id": "vFqbRf3tawr2"
      },
      "execution_count": null,
      "outputs": []
    },
    {
      "cell_type": "code",
      "source": [
        "from aimodelshare.aws import configure_credentials\n",
        "\n",
        "# Why not authenticate here?\n",
        "configure_credentials()"
      ],
      "metadata": {
        "colab": {
          "base_uri": "https://localhost:8080/"
        },
        "id": "CsIkjJL6MR5R",
        "outputId": "49521e65-0815-4002-9b73-4364117077b7"
      },
      "execution_count": null,
      "outputs": [
        {
          "output_type": "stream",
          "name": "stdout",
          "text": [
            "AI Modelshare Username:··········\n",
            "AI Modelshare Password:··········\n",
            "AWS_ACCESS_KEY_ID:··········\n",
            "AWS_SECRET_ACCESS_KEY:··········\n",
            "AWS_REGION:··········\n",
            "Configuration successful. New credentials file saved as 'credentials.txt'\n"
          ]
        }
      ]
    },
    {
      "cell_type": "code",
      "source": [
        "!ls"
      ],
      "metadata": {
        "colab": {
          "base_uri": "https://localhost:8080/"
        },
        "id": "BfFMHZjVUsEX",
        "outputId": "aff06cf0-f5bf-4962-b183-2cdd62abffb7"
      },
      "execution_count": null,
      "outputs": [
        {
          "output_type": "stream",
          "name": "stdout",
          "text": [
            "credentials.txt  sample_data\n"
          ]
        }
      ]
    },
    {
      "cell_type": "code",
      "source": [
        "# Execute this before creating a competition\n",
        "from aimodelshare.aws import set_credentials\n",
        "set_credentials(credential_file=\"credentials.txt\", type=\"deploy_model\")"
      ],
      "metadata": {
        "colab": {
          "base_uri": "https://localhost:8080/"
        },
        "id": "ih_-1qqAqwxn",
        "outputId": "fa47d90d-c5ae-4089-d8f3-8c99eadd2454"
      },
      "execution_count": null,
      "outputs": [
        {
          "output_type": "stream",
          "name": "stdout",
          "text": [
            "AI Model Share login credentials set successfully.\n",
            "AWS credentials set successfully.\n"
          ]
        }
      ]
    },
    {
      "cell_type": "code",
      "source": [
        "X_train, X_test, y_train_labels, y_test_labels, example_data = ai.import_quickstart_data(\"covid_tweets\")\n",
        "# Each sample is a sentence\n",
        "print(len(X_train))"
      ],
      "metadata": {
        "colab": {
          "base_uri": "https://localhost:8080/"
        },
        "id": "9C28qEAJU0PQ",
        "outputId": "3f2bbb2f-a90f-43a4-c01f-aa7ce37e3b99"
      },
      "execution_count": null,
      "outputs": [
        {
          "output_type": "stream",
          "name": "stdout",
          "text": [
            "Downloading [======================================>          ]\n",
            "\n",
            "Data downloaded successfully.\n",
            "\n",
            "Preparing downloaded files for use...\n",
            "\n",
            "Success! Your Quick Start materials have been downloaded. \n",
            "You are now ready to run the tutorial.\n",
            "6505\n"
          ]
        }
      ]
    },
    {
      "cell_type": "markdown",
      "source": [
        "Load text dataset"
      ],
      "metadata": {
        "id": "gpGO7WM1U1Hg"
      }
    },
    {
      "cell_type": "code",
      "source": [
        "# Transform text to embeddings\n",
        "from tensorflow.keras.preprocessing.text import Tokenizer\n",
        "from tensorflow.keras.preprocessing.sequence import pad_sequences\n",
        "\n",
        "# Build vocabulary from training text data\n",
        "tokenizer = Tokenizer(num_words=10000)\n",
        "tokenizer.fit_on_texts(X_train)\n",
        "\n",
        "def preprocessor(data, maxlen=40, max_words=10000):\n",
        "\n",
        "    sequences = tokenizer.texts_to_sequences(data)\n",
        "\n",
        "    word_index = tokenizer.word_index\n",
        "    X = pad_sequences(sequences, maxlen=maxlen)\n",
        "\n",
        "    return X\n",
        "\n",
        "X_train_processed = preprocessor(X_train)\n",
        "X_test_processed = preprocessor(X_test)"
      ],
      "metadata": {
        "id": "pfX-lDsZU_WL"
      },
      "execution_count": null,
      "outputs": []
    },
    {
      "cell_type": "code",
      "source": [
        "!ls"
      ],
      "metadata": {
        "colab": {
          "base_uri": "https://localhost:8080/"
        },
        "id": "i-GkVhTSrSay",
        "outputId": "e5011d69-64b8-479a-ab4b-9255dff94e8c"
      },
      "execution_count": null,
      "outputs": [
        {
          "output_type": "stream",
          "name": "stdout",
          "text": [
            "covid_tweet_competition_data  model.onnx\t\t    sample_data\n",
            "credentials.txt\t\t      quickstart_covid_competition\n"
          ]
        }
      ]
    },
    {
      "cell_type": "markdown",
      "source": [
        "Train a model for one epoch"
      ],
      "metadata": {
        "id": "pwaX7gLFWF2A"
      }
    },
    {
      "cell_type": "code",
      "source": [
        "# Let's work with a keras model\n",
        "from tensorflow.keras.models import Sequential\n",
        "from tensorflow.keras.layers import Dense, Activation, Embedding, Flatten\n",
        "import pandas as pd\n",
        "\n",
        "model = Sequential()\n",
        "model.add(Embedding(10000, 16, input_length=40))\n",
        "model.add(Flatten())\n",
        "model.add(Dense(2, activation='softmax'))\n",
        "model.summary()\n",
        "\n",
        "model.compile(optimizer='rmsprop', loss='categorical_crossentropy', metrics=['acc'])\n",
        "y_train = pd.get_dummies(y_train_labels)\n",
        "\n",
        "history = model.fit(X_train_processed, y_train,\n",
        "                    epochs=1,\n",
        "                    batch_size=32,\n",
        "                    validation_split=0.2)"
      ],
      "metadata": {
        "colab": {
          "base_uri": "https://localhost:8080/"
        },
        "id": "f5DUrlBaV1c9",
        "outputId": "7d9290ed-d1c6-43c4-816f-2e59e599e12e"
      },
      "execution_count": null,
      "outputs": [
        {
          "output_type": "stream",
          "name": "stdout",
          "text": [
            "Model: \"sequential_7\"\n",
            "_________________________________________________________________\n",
            " Layer (type)                Output Shape              Param #   \n",
            "=================================================================\n",
            " embedding_5 (Embedding)     (None, 40, 16)            160000    \n",
            "                                                                 \n",
            " flatten_5 (Flatten)         (None, 640)               0         \n",
            "                                                                 \n",
            " dense_7 (Dense)             (None, 2)                 1282      \n",
            "                                                                 \n",
            "=================================================================\n",
            "Total params: 161,282\n",
            "Trainable params: 161,282\n",
            "Non-trainable params: 0\n",
            "_________________________________________________________________\n",
            "163/163 [==============================] - 2s 5ms/step - loss: 0.5037 - acc: 0.7552 - val_loss: 0.3762 - val_acc: 0.8294\n"
          ]
        }
      ]
    },
    {
      "cell_type": "code",
      "source": [
        "# Save sklearn model to local ONNX file\n",
        "from aimodelshare.aimsonnx import model_to_onnx\n",
        "\n",
        "# Check how many preprocessed input features there are\n",
        "from skl2onnx.common.data_types import FloatTensorType\n",
        "feature_count = preprocessor(X_test).shape[1]\n",
        "initial_type = [('float_input', FloatTensorType([None, feature_count]))]  # Insert correct number of preprocessed features\n",
        "\n",
        "onnx_model = model_to_onnx(model, \n",
        "              framework='keras',\n",
        "              initial_types=initial_type, \n",
        "              transfer_learning=False,\n",
        "              deep_learning=True)\n",
        "\n",
        "with open(\"model.onnx\", \"wb\") as f:\n",
        "    f.write(onnx_model.SerializeToString())"
      ],
      "metadata": {
        "id": "YWkoEZ7NjSX1"
      },
      "execution_count": null,
      "outputs": []
    },
    {
      "cell_type": "markdown",
      "source": [
        "Create a competition"
      ],
      "metadata": {
        "id": "EQmjwzp_TFTr"
      }
    },
    {
      "cell_type": "code",
      "source": [
        "from aimodelshare import ModelPlayground\n",
        "\n",
        "# Instantiate ModelPlayground() Class\n",
        "# Only if the model exists\n",
        "# Deploy online model first?\n",
        "myplayground = ModelPlayground(model_type=\"text\", \n",
        "                classification=True, \n",
        "                private=False)\n",
        "model_filepath = \"model.onnx\"\n",
        "# The command checks the path validity of model, but not the preprocessing\n",
        "preprocessor_filepath = \"preprocessor.zip\"\n",
        "myplayground.deploy(model_filepath, preprocessor_filepath, y_train_labels, example_data)\n",
        "\n",
        "# Deploy online competition\n",
        "myplayground.create_competition(data_directory='covid_tweet_competition_data', \n",
        "                y_test=y_test_labels, \n",
        "                public=True)"
      ],
      "metadata": {
        "colab": {
          "base_uri": "https://localhost:8080/"
        },
        "id": "PTWCTU07Rmlz",
        "outputId": "87567a8e-5b8f-45f5-87dd-f05dd1e23abc"
      },
      "execution_count": null,
      "outputs": [
        {
          "output_type": "stream",
          "name": "stdout",
          "text": [
            "We need some information about your model before we can build your REST API and interactive Model Playground.\n",
            "   \n",
            "Model Name (for AI Model Share Website):text model\n",
            "Model Description (Explain what your model does and \n",
            " why end-users would find your model useful):text classification task\n",
            "Model Key Words (Search categories that describe your model, separated with commas):text classfication\n",
            "   \n",
            "Creating your prediction API. (This process may take several minutes.)\n",
            "\n",
            "[===                                  ] Progress: 5% - Accessing Amazon Web Services, uploading resources...The preprocessor file at preprocessor.zip does not exist\n",
            "[=====================================] Progress: 100% - Complete!                                            \n",
            "\n",
            "Success! Your Model Playground was created in 66 seconds. \n",
            " Playground Url: \"https://heo6qayusj.execute-api.us-east-2.amazonaws.com/prod/m\"\n",
            "\n",
            "You can now use your Model Playground.\n",
            "\n",
            "Follow this link to explore your Model Playground's functionality\n",
            "You can make predictions with the Dashboard and access example code from the Programmatic tab.\n",
            "https://www.modelshare.org/detail/model:2460\n",
            "\n",
            "--INPUT COMPETITION DETAILS--\n",
            "\n",
            "Enter competition name:covid tweets classification\n",
            "Enter competition description:demo competition\n",
            "\n",
            "--INPUT DATA DETAILS--\n",
            "\n",
            "Note: (optional) Save an optional LICENSE.txt file in your competition data directory to make users aware of any restrictions on data sharing/usage.\n",
            "\n",
            "Enter data description (i.e.- filenames denoting training and test data, file types, and any subfolders where files are stored):texts\n",
            "Enter optional data license descriptive name (e.g.- 'MIT, Apache 2.0, CC0, Other, etc.'):MIT\n",
            "Uploading your data. Please wait for a confirmation message.\n",
            "\n",
            " Success! Model competition created. \n",
            "\n",
            "You may now update your prediction API runtime model and verify evaluation metrics with the update_runtime_model() function.\n",
            "\n",
            "To upload new models and/or preprocessors to this API, team members should use \n",
            "the following credentials:\n",
            "\n",
            "apiurl='https://heo6qayusj.execute-api.us-east-2.amazonaws.com/prod/m'\n",
            "from aimodelshare.aws import set_credentials\n",
            "set_credentials(apiurl=apiurl)\n",
            "\n",
            "They can then submit models to your competition by using the following code: \n",
            "\n",
            "competition= ai.Competition(apiurl)\n",
            "download_data('public.ecr.aws/c9c2v8v5/covid_tweet_competition_data-repository:latest') \n",
            "# Use this data to preprocess data and train model. Write and save preprocessor fxn, save model to onnx file, generate predicted y values\n",
            " using X test data, then submit a model below.\n",
            "\n",
            "competition.submit_model(model_filepath, preprocessor_filepath, prediction_submission_list)\n"
          ]
        }
      ]
    },
    {
      "cell_type": "markdown",
      "source": [
        "Submit onnx model"
      ],
      "metadata": {
        "id": "0pdAoazH3det"
      }
    },
    {
      "cell_type": "code",
      "source": [
        "import aimodelshare as ai\n",
        "ai.export_preprocessor(preprocessor,\"\")\n",
        "prep=ai.import_preprocessor(\"preprocessor.zip\")\n",
        "prep(example_data).shape"
      ],
      "metadata": {
        "colab": {
          "base_uri": "https://localhost:8080/"
        },
        "id": "lJ-c9bPN9qDw",
        "outputId": "8da9c44d-1a38-4e04-a66b-85fcee4c03da"
      },
      "execution_count": null,
      "outputs": [
        {
          "output_type": "stream",
          "name": "stdout",
          "text": [
            "Your preprocessor is now saved to 'preprocessor.zip'\n"
          ]
        },
        {
          "output_type": "execute_result",
          "data": {
            "text/plain": [
              "(5, 40)"
            ]
          },
          "metadata": {},
          "execution_count": 6
        }
      ]
    },
    {
      "cell_type": "code",
      "source": [
        "from aimodelshare import ModelPlayground\n",
        "\n",
        "myplayground = ModelPlayground(model_type=\"text\", \n",
        "                classification=True, \n",
        "                private=False)\n",
        "myplayground.playground_url = 'https://heo6qayusj.execute-api.us-east-2.amazonaws.com/prod/m'\n",
        "\n",
        "mycompetition = ai.Competition(myplayground.playground_url)\n",
        "\n",
        "# apiurl = myplayground.playground_url # example url from deployed playground: apiurl= \"https://123456.execute-api.us-east-1.amazonaws.com/prod/m\n",
        "set_credentials(apiurl='https://heo6qayusj.execute-api.us-east-2.amazonaws.com/prod/m')"
      ],
      "metadata": {
        "colab": {
          "base_uri": "https://localhost:8080/"
        },
        "id": "iwKDxtcM2UMn",
        "outputId": "4f13fccb-588e-40db-c07f-d696d2245e93"
      },
      "execution_count": null,
      "outputs": [
        {
          "output_type": "stream",
          "name": "stdout",
          "text": [
            "AI Modelshare Username:··········\n",
            "AI Modelshare Password:··········\n",
            "AI Model Share login credentials set successfully.\n"
          ]
        }
      ]
    },
    {
      "cell_type": "code",
      "source": [
        "prediction_labels = model.predict(preprocessor(X_test))\n",
        "labels = [\"fake\", \"true\"]\n",
        "prediction_labels = list(map(lambda x: labels[x.argmax()], prediction_labels))\n",
        "print(prediction_labels)\n",
        "\n",
        "# Submit Model 1 to Competition Leaderboard\n",
        "mycompetition.submit_model(model_filepath = \"model.onnx\", preprocessor_filepath=\"preprocessor.zip\",\n",
        "             prediction_submission=prediction_labels)"
      ],
      "metadata": {
        "colab": {
          "base_uri": "https://localhost:8080/"
        },
        "id": "mt88kaFz6ZTE",
        "outputId": "db9d1b77-3851-4fb2-b225-264ee26531d4"
      },
      "execution_count": null,
      "outputs": [
        {
          "output_type": "stream",
          "name": "stdout",
          "text": [
            "65/65 [==============================] - 0s 1ms/step\n",
            "['fake', 'true', 'fake', 'true', 'fake', 'true', 'true', 'true', 'fake', 'true', 'fake', 'fake', 'fake', 'true', 'fake', 'true', 'true', 'fake', 'fake', 'fake', 'true', 'fake', 'fake', 'true', 'true', 'true', 'true', 'true', 'true', 'true', 'true', 'true', 'true', 'true', 'true', 'fake', 'fake', 'true', 'true', 'fake', 'fake', 'true', 'true', 'true', 'true', 'true', 'fake', 'true', 'fake', 'true', 'true', 'true', 'true', 'true', 'fake', 'fake', 'true', 'true', 'true', 'true', 'true', 'true', 'true', 'true', 'true', 'fake', 'fake', 'fake', 'fake', 'fake', 'fake', 'true', 'fake', 'true', 'true', 'true', 'true', 'fake', 'fake', 'fake', 'fake', 'fake', 'fake', 'true', 'true', 'fake', 'true', 'fake', 'fake', 'true', 'true', 'true', 'fake', 'true', 'true', 'true', 'fake', 'fake', 'fake', 'true', 'fake', 'fake', 'fake', 'fake', 'true', 'fake', 'fake', 'true', 'true', 'true', 'fake', 'true', 'true', 'true', 'true', 'fake', 'true', 'true', 'true', 'fake', 'true', 'fake', 'true', 'fake', 'fake', 'true', 'true', 'true', 'true', 'fake', 'fake', 'true', 'true', 'fake', 'true', 'true', 'true', 'fake', 'true', 'true', 'fake', 'true', 'fake', 'fake', 'true', 'true', 'fake', 'true', 'true', 'fake', 'fake', 'fake', 'fake', 'true', 'true', 'true', 'true', 'true', 'true', 'fake', 'true', 'fake', 'fake', 'fake', 'fake', 'true', 'fake', 'fake', 'true', 'fake', 'true', 'true', 'true', 'true', 'true', 'true', 'true', 'true', 'fake', 'fake', 'true', 'fake', 'fake', 'true', 'fake', 'true', 'fake', 'fake', 'fake', 'fake', 'true', 'fake', 'fake', 'fake', 'true', 'fake', 'fake', 'true', 'fake', 'fake', 'fake', 'true', 'fake', 'fake', 'fake', 'fake', 'true', 'true', 'true', 'fake', 'fake', 'true', 'fake', 'fake', 'fake', 'fake', 'fake', 'fake', 'true', 'true', 'fake', 'true', 'fake', 'fake', 'true', 'true', 'fake', 'true', 'fake', 'fake', 'fake', 'true', 'fake', 'true', 'true', 'fake', 'fake', 'fake', 'fake', 'fake', 'true', 'true', 'true', 'true', 'true', 'fake', 'fake', 'fake', 'true', 'fake', 'fake', 'fake', 'fake', 'fake', 'true', 'fake', 'true', 'fake', 'true', 'fake', 'fake', 'true', 'fake', 'true', 'fake', 'true', 'fake', 'fake', 'fake', 'true', 'true', 'true', 'fake', 'true', 'fake', 'true', 'fake', 'true', 'fake', 'fake', 'true', 'true', 'true', 'fake', 'fake', 'fake', 'true', 'fake', 'fake', 'true', 'fake', 'true', 'fake', 'true', 'fake', 'true', 'true', 'fake', 'fake', 'fake', 'true', 'fake', 'fake', 'true', 'true', 'fake', 'fake', 'fake', 'true', 'true', 'true', 'true', 'true', 'true', 'true', 'fake', 'true', 'true', 'fake', 'fake', 'true', 'fake', 'true', 'true', 'true', 'fake', 'fake', 'fake', 'fake', 'true', 'fake', 'fake', 'true', 'true', 'true', 'fake', 'true', 'fake', 'fake', 'true', 'fake', 'fake', 'fake', 'true', 'fake', 'true', 'fake', 'fake', 'true', 'true', 'fake', 'true', 'true', 'true', 'fake', 'true', 'true', 'true', 'true', 'true', 'fake', 'true', 'fake', 'fake', 'fake', 'fake', 'fake', 'fake', 'true', 'true', 'true', 'fake', 'fake', 'true', 'true', 'fake', 'fake', 'fake', 'fake', 'true', 'fake', 'fake', 'true', 'fake', 'true', 'fake', 'fake', 'true', 'true', 'true', 'true', 'fake', 'true', 'true', 'true', 'true', 'true', 'fake', 'fake', 'true', 'true', 'fake', 'true', 'true', 'true', 'true', 'fake', 'fake', 'true', 'true', 'fake', 'fake', 'true', 'true', 'fake', 'true', 'true', 'true', 'true', 'fake', 'true', 'fake', 'fake', 'true', 'fake', 'fake', 'true', 'fake', 'true', 'true', 'true', 'fake', 'fake', 'true', 'fake', 'true', 'fake', 'true', 'true', 'true', 'true', 'true', 'fake', 'fake', 'fake', 'fake', 'true', 'true', 'fake', 'true', 'fake', 'fake', 'true', 'true', 'true', 'true', 'true', 'fake', 'fake', 'true', 'true', 'true', 'fake', 'true', 'fake', 'true', 'fake', 'true', 'true', 'true', 'true', 'fake', 'true', 'fake', 'true', 'true', 'true', 'fake', 'fake', 'fake', 'fake', 'fake', 'true', 'fake', 'fake', 'true', 'fake', 'fake', 'true', 'true', 'fake', 'true', 'true', 'true', 'true', 'fake', 'true', 'true', 'true', 'fake', 'true', 'true', 'true', 'true', 'true', 'fake', 'fake', 'fake', 'true', 'fake', 'true', 'fake', 'fake', 'fake', 'true', 'fake', 'true', 'fake', 'true', 'true', 'fake', 'true', 'true', 'fake', 'fake', 'true', 'fake', 'fake', 'true', 'fake', 'fake', 'fake', 'fake', 'fake', 'fake', 'fake', 'fake', 'fake', 'true', 'fake', 'fake', 'true', 'fake', 'true', 'true', 'fake', 'fake', 'true', 'fake', 'true', 'true', 'true', 'true', 'fake', 'fake', 'true', 'true', 'true', 'fake', 'fake', 'true', 'true', 'fake', 'true', 'fake', 'fake', 'true', 'true', 'true', 'true', 'fake', 'true', 'true', 'true', 'true', 'true', 'fake', 'fake', 'fake', 'true', 'fake', 'true', 'fake', 'fake', 'fake', 'fake', 'fake', 'true', 'fake', 'fake', 'fake', 'fake', 'fake', 'true', 'true', 'fake', 'true', 'true', 'true', 'true', 'true', 'fake', 'true', 'fake', 'fake', 'true', 'true', 'fake', 'true', 'fake', 'true', 'fake', 'true', 'fake', 'true', 'true', 'true', 'true', 'true', 'true', 'fake', 'fake', 'fake', 'true', 'fake', 'fake', 'true', 'fake', 'fake', 'fake', 'true', 'true', 'true', 'fake', 'true', 'fake', 'fake', 'true', 'true', 'true', 'fake', 'fake', 'fake', 'true', 'fake', 'true', 'true', 'true', 'fake', 'true', 'true', 'true', 'fake', 'fake', 'true', 'fake', 'fake', 'true', 'true', 'fake', 'true', 'true', 'fake', 'fake', 'true', 'fake', 'true', 'fake', 'true', 'true', 'fake', 'true', 'true', 'true', 'fake', 'true', 'true', 'fake', 'fake', 'true', 'fake', 'fake', 'true', 'true', 'true', 'fake', 'fake', 'fake', 'fake', 'true', 'true', 'fake', 'true', 'fake', 'fake', 'fake', 'fake', 'true', 'fake', 'fake', 'fake', 'fake', 'true', 'fake', 'fake', 'fake', 'fake', 'fake', 'fake', 'true', 'fake', 'true', 'true', 'true', 'true', 'true', 'fake', 'fake', 'fake', 'true', 'fake', 'fake', 'fake', 'true', 'fake', 'true', 'true', 'true', 'true', 'true', 'true', 'fake', 'true', 'fake', 'fake', 'fake', 'fake', 'true', 'true', 'true', 'fake', 'true', 'fake', 'true', 'true', 'true', 'true', 'true', 'fake', 'true', 'fake', 'fake', 'fake', 'true', 'true', 'fake', 'fake', 'true', 'true', 'fake', 'true', 'true', 'true', 'fake', 'fake', 'true', 'fake', 'fake', 'fake', 'fake', 'true', 'fake', 'fake', 'true', 'true', 'fake', 'true', 'true', 'true', 'fake', 'fake', 'true', 'fake', 'fake', 'fake', 'true', 'true', 'true', 'fake', 'fake', 'true', 'true', 'fake', 'fake', 'true', 'true', 'fake', 'true', 'true', 'true', 'true', 'fake', 'fake', 'true', 'true', 'true', 'fake', 'fake', 'true', 'true', 'true', 'fake', 'fake', 'true', 'true', 'fake', 'true', 'true', 'true', 'true', 'true', 'fake', 'true', 'true', 'fake', 'true', 'true', 'true', 'fake', 'true', 'true', 'fake', 'true', 'true', 'true', 'fake', 'fake', 'fake', 'fake', 'true', 'fake', 'fake', 'true', 'fake', 'true', 'true', 'fake', 'fake', 'true', 'fake', 'true', 'fake', 'fake', 'fake', 'fake', 'fake', 'true', 'true', 'fake', 'fake', 'true', 'fake', 'fake', 'fake', 'true', 'true', 'fake', 'fake', 'fake', 'true', 'fake', 'fake', 'true', 'true', 'true', 'fake', 'true', 'true', 'fake', 'fake', 'true', 'fake', 'fake', 'fake', 'fake', 'true', 'true', 'true', 'true', 'true', 'fake', 'fake', 'true', 'fake', 'fake', 'true', 'true', 'true', 'fake', 'true', 'true', 'true', 'true', 'fake', 'true', 'fake', 'fake', 'fake', 'true', 'true', 'true', 'fake', 'fake', 'fake', 'true', 'fake', 'true', 'true', 'true', 'true', 'true', 'fake', 'fake', 'true', 'true', 'true', 'fake', 'fake', 'true', 'true', 'true', 'true', 'fake', 'true', 'fake', 'true', 'true', 'fake', 'fake', 'true', 'fake', 'true', 'true', 'true', 'true', 'fake', 'true', 'true', 'fake', 'fake', 'fake', 'fake', 'true', 'true', 'true', 'true', 'fake', 'fake', 'fake', 'fake', 'fake', 'fake', 'fake', 'fake', 'true', 'true', 'true', 'fake', 'true', 'fake', 'true', 'true', 'fake', 'fake', 'true', 'fake', 'fake', 'true', 'fake', 'fake', 'true', 'true', 'fake', 'true', 'fake', 'true', 'fake', 'true', 'fake', 'fake', 'true', 'true', 'true', 'true', 'fake', 'true', 'true', 'true', 'true', 'fake', 'fake', 'true', 'true', 'fake', 'fake', 'fake', 'true', 'true', 'true', 'true', 'true', 'fake', 'fake', 'true', 'fake', 'fake', 'fake', 'true', 'true', 'true', 'true', 'true', 'fake', 'true', 'true', 'true', 'true', 'fake', 'fake', 'fake', 'true', 'fake', 'true', 'true', 'fake', 'true', 'true', 'fake', 'fake', 'true', 'true', 'true', 'fake', 'true', 'true', 'true', 'true', 'fake', 'true', 'fake', 'fake', 'fake', 'true', 'fake', 'true', 'fake', 'true', 'fake', 'true', 'true', 'true', 'fake', 'true', 'true', 'fake', 'true', 'fake', 'true', 'true', 'true', 'true', 'fake', 'true', 'fake', 'true', 'true', 'true', 'true', 'true', 'true', 'fake', 'fake', 'true', 'fake', 'true', 'fake', 'fake', 'true', 'fake', 'fake', 'fake', 'true', 'true', 'true', 'true', 'fake', 'fake', 'true', 'true', 'fake', 'fake', 'fake', 'fake', 'true', 'fake', 'true', 'fake', 'true', 'fake', 'true', 'true', 'fake', 'fake', 'fake', 'true', 'true', 'fake', 'true', 'true', 'fake', 'true', 'true', 'fake', 'fake', 'true', 'true', 'true', 'true', 'fake', 'true', 'fake', 'true', 'fake', 'true', 'fake', 'true', 'true', 'fake', 'true', 'true', 'fake', 'true', 'fake', 'true', 'fake', 'true', 'fake', 'true', 'true', 'true', 'true', 'fake', 'true', 'true', 'true', 'fake', 'true', 'true', 'fake', 'true', 'true', 'true', 'fake', 'fake', 'fake', 'fake', 'true', 'fake', 'true', 'true', 'fake', 'true', 'true', 'true', 'fake', 'fake', 'fake', 'true', 'true', 'fake', 'true', 'true', 'fake', 'fake', 'true', 'fake', 'fake', 'fake', 'fake', 'fake', 'fake', 'true', 'true', 'fake', 'fake', 'true', 'fake', 'true', 'fake', 'fake', 'fake', 'fake', 'fake', 'fake', 'true', 'fake', 'true', 'true', 'true', 'true', 'true', 'fake', 'fake', 'true', 'true', 'fake', 'fake', 'true', 'true', 'true', 'fake', 'true', 'fake', 'fake', 'fake', 'true', 'true', 'true', 'fake', 'true', 'true', 'fake', 'fake', 'true', 'true', 'fake', 'true', 'true', 'true', 'fake', 'fake', 'true', 'fake', 'fake', 'fake', 'true', 'fake', 'fake', 'fake', 'fake', 'fake', 'fake', 'fake', 'fake', 'fake', 'fake', 'true', 'true', 'fake', 'true', 'true', 'true', 'fake', 'true', 'true', 'true', 'fake', 'true', 'fake', 'true', 'true', 'true', 'true', 'fake', 'fake', 'fake', 'true', 'fake', 'fake', 'true', 'fake', 'true', 'true', 'true', 'fake', 'true', 'true', 'true', 'true', 'fake', 'fake', 'true', 'true', 'fake', 'true', 'true', 'true', 'true', 'true', 'fake', 'true', 'fake', 'true', 'true', 'fake', 'true', 'true', 'true', 'true', 'true', 'fake', 'true', 'fake', 'fake', 'true', 'fake', 'fake', 'true', 'true', 'true', 'true', 'true', 'fake', 'true', 'true', 'fake', 'true', 'true', 'fake', 'true', 'fake', 'true', 'true', 'true', 'fake', 'true', 'true', 'fake', 'fake', 'true', 'fake', 'fake', 'true', 'fake', 'true', 'true', 'fake', 'true', 'fake', 'fake', 'true', 'fake', 'true', 'true', 'true', 'true', 'fake', 'true', 'true', 'true', 'true', 'fake', 'fake', 'fake', 'true', 'true', 'fake', 'true', 'fake', 'fake', 'true', 'fake', 'fake', 'fake', 'fake', 'true', 'fake', 'fake', 'true', 'fake', 'true', 'true', 'true', 'fake', 'true', 'true', 'true', 'fake', 'true', 'true', 'true', 'true', 'fake', 'true', 'true', 'true', 'true', 'fake', 'true', 'fake', 'fake', 'true', 'true', 'fake', 'fake', 'true', 'fake', 'true', 'fake', 'fake', 'true', 'true', 'fake', 'true', 'true', 'fake', 'true', 'fake', 'true', 'true', 'fake', 'true', 'true', 'fake', 'fake', 'fake', 'fake', 'true', 'fake', 'true', 'fake', 'true', 'true', 'true', 'true', 'fake', 'fake', 'fake', 'true', 'true', 'fake', 'true', 'true', 'true', 'true', 'true', 'true', 'true', 'true', 'true', 'fake', 'true', 'fake', 'true', 'fake', 'fake', 'true', 'fake', 'fake', 'fake', 'fake', 'fake', 'true', 'fake', 'true', 'true', 'true', 'true', 'true', 'true', 'true', 'fake', 'true', 'true', 'fake', 'true', 'fake', 'fake', 'fake', 'fake', 'fake', 'true', 'true', 'true', 'true', 'true', 'fake', 'fake', 'fake', 'true', 'true', 'fake', 'true', 'true', 'fake', 'fake', 'true', 'true', 'fake', 'fake', 'fake', 'fake', 'true', 'fake', 'true', 'true', 'fake', 'fake', 'fake', 'fake', 'true', 'true', 'true', 'true', 'true', 'fake', 'fake', 'fake', 'fake', 'fake', 'true', 'fake', 'true', 'fake', 'true', 'true', 'true', 'fake', 'true', 'true', 'fake', 'true', 'true', 'fake', 'true', 'true', 'fake', 'fake', 'fake', 'fake', 'true', 'true', 'true', 'fake', 'true', 'true', 'true', 'fake', 'fake', 'fake', 'fake', 'fake', 'fake', 'fake', 'fake', 'fake', 'true', 'fake', 'true', 'true', 'fake', 'fake', 'true', 'fake', 'fake', 'true', 'fake', 'fake', 'true', 'true', 'true', 'true', 'fake', 'fake', 'true', 'true', 'fake', 'fake', 'fake', 'fake', 'fake', 'fake', 'true', 'fake', 'fake', 'fake', 'true', 'true', 'true', 'fake', 'fake', 'true', 'true', 'fake', 'true', 'fake', 'fake', 'true', 'fake', 'fake', 'true', 'true', 'fake', 'true', 'fake', 'true', 'fake', 'true', 'true', 'fake', 'true', 'true', 'fake', 'fake', 'fake', 'true', 'fake', 'true', 'fake', 'true', 'fake', 'true', 'true', 'fake', 'fake', 'true', 'fake', 'fake', 'true', 'true', 'fake', 'true', 'true', 'true', 'fake', 'true', 'true', 'fake', 'true', 'fake', 'fake', 'true', 'true', 'true', 'true', 'true', 'true', 'true', 'fake', 'fake', 'true', 'true', 'true', 'fake', 'true', 'true', 'true', 'true', 'fake', 'fake', 'fake', 'true', 'true', 'true', 'true', 'fake', 'true', 'fake', 'fake', 'true', 'true', 'fake', 'true', 'fake', 'fake', 'true', 'true', 'fake', 'true', 'fake', 'fake', 'true', 'true', 'fake', 'fake', 'true', 'true', 'fake', 'true', 'true', 'true', 'true', 'fake', 'fake', 'true', 'fake', 'true', 'true', 'fake', 'true', 'fake', 'fake', 'fake', 'fake', 'true', 'fake', 'fake', 'fake', 'true', 'fake', 'true', 'fake', 'true', 'fake', 'true', 'true', 'fake', 'true', 'fake', 'fake', 'fake', 'true', 'fake', 'fake', 'fake', 'true', 'fake', 'true', 'true', 'fake', 'fake', 'fake', 'true', 'fake', 'true', 'true', 'fake', 'fake', 'fake', 'fake', 'fake', 'fake', 'true', 'fake', 'fake', 'true', 'true', 'true', 'true', 'true', 'true', 'true', 'fake', 'fake', 'true', 'fake', 'fake', 'fake', 'fake', 'fake', 'fake', 'fake', 'fake', 'fake', 'fake', 'fake', 'fake', 'true', 'fake', 'true', 'true', 'true', 'fake', 'true', 'true', 'fake', 'fake', 'true', 'true', 'fake', 'true', 'fake', 'fake', 'fake', 'fake', 'fake', 'true', 'true', 'true', 'true', 'true', 'true', 'true', 'true', 'true', 'fake', 'true', 'true', 'true', 'true', 'fake', 'true', 'fake', 'fake', 'fake', 'fake', 'true', 'true', 'true', 'true', 'fake', 'true', 'true', 'true', 'fake', 'true', 'true', 'fake', 'fake', 'fake', 'true', 'fake', 'true', 'fake', 'true', 'fake', 'true', 'fake', 'fake', 'fake', 'true', 'true', 'true', 'fake', 'fake', 'fake', 'true', 'true', 'true', 'true', 'fake', 'true', 'fake', 'fake', 'fake', 'true', 'true', 'true', 'true', 'fake', 'true', 'fake', 'fake', 'fake', 'fake', 'true', 'fake', 'true', 'true', 'fake', 'fake', 'fake', 'true', 'fake', 'true', 'true', 'fake', 'true', 'true', 'true', 'true', 'fake', 'true', 'fake', 'fake', 'true', 'fake', 'true', 'fake', 'fake', 'fake', 'true', 'true', 'true', 'fake', 'true', 'true', 'fake', 'fake', 'true', 'fake', 'fake', 'fake', 'fake', 'fake', 'true', 'true', 'fake', 'fake', 'fake', 'true', 'true', 'true', 'fake', 'true', 'true', 'true', 'fake', 'true', 'fake', 'fake', 'true', 'fake', 'true', 'fake', 'true', 'fake', 'fake', 'true', 'true', 'true', 'true', 'true', 'true', 'true', 'true', 'true', 'true', 'fake', 'true', 'true', 'fake', 'true', 'fake', 'fake', 'fake', 'true', 'fake', 'fake', 'true', 'fake', 'true', 'fake', 'fake', 'true', 'true', 'true', 'fake', 'true', 'fake', 'true', 'fake', 'true', 'true', 'fake', 'true', 'fake', 'fake', 'fake', 'fake', 'true', 'true', 'fake', 'true', 'fake', 'true', 'fake', 'fake', 'fake', 'true', 'fake', 'fake', 'fake', 'true', 'true', 'fake', 'true', 'fake', 'fake', 'true', 'true', 'fake', 'fake', 'fake', 'true', 'fake', 'fake', 'fake', 'true', 'true', 'fake', 'fake', 'true', 'true', 'fake', 'true', 'true', 'true', 'true', 'true', 'true', 'fake', 'fake', 'true', 'fake', 'true', 'fake', 'fake', 'fake', 'true', 'fake', 'true', 'true', 'true', 'fake', 'fake', 'true', 'true', 'fake', 'fake', 'fake', 'true', 'true', 'true', 'true', 'true', 'fake', 'fake', 'fake', 'true', 'true', 'fake', 'fake', 'true', 'fake', 'true', 'true', 'true', 'fake', 'true', 'fake', 'true', 'true', 'true', 'fake', 'true', 'fake', 'fake', 'true', 'true', 'fake', 'true', 'fake', 'true', 'fake']\n",
            "Insert search tags to help users find your model (optional): \n",
            "Provide any useful notes about your model (optional): \n",
            "\n",
            "Your model has been submitted as model version 2\n",
            "\n",
            "To submit code used to create this model or to view current leaderboard navigate to Model Playground: \n",
            "\n",
            " https://www.modelshare.org/detail/model:2460\n"
          ]
        }
      ]
    },
    {
      "cell_type": "markdown",
      "source": [
        "Load latest model"
      ],
      "metadata": {
        "id": "RfTOWrVn_t-l"
      }
    },
    {
      "cell_type": "code",
      "source": [
        "latest_model = mycompetition.replicate_model(version=2) # It keeps original model structure\n",
        "latest_model.summary()"
      ],
      "metadata": {
        "colab": {
          "base_uri": "https://localhost:8080/"
        },
        "id": "sd4uF0id_SSb",
        "outputId": "29c17717-794f-4f73-c3e2-13b2e923097b"
      },
      "execution_count": null,
      "outputs": [
        {
          "output_type": "stream",
          "name": "stdout",
          "text": [
            "Reproducibility environment is not found\n",
            "Instantiate the model from metadata..\n",
            "Your model is successfully instantiated.\n",
            "Model: \"sequential_7\"\n",
            "_________________________________________________________________\n",
            " Layer (type)                Output Shape              Param #   \n",
            "=================================================================\n",
            " embedding_5 (Embedding)     (None, 40, 16)            160000    \n",
            "                                                                 \n",
            " flatten_5 (Flatten)         (None, 640)               0         \n",
            "                                                                 \n",
            " dense_7 (Dense)             (None, 2)                 1282      \n",
            "                                                                 \n",
            "=================================================================\n",
            "Total params: 161,282\n",
            "Trainable params: 161,282\n",
            "Non-trainable params: 0\n",
            "_________________________________________________________________\n"
          ]
        }
      ]
    },
    {
      "cell_type": "markdown",
      "source": [
        "Transfer learning"
      ],
      "metadata": {
        "id": "ReTEepb1CeXm"
      }
    },
    {
      "cell_type": "code",
      "source": [
        "# Load another text dataset\n",
        "\n",
        "X_train, X_test, y_train_labels, y_test_labels, example_data,_, _ = ai.import_quickstart_data(\"imdb\")\n",
        "X_train = X_train[:1000]\n",
        "X_test = X_test[:1000]\n",
        "y_train_labels = y_train_labels[:1000]\n",
        "y_test_labels = y_test_labels[:1000]\n",
        "print(y_train_labels)"
      ],
      "metadata": {
        "colab": {
          "base_uri": "https://localhost:8080/"
        },
        "id": "oGB1ZV4jCdzc",
        "outputId": "d350ed99-519c-4eeb-9a62-46dd08cbbfcc"
      },
      "execution_count": null,
      "outputs": [
        {
          "output_type": "stream",
          "name": "stdout",
          "text": [
            "Downloading [================================================>]\n",
            "\n",
            "Data downloaded successfully.\n",
            "\n",
            "Preparing downloaded files for use...\n",
            "\n",
            "Success! Your Quick Start materials have been downloaded. \n",
            "You are now ready to run the tutorial.\n",
            "0      positive\n",
            "1      positive\n",
            "2      negative\n",
            "3      negative\n",
            "4      positive\n",
            "         ...   \n",
            "995    positive\n",
            "996    negative\n",
            "997    negative\n",
            "998    positive\n",
            "999    negative\n",
            "Name: label, Length: 1000, dtype: object\n"
          ]
        }
      ]
    },
    {
      "cell_type": "code",
      "source": [
        "latest_model.predict(preprocessor(X_test))"
      ],
      "metadata": {
        "colab": {
          "base_uri": "https://localhost:8080/"
        },
        "id": "ILVDsLGmHWDf",
        "outputId": "0b2c7fd1-7875-4114-b63f-25f6dfd357f0"
      },
      "execution_count": null,
      "outputs": [
        {
          "output_type": "stream",
          "name": "stdout",
          "text": [
            "32/32 [==============================] - 0s 2ms/step\n"
          ]
        },
        {
          "output_type": "execute_result",
          "data": {
            "text/plain": [
              "array([[0.49979478, 0.5002052 ],\n",
              "       [0.50664365, 0.4933563 ],\n",
              "       [0.4962984 , 0.5037016 ],\n",
              "       ...,\n",
              "       [0.5164275 , 0.48357248],\n",
              "       [0.48962247, 0.5103774 ],\n",
              "       [0.5006804 , 0.4993196 ]], dtype=float32)"
            ]
          },
          "metadata": {},
          "execution_count": 127
        }
      ]
    },
    {
      "cell_type": "markdown",
      "source": [
        "Deploy RESTFUL API"
      ],
      "metadata": {
        "id": "Hj7X450wHqs2"
      }
    },
    {
      "cell_type": "code",
      "source": [
        "deployment_folder = 'deploy'\n",
        "\n",
        "import os\n",
        "import shutil\n",
        "if os.path.isdir(deployment_folder):\n",
        "    shutil.rmtree(deployment_folder)\n",
        "os.mkdir(deployment_folder)\n",
        "\n",
        "input_json_exampledata = {\n",
        "    \"data\": \"string\"\n",
        "    }\n",
        "  \n",
        "output_json_exampledata = [\"label\"]"
      ],
      "metadata": {
        "id": "YP69WG4HFWR-"
      },
      "execution_count": null,
      "outputs": []
    },
    {
      "cell_type": "code",
      "source": [
        "!ls"
      ],
      "metadata": {
        "colab": {
          "base_uri": "https://localhost:8080/"
        },
        "id": "P2qDIzyoRSgM",
        "outputId": "6de53570-50bd-4973-8940-90d05923d028"
      },
      "execution_count": null,
      "outputs": [
        {
          "output_type": "stream",
          "name": "stdout",
          "text": [
            "covid_tweet_competition_data  model.onnx\n",
            "credentials.txt\t\t      preprocessor.zip\n",
            "deploy\t\t\t      quickstart_covid_competition\n",
            "imdb_competition_data\t      sample_data\n",
            "imdb_quickstart_materials\n"
          ]
        }
      ]
    },
    {
      "cell_type": "code",
      "source": [
        "# This is crucial\n",
        "shutil.copy2(\"./model.onnx\", \"./deploy/model.onnx\")"
      ],
      "metadata": {
        "colab": {
          "base_uri": "https://localhost:8080/",
          "height": 35
        },
        "id": "_s_2CtfYRUlP",
        "outputId": "7d980cf6-c715-488f-e7bb-9ecf192e2c78"
      },
      "execution_count": null,
      "outputs": [
        {
          "output_type": "execute_result",
          "data": {
            "text/plain": [
              "'./deploy/model.onnx'"
            ],
            "application/vnd.google.colaboratory.intrinsic+json": {
              "type": "string"
            }
          },
          "metadata": {},
          "execution_count": 11
        }
      ]
    },
    {
      "cell_type": "code",
      "source": [
        "custom_lambda_handler_code = \"\"\"\n",
        "\n",
        "# Importing all the required libraries\n",
        "import numpy as np\n",
        "import pandas as pd\n",
        "import os\n",
        "import six\n",
        "import json\n",
        "import onnxruntime as rt\n",
        "\n",
        "# load the ML model in global environment for faster inference time for subsequent function calls\n",
        "model_file_path = 'model.onnx'\n",
        "model = rt.InferenceSession('./' + model_file_path)\n",
        "\n",
        "\n",
        "# Transform text to embeddings\n",
        "from tensorflow.keras.preprocessing.text import Tokenizer\n",
        "from tensorflow.keras.preprocessing.sequence import pad_sequences\n",
        "\n",
        "# Build vocabulary from training text data\n",
        "tokenizer = Tokenizer(num_words=10000)\n",
        "\n",
        "def preprocessor(data, maxlen=40, max_words=10000):\n",
        "\n",
        "    tokenizer.fit_on_texts(data)\n",
        "    sequences = tokenizer.texts_to_sequences(data)\n",
        "\n",
        "    word_index = tokenizer.word_index\n",
        "    X = pad_sequences(sequences, maxlen=maxlen)\n",
        "\n",
        "    return X\n",
        "\n",
        "# this is the predict function to preprocess text data and generate predictions from our model\n",
        "def predict(text_data):\n",
        "\n",
        "    # labels corresponding to the index that is predicted\n",
        "    labels = ['negative', 'positive']\n",
        "\n",
        "    # preprocessing the input data\n",
        "    input_data = preprocessor(text_data)\n",
        "    \n",
        "    # generate prediction\n",
        "    input_name = model.get_inputs()[0].name\n",
        "    res = model.run(None, {input_name: input_data.astype(np.float32)})\n",
        "\n",
        "    result = list(map(lambda x: labels[x.argmax()], res))\n",
        "\n",
        "    return result\n",
        "\n",
        "### event['body'] is the input JSON data from REST API request ###\n",
        "\n",
        "def handler(event, context):\n",
        "\n",
        "    # Contents of 'body' key is string, converting content to JSON object\n",
        "    body = event['body']\n",
        "\n",
        "    if isinstance(body, six.string_types):\n",
        "        body = json.loads(body)\n",
        "\n",
        "    # Fetching image in the form of a string stored within 'data' key of body\n",
        "    data = body['data']\n",
        "    sample = data\n",
        "\n",
        "    # Predict function requires path to image file as argument, saving data to file\n",
        "    # temp_file = \"/tmp/temp_file\"\n",
        "    # with open(temp_file, \"wb\") as fh:\n",
        "    #     fh.write(sample)\n",
        "\n",
        "    # Calling the  predict function\n",
        "    result = predict(sample)\n",
        "\n",
        "    # Deleting the image file created by the user for prediction\n",
        "    # os.remove(temp_file)\n",
        "\n",
        "    # # Returning predictions to REST API output\n",
        "    result_dict = {\n",
        "        \"statusCode\": 200,\n",
        "        \"headers\": {\n",
        "            \"Access-Control-Allow-Origin\" : \"*\",\n",
        "            \"Access-Control-Allow-Credentials\": True,\n",
        "            \"Allow\" : \"GET, OPTIONS, POST\",\n",
        "            \"Access-Control-Allow-Methods\" : \"GET, OPTIONS, POST\",\n",
        "            \"Access-Control-Allow-Headers\" : \"*\"\n",
        "        },\n",
        "        \"body\":  json.dumps(result)\n",
        "    }\n",
        "    return result_dict \n",
        "\n",
        "\"\"\""
      ],
      "metadata": {
        "id": "0lBxB8KMMj9-"
      },
      "execution_count": null,
      "outputs": []
    },
    {
      "cell_type": "code",
      "source": [
        "import numpy as np\n",
        "import pandas as pd\n",
        "import os\n",
        "import six\n",
        "import base64\n",
        "import json\n",
        "import onnxruntime as rt\n",
        "\n",
        "# load the ML model in global environment for faster inference time for subsequent function calls\n",
        "model_file_path = 'model.onnx'\n",
        "model = rt.InferenceSession('./' + model_file_path)\n",
        "\n",
        "\n",
        "# Transform text to embeddings\n",
        "from tensorflow.keras.preprocessing.text import Tokenizer\n",
        "from tensorflow.keras.preprocessing.sequence import pad_sequences\n",
        "\n",
        "# Build vocabulary from training text data\n",
        "tokenizer = Tokenizer(num_words=10000)\n",
        "\n",
        "def preprocessor(data, maxlen=40, max_words=10000):\n",
        "\n",
        "    tokenizer.fit_on_texts(data)\n",
        "    sequences = tokenizer.texts_to_sequences(data)\n",
        "\n",
        "    word_index = tokenizer.word_index\n",
        "    X = pad_sequences(sequences, maxlen=maxlen)\n",
        "\n",
        "    return X\n",
        "\n",
        "\n",
        "# this is the predict function to preprocess text data and generate predictions from our model\n",
        "def predict(text_data):\n",
        "\n",
        "    # labels corresponding to the index that is predicted\n",
        "    labels = ['negative', 'positive']\n",
        "\n",
        "    # preprocessing the input data\n",
        "    input_data = preprocessor(text_data)\n",
        "    \n",
        "    # generate prediction\n",
        "    input_name = model.get_inputs()[0].name\n",
        "    res = model.run(None, {input_name: input_data.astype(np.float32)})\n",
        "    prob = res[0]\n",
        "    index = prob.argmax(axis=-1)\n",
        "\n",
        "    result = list(map(lambda x: labels[x.argmax()], index))\n",
        "\n",
        "    return result\n",
        "\n",
        "### event['body'] is the input JSON data from REST API request ###\n",
        "\n",
        "def handler(event, context):\n",
        "\n",
        "    # Contents of 'body' key is string, converting content to JSON object\n",
        "    body = event['body']\n",
        "\n",
        "    if isinstance(body, six.string_types):\n",
        "        body = json.loads(body)\n",
        "\n",
        "    # Fetching image in the form of a string stored within 'data' key of body\n",
        "    sample = body['data']\n",
        "    # sample = base64.b64decode(data)\n",
        "\n",
        "    # Predict function requires path to image file as argument, saving data to file\n",
        "    # temp_file = \"/tmp/temp_file\"\n",
        "    # with open(temp_file, \"wb\") as fh:\n",
        "    #     fh.write(sample)\n",
        "\n",
        "    # Calling the  predict function\n",
        "    result = predict(sample)\n",
        "\n",
        "    # Deleting the image file created by the user for prediction\n",
        "    # os.remove(temp_file)\n",
        "\n",
        "    # # Returning predictions to REST API output\n",
        "    result_dict = {\n",
        "        \"statusCode\": 200,\n",
        "        \"headers\": {\n",
        "            \"Access-Control-Allow-Origin\" : \"*\",\n",
        "            \"Access-Control-Allow-Credentials\": True,\n",
        "            \"Allow\" : \"GET, OPTIONS, POST\",\n",
        "            \"Access-Control-Allow-Methods\" : \"GET, OPTIONS, POST\",\n",
        "            \"Access-Control-Allow-Headers\" : \"*\"\n",
        "        },\n",
        "        \"body\":  json.dumps(result)\n",
        "    }\n",
        "    return result_dict \n",
        "\n",
        "event = {\"body\": json.dumps({\"data\": [\"I love Python\"]})}\n",
        "handler(event, None)"
      ],
      "metadata": {
        "colab": {
          "base_uri": "https://localhost:8080/"
        },
        "id": "p0KL2QtMLvcc",
        "outputId": "4d24292f-fd9c-4518-c88b-23f2addd1e45"
      },
      "execution_count": null,
      "outputs": [
        {
          "output_type": "execute_result",
          "data": {
            "text/plain": [
              "{'statusCode': 200,\n",
              " 'headers': {'Access-Control-Allow-Origin': '*',\n",
              "  'Access-Control-Allow-Credentials': True,\n",
              "  'Allow': 'GET, OPTIONS, POST',\n",
              "  'Access-Control-Allow-Methods': 'GET, OPTIONS, POST',\n",
              "  'Access-Control-Allow-Headers': '*'},\n",
              " 'body': '[\"negative\"]'}"
            ]
          },
          "metadata": {},
          "execution_count": 47
        }
      ]
    },
    {
      "cell_type": "code",
      "source": [
        "with open(\"custom_lambda_handler.py\", \"w\") as handler_file:\n",
        "    handler_file.writelines(custom_lambda_handler_code)"
      ],
      "metadata": {
        "id": "UPXuvcH7SHfc"
      },
      "execution_count": null,
      "outputs": []
    },
    {
      "cell_type": "code",
      "source": [
        "from aimodelshare.aws import set_credentials\n",
        "set_credentials(credential_file=\"credentials.txt\", type=\"deploy_model\", manual=False)"
      ],
      "metadata": {
        "colab": {
          "base_uri": "https://localhost:8080/"
        },
        "id": "zthkR7cpR-Xp",
        "outputId": "89f33b17-e7e9-423c-df75-31d1c3693b73"
      },
      "execution_count": null,
      "outputs": [
        {
          "output_type": "stream",
          "name": "stdout",
          "text": [
            "AI Model Share login credentials set successfully.\n",
            "AWS credentials set successfully.\n"
          ]
        }
      ]
    },
    {
      "cell_type": "code",
      "source": [
        "custom_lambda_filepath = \"custom_lambda_handler.py\"\n",
        "deployment_dir = \"deploy\"\n",
        "private = \"FALSE\"\n",
        "custom_libraries = \"onnxruntime,numpy,pandas,pillow,tensorflow\"\n",
        "\n",
        "from aimodelshare.deploy_custom_lambda import deploy_custom_lambda\n",
        "deploy_custom_lambda(input_json_exampledata,\n",
        "                     output_json_exampledata,\n",
        "                     custom_lambda_filepath,\n",
        "                     deployment_dir,\n",
        "                     private,\n",
        "                     custom_libraries=custom_libraries)"
      ],
      "metadata": {
        "colab": {
          "base_uri": "https://localhost:8080/"
        },
        "id": "m2S_QZFLR_gy",
        "outputId": "1f4cdf3d-6406-40f1-f10a-ab6237d8aaef"
      },
      "execution_count": null,
      "outputs": [
        {
          "output_type": "stream",
          "name": "stdout",
          "text": [
            "[=====================================] Progress: 100% - API deployment completed!                          \n",
            "\n",
            "We need some information about your model before we can generate your API.\n",
            "\n",
            "Name your deployment: ming22\n",
            "Describe your deployment: ming22_demo\n",
            "Describe your deployment's performance (OPTIONAL): \n",
            "Enter comma-separated search categories for your deployment (OPTIONAL): \n",
            "\n",
            "Your AI Model Share API was created in 478 seconds. API Url: \"https://x1sfbkty10.execute-api.us-east-2.amazonaws.com/prod/m\"\n",
            "\n",
            "\n",
            "\n",
            "Follow this link to explore your Model Playground's functionality\n",
            "You can make predictions with the cURL functionality and access example code from the Programmatic tab.\n",
            "https://www.modelshare.org/detail/{\"curlcolabhtmllinkcode\": \"\", \"delete\": \"FALSE\", \"searchitems\": \"superbtum_ming22_demo__custom_https://x1sfbkty10.execute-api.us-east-2.amazonaws.com/prod/m_\", \"input_shape\": \"\", \"apicalls\": \"0\", \"apimodeltype\": \"custom\", \"createdAt\": \"1666881969789\", \"Private\": \"FALSE\", \"version\": \"1\", \"applist\": \"[]\", \"input_feature_names\": \"\", \"apimodelevaluation\": \"\", \"id\": \"model:2522\", \"imageUrl\": \"https://images.unsplash.com/photo-1485827404703-89b55fcc595e\", \"apimodeldescription\": \"ming22_demo\", \"modelname\": \"ming22\", \"updatedAt\": \"-1666881970339\", \"Categorical\": \"FALSE\", \"tags\": \"\", \"useremails\": \"publicaimsplayground\", \"apideveloper\": \"SuperbTUM\", \"apiurl\": \"https://x1sfbkty10.execute-api.us-east-2.amazonaws.com/prod/m\", \"emaillist\": \"\", \"input_feature_dtypes\": \"\", \"exampledata\": \"\", \"unique_model_id\": \"x1sfbkty10\", \"pythoncolabhtmllinkcode\": \"\", \"rcolabhtmllinkcode\": \"\", \"bucket_name\": \"aimodelsharesuperbtum165928433299useast2\"}\n"
          ]
        }
      ]
    },
    {
      "cell_type": "code",
      "source": [
        "import base64\n",
        "import requests\n",
        "import json\n",
        "\n",
        "api_url = \"https://x1sfbkty10.execute-api.us-east-2.amazonaws.com/prod/m\"\n",
        "\n",
        "\n",
        "# Import example flower image and base64 encode\n",
        "# with open(\"/content/quickstart_materials/example_data/100080576_f52e8ee070_n.jpg\", \"rb\") as image_file:\n",
        "#   encoded_string = base64.b64encode(image_file.read())\n",
        "#   data = json.dumps({\"data\": encoded_string.decode('utf-8') })\n",
        "\n",
        "data = json.dumps({\"data\": [\"I love Python\"]})\n",
        "print(data)\n",
        "\n",
        "# Set up authorization headers and add token (Your API token is available in your playground page...\n",
        "# under predict > programmatic)\n",
        "headers = {\"Content-Type\": \"application/json\", \n",
        "      \"authorizationToken\": \"eyJraWQiOiIxRHBcL2FMakJvNmozdHRHZFd6dEVEbUR5V0FPN3JtVEVyaHRDRnltQmlVST0iLCJhbGciOiJSUzI1NiJ9.eyJjdXN0b206b3JnYW5pemF0aW9uIjoiQ29sdW1iaWEgVW5pdmVyc2l0eSIsInN1YiI6IjUxOGE3ODY5LWZlOTUtNDljNC1hNGIzLTZmZTUwMDNjYzVkYiIsImVtYWlsX3ZlcmlmaWVkIjp0cnVlLCJpc3MiOiJodHRwczpcL1wvY29nbml0by1pZHAudXMtZWFzdC0yLmFtYXpvbmF3cy5jb21cL3VzLWVhc3QtMl9YM0JURzc4ZzIiLCJwaG9uZV9udW1iZXJfdmVyaWZpZWQiOmZhbHNlLCJjb2duaXRvOnVzZXJuYW1lIjoiU3VwZXJiVFVNIiwiYXVkIjoiMjV2c3NibmVkMmJiYW9pMXE3cnM0aTkxNHUiLCJldmVudF9pZCI6IjIxZjljZGE0LWIwMjItNGY3YS04NDI4LWE5ZDBkNDUzMzhkYiIsInRva2VuX3VzZSI6ImlkIiwiYXV0aF90aW1lIjoxNjY2ODc2NzIwLCJuYW1lIjoiTWluZ3poZSBIdSIsImN1c3RvbTpnaXRodWIiOiJodHRwczpcL1wvZ2l0aHViLmNvbVwvU3VwZXJiVFVNIiwicGhvbmVfbnVtYmVyIjoiKzE2NDY5MjUwNzk0IiwiZXhwIjoxNjY2OTY1NzE4LCJpYXQiOjE2NjY4NzkzMTksImVtYWlsIjoibWg0MTE2QGNvbHVtYmlhLmVkdSJ9.ZIG56lchJRB11TWS_ZsfoucFaK9zoXC_lHq0rzRmBXjid0uAVxggV60c3iZXziX4Ht33ao5COM9gBaOM6ev5Q9-j0uBcg0e--BycmCNJqLUf717YznFnNp8dK2h5MwugB68b2mOZCbHckXsHv-sBJwz0MeylEHDb4ilbmt1OMhBLcXD6JLH5USsZWuXenEsMEYE7kpTufcd9Fenl0mpgdLgt1G0rcg9ccIuTJXPL-2AK1b_6RU8KLelWjTBcqdOE0pMqfbZwhKX9Hq8ZhDlSDKJ5c114r6AI42lX45Rvusg51GiL8SnlfPViQaf_78YAmgEVrPDXlC14iSSx7yIyXg\" }\n",
        "\n",
        "prediction = requests.request(\"POST\", api_url, headers = headers, data=data)\n",
        "\n",
        "# Print prediction\n",
        "json.loads(prediction.text) #?"
      ],
      "metadata": {
        "colab": {
          "base_uri": "https://localhost:8080/"
        },
        "id": "Ub4404AsSOQA",
        "outputId": "3dc05b43-ccf2-4f9e-bedf-15a726970be6"
      },
      "execution_count": null,
      "outputs": [
        {
          "output_type": "stream",
          "name": "stdout",
          "text": [
            "{\"data\": [\"I love Python\"]}\n"
          ]
        },
        {
          "output_type": "execute_result",
          "data": {
            "text/plain": [
              "{'statusCode': 200,\n",
              " 'headers': {'Access-Control-Allow-Origin': '*',\n",
              "  'Access-Control-Allow-Credentials': True,\n",
              "  'Allow': 'GET, OPTIONS, POST',\n",
              "  'Access-Control-Allow-Methods': 'GET, OPTIONS, POST',\n",
              "  'Access-Control-Allow-Headers': '*'},\n",
              " 'body': '[\"negative\"]'}"
            ]
          },
          "metadata": {},
          "execution_count": 53
        }
      ]
    },
    {
      "cell_type": "markdown",
      "source": [
        "Delete from backend: a specific or old one"
      ],
      "metadata": {
        "id": "_PFc6xNlqbQp"
      }
    },
    {
      "cell_type": "code",
      "source": [
        "from __future__ import absolute_import, print_function, unicode_literals\n",
        "import boto3\n",
        "from datetime import datetime\n",
        "\n",
        "\n",
        "client = boto3.client('lambda', region_name=\"us-east-2\")\n",
        "functions = sorted(client.list_functions()['Functions'], key=lambda x: x[\"LastModified\"])\n",
        "format = \"%Y-%m-%dT%H:%M:%S.%f+0000\"\n",
        "threshold_time = datetime.strptime(functions[-(len(functions)>>1)][\"LastModified\"], format)\n",
        "for function in functions:\n",
        "    if threshold_time > datetime.strptime(function[\"LastModified\"], format):\n",
        "        arn = function['FunctionArn']\n",
        "        print('delete_function(FunctionName={})'.format(arn))\n",
        "        client.delete_function(FunctionName=arn)  # uncomment me once you've checked\n",
        "    else:\n",
        "        versions = client.list_versions_by_function(FunctionName=function['FunctionArn'])['Versions']\n",
        "        for version in versions:\n",
        "            if version['Version'] != function['Version']:\n",
        "                arn = version['FunctionArn']\n",
        "                print('delete_function(FunctionName={})'.format(arn))\n",
        "                client.delete_function(FunctionName=arn)  # uncomment me once you've checked\n",
        "\n",
        "print(\"-----------------after delete\")\n",
        "for function in functions:\n",
        "  print(function)"
      ],
      "metadata": {
        "id": "8TSiroa4qd9t",
        "colab": {
          "base_uri": "https://localhost:8080/"
        },
        "outputId": "d2d00af5-1d99-4e3c-fbe2-5007ff130901"
      },
      "execution_count": null,
      "outputs": [
        {
          "output_type": "stream",
          "name": "stdout",
          "text": [
            "delete_function(FunctionName=arn:aws:lambda:us-east-2:165928433299:function:evalfunctionYDkgDXsS33T3aadWhGFBYE)\n",
            "delete_function(FunctionName=arn:aws:lambda:us-east-2:165928433299:function:modfunctionUnRQ3GZpQNHTcmQyC2RjrA)\n",
            "delete_function(FunctionName=arn:aws:lambda:us-east-2:165928433299:function:evalfunctionjsKDAZ2Y6o2d2La8Cpz6RA)\n",
            "delete_function(FunctionName=arn:aws:lambda:us-east-2:165928433299:function:redisAccessjsKDAZ2Y6o2d2La8Cpz6RA)\n",
            "delete_function(FunctionName=arn:aws:lambda:us-east-2:165928433299:function:evalfunctionUjg6FgXGvUJyjYXrDj64mW)\n",
            "delete_function(FunctionName=arn:aws:lambda:us-east-2:165928433299:function:redisAccessUjg6FgXGvUJyjYXrDj64mW)\n",
            "delete_function(FunctionName=arn:aws:lambda:us-east-2:165928433299:function:redisAccessLBJAdyHDQF39Tx9PEt9XQd)\n",
            "delete_function(FunctionName=arn:aws:lambda:us-east-2:165928433299:function:redisAccessThnEjCQimra2GG67yGvo2d)\n",
            "delete_function(FunctionName=arn:aws:lambda:us-east-2:165928433299:function:evalfunctiongvLh2TRixogABkeaCacved)\n",
            "delete_function(FunctionName=arn:aws:lambda:us-east-2:165928433299:function:evalfunctionZ3PtTwt9jjSgc3aycciULZ)\n",
            "delete_function(FunctionName=arn:aws:lambda:us-east-2:165928433299:function:modfunctionUCD9Vdf3AB5n5N7MNAWijC)\n",
            "delete_function(FunctionName=arn:aws:lambda:us-east-2:165928433299:function:modfunctionW7jJqR3NWnZwhqWg9ajvSL)\n",
            "delete_function(FunctionName=arn:aws:lambda:us-east-2:165928433299:function:evalfunctionW7jJqR3NWnZwhqWg9ajvSL)\n",
            "delete_function(FunctionName=arn:aws:lambda:us-east-2:165928433299:function:redisAccessW7jJqR3NWnZwhqWg9ajvSL)\n",
            "delete_function(FunctionName=arn:aws:lambda:us-east-2:165928433299:function:modfunctionMPFr3XTuf6gYKwFJfMy2dS)\n",
            "delete_function(FunctionName=arn:aws:lambda:us-east-2:165928433299:function:evalfunctionMPFr3XTuf6gYKwFJfMy2dS)\n",
            "delete_function(FunctionName=arn:aws:lambda:us-east-2:165928433299:function:redisAccessMPFr3XTuf6gYKwFJfMy2dS)\n",
            "delete_function(FunctionName=arn:aws:lambda:us-east-2:165928433299:function:modfunction2ugYaTQXurcE5NgQG6mBFg)\n",
            "delete_function(FunctionName=arn:aws:lambda:us-east-2:165928433299:function:evalfunction2ugYaTQXurcE5NgQG6mBFg)\n",
            "delete_function(FunctionName=arn:aws:lambda:us-east-2:165928433299:function:redisAccess2ugYaTQXurcE5NgQG6mBFg)\n",
            "-----------------after delete\n",
            "{'FunctionName': 'evalfunctionYDkgDXsS33T3aadWhGFBYE', 'FunctionArn': 'arn:aws:lambda:us-east-2:165928433299:function:evalfunctionYDkgDXsS33T3aadWhGFBYE', 'Runtime': 'python3.7', 'Role': 'arn:aws:iam::165928433299:role/myService-dev-us-us-east-2-lambdaRoleYDkgDXsS33T3aadWhGFBYE', 'Handler': 'main.handler', 'CodeSize': 57941, 'Description': '', 'Timeout': 90, 'MemorySize': 2048, 'LastModified': '2022-10-25T23:07:24.916+0000', 'CodeSha256': 'kGbQN2NFHDWUjo7FHmRFeEA2TNDoH/xt1nXcGCvTMSE=', 'Version': '$LATEST', 'TracingConfig': {'Mode': 'PassThrough'}, 'RevisionId': 'a3709aba-352a-4d16-b17f-13f5af2b4cb5', 'Layers': [{'Arn': 'arn:aws:lambda:us-east-2:517169013426:layer:eval_layer_test:5', 'CodeSize': 69748945}, {'Arn': 'arn:aws:lambda:us-east-2:517169013426:layer:aimsauth_layer:9', 'CodeSize': 1524004}], 'PackageType': 'Zip', 'Architectures': ['x86_64']}\n",
            "{'FunctionName': 'modfunctionUnRQ3GZpQNHTcmQyC2RjrA', 'FunctionArn': 'arn:aws:lambda:us-east-2:165928433299:function:modfunctionUnRQ3GZpQNHTcmQyC2RjrA', 'Role': 'arn:aws:iam::165928433299:role/modfunctionUnRQ3GZpQNHTcmQyC2RjrA-lambda-role', 'CodeSize': 0, 'Description': '', 'Timeout': 120, 'MemorySize': 1024, 'LastModified': '2022-10-25T23:55:29.998+0000', 'CodeSha256': 'eae3e406ed2fe956b6bf78fc0668bce8b36f9fe3d3a7aa06fcc33f906354f794', 'Version': '$LATEST', 'TracingConfig': {'Mode': 'PassThrough'}, 'RevisionId': '6c94f21b-8826-4891-b3f6-8cfb6e87650c', 'PackageType': 'Image', 'Architectures': ['x86_64']}\n",
            "{'FunctionName': 'evalfunctionjsKDAZ2Y6o2d2La8Cpz6RA', 'FunctionArn': 'arn:aws:lambda:us-east-2:165928433299:function:evalfunctionjsKDAZ2Y6o2d2La8Cpz6RA', 'Runtime': 'python3.7', 'Role': 'arn:aws:iam::165928433299:role/myService-dev-us-us-east-2-lambdaRolejsKDAZ2Y6o2d2La8Cpz6RA', 'Handler': 'main.handler', 'CodeSize': 57941, 'Description': '', 'Timeout': 90, 'MemorySize': 2048, 'LastModified': '2022-10-26T00:00:27.903+0000', 'CodeSha256': 'eEl7y0eXpc0ODYeSZLkFR3O+UQLjU9hucZ21KXL5b+o=', 'Version': '$LATEST', 'TracingConfig': {'Mode': 'PassThrough'}, 'RevisionId': '916e920e-f53a-4aa6-a911-82c94767f00c', 'Layers': [{'Arn': 'arn:aws:lambda:us-east-2:517169013426:layer:eval_layer_test:5', 'CodeSize': 69748945}, {'Arn': 'arn:aws:lambda:us-east-2:517169013426:layer:aimsauth_layer:9', 'CodeSize': 1524004}], 'PackageType': 'Zip', 'Architectures': ['x86_64']}\n",
            "{'FunctionName': 'redisAccessjsKDAZ2Y6o2d2La8Cpz6RA', 'FunctionArn': 'arn:aws:lambda:us-east-2:165928433299:function:redisAccessjsKDAZ2Y6o2d2La8Cpz6RA', 'Runtime': 'python3.7', 'Role': 'arn:aws:iam::165928433299:role/myService-dev-us-us-east-2-lambdaRolejsKDAZ2Y6o2d2La8Cpz6RA', 'Handler': 'main.handler', 'CodeSize': 10443, 'Description': '', 'Timeout': 90, 'MemorySize': 512, 'LastModified': '2022-10-26T00:00:42.781+0000', 'CodeSha256': '4eSGUPKqEeaSluZJPGzR/dEUPGnUQjAdkN0xTraCYrE=', 'Version': '$LATEST', 'TracingConfig': {'Mode': 'PassThrough'}, 'RevisionId': '767475bb-b995-4725-9ad1-76b75cd59db3', 'Layers': [{'Arn': 'arn:aws:lambda:us-east-2:517169013426:layer:aimsauth_layer:9', 'CodeSize': 1524004}], 'PackageType': 'Zip', 'Architectures': ['x86_64']}\n",
            "{'FunctionName': 'evalfunctionUjg6FgXGvUJyjYXrDj64mW', 'FunctionArn': 'arn:aws:lambda:us-east-2:165928433299:function:evalfunctionUjg6FgXGvUJyjYXrDj64mW', 'Runtime': 'python3.7', 'Role': 'arn:aws:iam::165928433299:role/myService-dev-us-us-east-2-lambdaRoleUjg6FgXGvUJyjYXrDj64mW', 'Handler': 'main.handler', 'CodeSize': 57941, 'Description': '', 'Timeout': 90, 'MemorySize': 2048, 'LastModified': '2022-10-26T00:09:54.414+0000', 'CodeSha256': 'e0tMukxTNDkokETY0wiSrl9035GQiQlkMLwH+92qCSc=', 'Version': '$LATEST', 'TracingConfig': {'Mode': 'PassThrough'}, 'RevisionId': '604fd9c6-08d8-4c21-91b8-495b7a2caf2d', 'Layers': [{'Arn': 'arn:aws:lambda:us-east-2:517169013426:layer:eval_layer_test:5', 'CodeSize': 69748945}, {'Arn': 'arn:aws:lambda:us-east-2:517169013426:layer:aimsauth_layer:9', 'CodeSize': 1524004}], 'PackageType': 'Zip', 'Architectures': ['x86_64']}\n",
            "{'FunctionName': 'redisAccessUjg6FgXGvUJyjYXrDj64mW', 'FunctionArn': 'arn:aws:lambda:us-east-2:165928433299:function:redisAccessUjg6FgXGvUJyjYXrDj64mW', 'Runtime': 'python3.7', 'Role': 'arn:aws:iam::165928433299:role/myService-dev-us-us-east-2-lambdaRoleUjg6FgXGvUJyjYXrDj64mW', 'Handler': 'main.handler', 'CodeSize': 10443, 'Description': '', 'Timeout': 90, 'MemorySize': 512, 'LastModified': '2022-10-26T00:10:09.272+0000', 'CodeSha256': 'fFqjwYKKQWamDirT8VxT10EMUjNVRXXPK74uwJr5pg4=', 'Version': '$LATEST', 'TracingConfig': {'Mode': 'PassThrough'}, 'RevisionId': '42581684-25ab-4c48-90a0-65bf3d77ce26', 'Layers': [{'Arn': 'arn:aws:lambda:us-east-2:517169013426:layer:aimsauth_layer:9', 'CodeSize': 1524004}], 'PackageType': 'Zip', 'Architectures': ['x86_64']}\n",
            "{'FunctionName': 'redisAccessLBJAdyHDQF39Tx9PEt9XQd', 'FunctionArn': 'arn:aws:lambda:us-east-2:165928433299:function:redisAccessLBJAdyHDQF39Tx9PEt9XQd', 'Runtime': 'python3.7', 'Role': 'arn:aws:iam::165928433299:role/myService-dev-us-us-east-2-lambdaRoleLBJAdyHDQF39Tx9PEt9XQd', 'Handler': 'main.handler', 'CodeSize': 10443, 'Description': '', 'Timeout': 90, 'MemorySize': 512, 'LastModified': '2022-10-26T00:24:12.401+0000', 'CodeSha256': 'uDcrU1ZeHeo+LM50L6mE9m96l/+rxwZczcdigfD9tG8=', 'Version': '$LATEST', 'TracingConfig': {'Mode': 'PassThrough'}, 'RevisionId': 'f19aa01e-3013-41aa-b053-10da1b749d35', 'Layers': [{'Arn': 'arn:aws:lambda:us-east-2:517169013426:layer:aimsauth_layer:9', 'CodeSize': 1524004}], 'PackageType': 'Zip', 'Architectures': ['x86_64']}\n",
            "{'FunctionName': 'redisAccessThnEjCQimra2GG67yGvo2d', 'FunctionArn': 'arn:aws:lambda:us-east-2:165928433299:function:redisAccessThnEjCQimra2GG67yGvo2d', 'Runtime': 'python3.7', 'Role': 'arn:aws:iam::165928433299:role/myService-dev-us-us-east-2-lambdaRoleThnEjCQimra2GG67yGvo2d', 'Handler': 'main.handler', 'CodeSize': 10443, 'Description': '', 'Timeout': 90, 'MemorySize': 512, 'LastModified': '2022-10-26T00:27:28.019+0000', 'CodeSha256': 'Y2bd/kaKr+7/JtqfBrJPm5VjK4gqL+/1aFFFBFHdyv4=', 'Version': '$LATEST', 'TracingConfig': {'Mode': 'PassThrough'}, 'RevisionId': '1ace71b4-1bda-49b2-9f4e-63c3f8c64637', 'Layers': [{'Arn': 'arn:aws:lambda:us-east-2:517169013426:layer:aimsauth_layer:9', 'CodeSize': 1524004}], 'PackageType': 'Zip', 'Architectures': ['x86_64']}\n",
            "{'FunctionName': 'evalfunctiongvLh2TRixogABkeaCacved', 'FunctionArn': 'arn:aws:lambda:us-east-2:165928433299:function:evalfunctiongvLh2TRixogABkeaCacved', 'Runtime': 'python3.7', 'Role': 'arn:aws:iam::165928433299:role/myService-dev-us-us-east-2-lambdaRolegvLh2TRixogABkeaCacved', 'Handler': 'main.handler', 'CodeSize': 57941, 'Description': '', 'Timeout': 90, 'MemorySize': 2048, 'LastModified': '2022-10-26T01:32:34.962+0000', 'CodeSha256': '7HkEV0IAAO6EGnnpFONS7c1djtxKiyWWMRbhpN7LjUU=', 'Version': '$LATEST', 'TracingConfig': {'Mode': 'PassThrough'}, 'RevisionId': '1e8817e7-ae7e-4652-a4bc-c0dd04b48562', 'Layers': [{'Arn': 'arn:aws:lambda:us-east-2:517169013426:layer:eval_layer_test:5', 'CodeSize': 69748945}, {'Arn': 'arn:aws:lambda:us-east-2:517169013426:layer:aimsauth_layer:9', 'CodeSize': 1524004}], 'PackageType': 'Zip', 'Architectures': ['x86_64']}\n",
            "{'FunctionName': 'evalfunctionZ3PtTwt9jjSgc3aycciULZ', 'FunctionArn': 'arn:aws:lambda:us-east-2:165928433299:function:evalfunctionZ3PtTwt9jjSgc3aycciULZ', 'Runtime': 'python3.7', 'Role': 'arn:aws:iam::165928433299:role/myService-dev-us-us-east-2-lambdaRoleZ3PtTwt9jjSgc3aycciULZ', 'Handler': 'main.handler', 'CodeSize': 57941, 'Description': '', 'Timeout': 90, 'MemorySize': 2048, 'LastModified': '2022-10-26T01:44:03.773+0000', 'CodeSha256': 'gnKEWKieLugPVmCEMH1lfKBbGFuEnD5ZoHsHnebuEUs=', 'Version': '$LATEST', 'TracingConfig': {'Mode': 'PassThrough'}, 'RevisionId': 'dd252f8c-16a2-4ab7-b1be-20628b565cb1', 'Layers': [{'Arn': 'arn:aws:lambda:us-east-2:517169013426:layer:eval_layer_test:5', 'CodeSize': 69748945}, {'Arn': 'arn:aws:lambda:us-east-2:517169013426:layer:aimsauth_layer:9', 'CodeSize': 1524004}], 'PackageType': 'Zip', 'Architectures': ['x86_64']}\n",
            "{'FunctionName': 'modfunctionUCD9Vdf3AB5n5N7MNAWijC', 'FunctionArn': 'arn:aws:lambda:us-east-2:165928433299:function:modfunctionUCD9Vdf3AB5n5N7MNAWijC', 'Role': 'arn:aws:iam::165928433299:role/modfunctionUCD9Vdf3AB5n5N7MNAWijC-lambda-role', 'CodeSize': 0, 'Description': '', 'Timeout': 120, 'MemorySize': 1024, 'LastModified': '2022-10-26T02:47:56.603+0000', 'CodeSha256': 'dd477d88f8806ba33818edb8d7c5fbf9139b088ced33181b40afd2f73c77bf2c', 'Version': '$LATEST', 'TracingConfig': {'Mode': 'PassThrough'}, 'RevisionId': 'd9f54a3f-d5cc-495c-9571-49dcdb6886dd', 'PackageType': 'Image', 'Architectures': ['x86_64']}\n",
            "{'FunctionName': 'modfunctionW7jJqR3NWnZwhqWg9ajvSL', 'FunctionArn': 'arn:aws:lambda:us-east-2:165928433299:function:modfunctionW7jJqR3NWnZwhqWg9ajvSL', 'Role': 'arn:aws:iam::165928433299:role/modfunctionW7jJqR3NWnZwhqWg9ajvSL-lambda-role', 'CodeSize': 0, 'Description': '', 'Timeout': 120, 'MemorySize': 1024, 'LastModified': '2022-10-26T02:53:34.956+0000', 'CodeSha256': '6a0ac69697b6ee05d80aaedbc66d332a8e488ba9acc715f3bc563f59f70b2d69', 'Version': '$LATEST', 'TracingConfig': {'Mode': 'PassThrough'}, 'RevisionId': '477dac54-5cbb-4965-958d-d6268ce294c0', 'PackageType': 'Image', 'Architectures': ['x86_64']}\n",
            "{'FunctionName': 'evalfunctionW7jJqR3NWnZwhqWg9ajvSL', 'FunctionArn': 'arn:aws:lambda:us-east-2:165928433299:function:evalfunctionW7jJqR3NWnZwhqWg9ajvSL', 'Runtime': 'python3.7', 'Role': 'arn:aws:iam::165928433299:role/myService-dev-us-us-east-2-lambdaRoleW7jJqR3NWnZwhqWg9ajvSL', 'Handler': 'main.handler', 'CodeSize': 57941, 'Description': '', 'Timeout': 90, 'MemorySize': 2048, 'LastModified': '2022-10-26T02:55:10.136+0000', 'CodeSha256': 'TeZFgIEHcSyX2EP1lkIA0M8fJpB5KZjtlr7uAwO+2mk=', 'Version': '$LATEST', 'TracingConfig': {'Mode': 'PassThrough'}, 'RevisionId': '1cb45073-bc9b-4ac4-9513-bece2d987049', 'Layers': [{'Arn': 'arn:aws:lambda:us-east-2:517169013426:layer:eval_layer_test:5', 'CodeSize': 69748945}, {'Arn': 'arn:aws:lambda:us-east-2:517169013426:layer:aimsauth_layer:9', 'CodeSize': 1524004}], 'PackageType': 'Zip', 'Architectures': ['x86_64']}\n",
            "{'FunctionName': 'redisAccessW7jJqR3NWnZwhqWg9ajvSL', 'FunctionArn': 'arn:aws:lambda:us-east-2:165928433299:function:redisAccessW7jJqR3NWnZwhqWg9ajvSL', 'Runtime': 'python3.7', 'Role': 'arn:aws:iam::165928433299:role/myService-dev-us-us-east-2-lambdaRoleW7jJqR3NWnZwhqWg9ajvSL', 'Handler': 'main.handler', 'CodeSize': 10443, 'Description': '', 'Timeout': 90, 'MemorySize': 512, 'LastModified': '2022-10-26T02:55:25.028+0000', 'CodeSha256': 'rsK8AZWmY7ntX+aUmu7cv2E/eB0eJg/ycyMz94lTO7o=', 'Version': '$LATEST', 'TracingConfig': {'Mode': 'PassThrough'}, 'RevisionId': 'cc21c1e4-a7ff-43e1-8ee1-4a873b50c81e', 'Layers': [{'Arn': 'arn:aws:lambda:us-east-2:517169013426:layer:aimsauth_layer:9', 'CodeSize': 1524004}], 'PackageType': 'Zip', 'Architectures': ['x86_64']}\n",
            "{'FunctionName': 'modfunctionMPFr3XTuf6gYKwFJfMy2dS', 'FunctionArn': 'arn:aws:lambda:us-east-2:165928433299:function:modfunctionMPFr3XTuf6gYKwFJfMy2dS', 'Role': 'arn:aws:iam::165928433299:role/modfunctionMPFr3XTuf6gYKwFJfMy2dS-lambda-role', 'CodeSize': 0, 'Description': '', 'Timeout': 120, 'MemorySize': 1024, 'LastModified': '2022-10-26T03:02:44.288+0000', 'CodeSha256': '6b66027a3a65376f39060688aa337596b6837f0984feb09b70f350d15f5b737d', 'Version': '$LATEST', 'TracingConfig': {'Mode': 'PassThrough'}, 'RevisionId': 'c8b58435-7f9c-440e-a910-8766d6bba821', 'PackageType': 'Image', 'Architectures': ['x86_64']}\n",
            "{'FunctionName': 'evalfunctionMPFr3XTuf6gYKwFJfMy2dS', 'FunctionArn': 'arn:aws:lambda:us-east-2:165928433299:function:evalfunctionMPFr3XTuf6gYKwFJfMy2dS', 'Runtime': 'python3.7', 'Role': 'arn:aws:iam::165928433299:role/myService-dev-us-us-east-2-lambdaRoleMPFr3XTuf6gYKwFJfMy2dS', 'Handler': 'main.handler', 'CodeSize': 57941, 'Description': '', 'Timeout': 90, 'MemorySize': 2048, 'LastModified': '2022-10-26T03:04:16.341+0000', 'CodeSha256': 'RoERZa37R8WL9RywlERX1/p+zq6rkfgMb1DQVuU8JdA=', 'Version': '$LATEST', 'TracingConfig': {'Mode': 'PassThrough'}, 'RevisionId': 'a43cd2b0-0dc0-477e-877d-b5316234ceb8', 'Layers': [{'Arn': 'arn:aws:lambda:us-east-2:517169013426:layer:eval_layer_test:5', 'CodeSize': 69748945}, {'Arn': 'arn:aws:lambda:us-east-2:517169013426:layer:aimsauth_layer:9', 'CodeSize': 1524004}], 'PackageType': 'Zip', 'Architectures': ['x86_64']}\n",
            "{'FunctionName': 'redisAccessMPFr3XTuf6gYKwFJfMy2dS', 'FunctionArn': 'arn:aws:lambda:us-east-2:165928433299:function:redisAccessMPFr3XTuf6gYKwFJfMy2dS', 'Runtime': 'python3.7', 'Role': 'arn:aws:iam::165928433299:role/myService-dev-us-us-east-2-lambdaRoleMPFr3XTuf6gYKwFJfMy2dS', 'Handler': 'main.handler', 'CodeSize': 10443, 'Description': '', 'Timeout': 90, 'MemorySize': 512, 'LastModified': '2022-10-26T03:04:31.068+0000', 'CodeSha256': 'Sw9rXIs3vGLhi7O/7gQl1SckmY07oZStqovKWxhMxjw=', 'Version': '$LATEST', 'TracingConfig': {'Mode': 'PassThrough'}, 'RevisionId': '4f43af3b-20e8-437e-be50-dff107d57cea', 'Layers': [{'Arn': 'arn:aws:lambda:us-east-2:517169013426:layer:aimsauth_layer:9', 'CodeSize': 1524004}], 'PackageType': 'Zip', 'Architectures': ['x86_64']}\n",
            "{'FunctionName': 'modfunction2ugYaTQXurcE5NgQG6mBFg', 'FunctionArn': 'arn:aws:lambda:us-east-2:165928433299:function:modfunction2ugYaTQXurcE5NgQG6mBFg', 'Role': 'arn:aws:iam::165928433299:role/modfunction2ugYaTQXurcE5NgQG6mBFg-lambda-role', 'CodeSize': 0, 'Description': '', 'Timeout': 120, 'MemorySize': 1024, 'LastModified': '2022-10-26T03:23:10.194+0000', 'CodeSha256': '52c817c578510c42cd55b1b099a052cb34fe7fa5e0a93582efd0228ea009b369', 'Version': '$LATEST', 'TracingConfig': {'Mode': 'PassThrough'}, 'RevisionId': '6a91eca6-061e-4f0c-b49b-6aa6af15b461', 'PackageType': 'Image', 'Architectures': ['x86_64']}\n",
            "{'FunctionName': 'evalfunction2ugYaTQXurcE5NgQG6mBFg', 'FunctionArn': 'arn:aws:lambda:us-east-2:165928433299:function:evalfunction2ugYaTQXurcE5NgQG6mBFg', 'Runtime': 'python3.7', 'Role': 'arn:aws:iam::165928433299:role/myService-dev-us-us-east-2-lambdaRole2ugYaTQXurcE5NgQG6mBFg', 'Handler': 'main.handler', 'CodeSize': 57941, 'Description': '', 'Timeout': 90, 'MemorySize': 2048, 'LastModified': '2022-10-26T03:24:07.939+0000', 'CodeSha256': '8qLzko6+eapEN7B9JcGush7I35eCyDlzJlLzaFTecVk=', 'Version': '$LATEST', 'TracingConfig': {'Mode': 'PassThrough'}, 'RevisionId': 'a3d6d8b5-6c2d-461b-a637-322d76a8d1a2', 'Layers': [{'Arn': 'arn:aws:lambda:us-east-2:517169013426:layer:eval_layer_test:5', 'CodeSize': 69748945}, {'Arn': 'arn:aws:lambda:us-east-2:517169013426:layer:aimsauth_layer:9', 'CodeSize': 1524004}], 'PackageType': 'Zip', 'Architectures': ['x86_64']}\n",
            "{'FunctionName': 'redisAccess2ugYaTQXurcE5NgQG6mBFg', 'FunctionArn': 'arn:aws:lambda:us-east-2:165928433299:function:redisAccess2ugYaTQXurcE5NgQG6mBFg', 'Runtime': 'python3.7', 'Role': 'arn:aws:iam::165928433299:role/myService-dev-us-us-east-2-lambdaRole2ugYaTQXurcE5NgQG6mBFg', 'Handler': 'main.handler', 'CodeSize': 10443, 'Description': '', 'Timeout': 90, 'MemorySize': 512, 'LastModified': '2022-10-26T03:24:21.352+0000', 'CodeSha256': '4dXB4J/CQxbDyw99KImpemMhNUgCmZ5X3yDGi5Sp5EQ=', 'Version': '$LATEST', 'TracingConfig': {'Mode': 'PassThrough'}, 'RevisionId': '7793d23e-0f97-4435-8b1b-1600ec47f6cd', 'Layers': [{'Arn': 'arn:aws:lambda:us-east-2:517169013426:layer:aimsauth_layer:9', 'CodeSize': 1524004}], 'PackageType': 'Zip', 'Architectures': ['x86_64']}\n",
            "{'FunctionName': 'modfunctionm4FJeSoQ2EeRXsbqk6dArK', 'FunctionArn': 'arn:aws:lambda:us-east-2:165928433299:function:modfunctionm4FJeSoQ2EeRXsbqk6dArK', 'Role': 'arn:aws:iam::165928433299:role/modfunctionm4FJeSoQ2EeRXsbqk6dArK-lambda-role', 'CodeSize': 0, 'Description': '', 'Timeout': 120, 'MemorySize': 1024, 'LastModified': '2022-10-26T13:21:52.283+0000', 'CodeSha256': '8491e2d75f057abb4972ac8d519a752b4ddc54db3ad3fe425467298226ee1bf4', 'Version': '$LATEST', 'TracingConfig': {'Mode': 'PassThrough'}, 'RevisionId': '0b01100e-2b39-44fe-a8de-3518f2c68b78', 'PackageType': 'Image', 'Architectures': ['x86_64']}\n",
            "{'FunctionName': 'evalfunctionm4FJeSoQ2EeRXsbqk6dArK', 'FunctionArn': 'arn:aws:lambda:us-east-2:165928433299:function:evalfunctionm4FJeSoQ2EeRXsbqk6dArK', 'Runtime': 'python3.7', 'Role': 'arn:aws:iam::165928433299:role/myService-dev-us-us-east-2-lambdaRolem4FJeSoQ2EeRXsbqk6dArK', 'Handler': 'main.handler', 'CodeSize': 57941, 'Description': '', 'Timeout': 90, 'MemorySize': 2048, 'LastModified': '2022-10-26T13:23:20.750+0000', 'CodeSha256': '11LyC+6Ju8MinU3VclIh7Jad0F0NIp/c8JSQdeKq008=', 'Version': '$LATEST', 'TracingConfig': {'Mode': 'PassThrough'}, 'RevisionId': '86b61998-70d4-4343-bb53-6b49b4f25e88', 'Layers': [{'Arn': 'arn:aws:lambda:us-east-2:517169013426:layer:eval_layer_test:5', 'CodeSize': 69748945}, {'Arn': 'arn:aws:lambda:us-east-2:517169013426:layer:aimsauth_layer:9', 'CodeSize': 1524004}], 'PackageType': 'Zip', 'Architectures': ['x86_64']}\n",
            "{'FunctionName': 'redisAccessm4FJeSoQ2EeRXsbqk6dArK', 'FunctionArn': 'arn:aws:lambda:us-east-2:165928433299:function:redisAccessm4FJeSoQ2EeRXsbqk6dArK', 'Runtime': 'python3.7', 'Role': 'arn:aws:iam::165928433299:role/myService-dev-us-us-east-2-lambdaRolem4FJeSoQ2EeRXsbqk6dArK', 'Handler': 'main.handler', 'CodeSize': 10443, 'Description': '', 'Timeout': 90, 'MemorySize': 512, 'LastModified': '2022-10-26T13:23:34.645+0000', 'CodeSha256': 'JT0Nvty36aXHwNTWaVRV6/1Nlx36v3zQR6kFNvpqGuQ=', 'Version': '$LATEST', 'TracingConfig': {'Mode': 'PassThrough'}, 'RevisionId': '9d38491d-88fa-4e73-a1c4-142d2f6db4cd', 'Layers': [{'Arn': 'arn:aws:lambda:us-east-2:517169013426:layer:aimsauth_layer:9', 'CodeSize': 1524004}], 'PackageType': 'Zip', 'Architectures': ['x86_64']}\n",
            "{'FunctionName': 'modfunctionaZgexmWdCUEdKFHRgowRVf', 'FunctionArn': 'arn:aws:lambda:us-east-2:165928433299:function:modfunctionaZgexmWdCUEdKFHRgowRVf', 'Role': 'arn:aws:iam::165928433299:role/modfunctionaZgexmWdCUEdKFHRgowRVf-lambda-role', 'CodeSize': 0, 'Description': '', 'Timeout': 120, 'MemorySize': 1024, 'LastModified': '2022-10-27T13:00:33.398+0000', 'CodeSha256': '17f3ef59c739e0c56789de60dafae33fb5effba76c2481c05e5a613624534c50', 'Version': '$LATEST', 'TracingConfig': {'Mode': 'PassThrough'}, 'RevisionId': '7eb74ee5-be4a-453b-9497-2bc0c2acf95b', 'PackageType': 'Image', 'Architectures': ['x86_64']}\n",
            "{'FunctionName': 'evalfunctionaZgexmWdCUEdKFHRgowRVf', 'FunctionArn': 'arn:aws:lambda:us-east-2:165928433299:function:evalfunctionaZgexmWdCUEdKFHRgowRVf', 'Runtime': 'python3.7', 'Role': 'arn:aws:iam::165928433299:role/myService-dev-us-us-east-2-lambdaRoleaZgexmWdCUEdKFHRgowRVf', 'Handler': 'main.handler', 'CodeSize': 57941, 'Description': '', 'Timeout': 90, 'MemorySize': 2048, 'LastModified': '2022-10-27T13:02:03.982+0000', 'CodeSha256': 'HAu2/EKDOdYvb++wNYjz1ejxaYRxFZu510wP5w4k1IA=', 'Version': '$LATEST', 'TracingConfig': {'Mode': 'PassThrough'}, 'RevisionId': '0e848dac-3f50-4664-a833-5e06c24f7810', 'Layers': [{'Arn': 'arn:aws:lambda:us-east-2:517169013426:layer:eval_layer_test:5', 'CodeSize': 69748945}, {'Arn': 'arn:aws:lambda:us-east-2:517169013426:layer:aimsauth_layer:9', 'CodeSize': 1524004}], 'PackageType': 'Zip', 'Architectures': ['x86_64']}\n",
            "{'FunctionName': 'redisAccessaZgexmWdCUEdKFHRgowRVf', 'FunctionArn': 'arn:aws:lambda:us-east-2:165928433299:function:redisAccessaZgexmWdCUEdKFHRgowRVf', 'Runtime': 'python3.7', 'Role': 'arn:aws:iam::165928433299:role/myService-dev-us-us-east-2-lambdaRoleaZgexmWdCUEdKFHRgowRVf', 'Handler': 'main.handler', 'CodeSize': 10443, 'Description': '', 'Timeout': 90, 'MemorySize': 512, 'LastModified': '2022-10-27T13:02:18.793+0000', 'CodeSha256': 'QnIwGeRnE6yuxGtNI0o6WOrh5AMYS1QnKpj6Mvms9/0=', 'Version': '$LATEST', 'TracingConfig': {'Mode': 'PassThrough'}, 'RevisionId': 'e3ba9b01-4668-47df-a04b-5bf5bd86ad44', 'Layers': [{'Arn': 'arn:aws:lambda:us-east-2:517169013426:layer:aimsauth_layer:9', 'CodeSize': 1524004}], 'PackageType': 'Zip', 'Architectures': ['x86_64']}\n",
            "{'FunctionName': 'modfunctionH33ZC2fKkuxNh6iLMq3xkE', 'FunctionArn': 'arn:aws:lambda:us-east-2:165928433299:function:modfunctionH33ZC2fKkuxNh6iLMq3xkE', 'Role': 'arn:aws:iam::165928433299:role/modfunctionH33ZC2fKkuxNh6iLMq3xkE-lambda-role', 'CodeSize': 0, 'Description': '', 'Timeout': 120, 'MemorySize': 1024, 'LastModified': '2022-10-27T14:16:16.439+0000', 'CodeSha256': 'bbe0534571ba4e35cb6f96cfd311dd2c6415339aa9e2bf4576ab313366ac2442', 'Version': '$LATEST', 'TracingConfig': {'Mode': 'PassThrough'}, 'RevisionId': 'c543e28e-f582-4973-b3d4-c10d101d536f', 'PackageType': 'Image', 'Architectures': ['x86_64']}\n",
            "{'FunctionName': 'evalfunctionH33ZC2fKkuxNh6iLMq3xkE', 'FunctionArn': 'arn:aws:lambda:us-east-2:165928433299:function:evalfunctionH33ZC2fKkuxNh6iLMq3xkE', 'Runtime': 'python3.7', 'Role': 'arn:aws:iam::165928433299:role/myService-dev-us-us-east-2-lambdaRoleH33ZC2fKkuxNh6iLMq3xkE', 'Handler': 'main.handler', 'CodeSize': 57941, 'Description': '', 'Timeout': 90, 'MemorySize': 2048, 'LastModified': '2022-10-27T14:17:27.836+0000', 'CodeSha256': 'rvEFTm2MBt8OWOMsajUL9z+tsbCrn51NxydOTZUCKyQ=', 'Version': '$LATEST', 'TracingConfig': {'Mode': 'PassThrough'}, 'RevisionId': '8a3dbc9f-3174-40f1-a2df-8be6c53b55a9', 'Layers': [{'Arn': 'arn:aws:lambda:us-east-2:517169013426:layer:eval_layer_test:5', 'CodeSize': 69748945}, {'Arn': 'arn:aws:lambda:us-east-2:517169013426:layer:aimsauth_layer:9', 'CodeSize': 1524004}], 'PackageType': 'Zip', 'Architectures': ['x86_64']}\n",
            "{'FunctionName': 'redisAccessH33ZC2fKkuxNh6iLMq3xkE', 'FunctionArn': 'arn:aws:lambda:us-east-2:165928433299:function:redisAccessH33ZC2fKkuxNh6iLMq3xkE', 'Runtime': 'python3.7', 'Role': 'arn:aws:iam::165928433299:role/myService-dev-us-us-east-2-lambdaRoleH33ZC2fKkuxNh6iLMq3xkE', 'Handler': 'main.handler', 'CodeSize': 10443, 'Description': '', 'Timeout': 90, 'MemorySize': 512, 'LastModified': '2022-10-27T14:17:41.517+0000', 'CodeSha256': 'Kfyv6xottddylD3ivwHmicEPyBlcp2lWKFG3JlmJ/pU=', 'Version': '$LATEST', 'TracingConfig': {'Mode': 'PassThrough'}, 'RevisionId': 'c39e547b-b09d-4674-bdc1-7c9f7b579f57', 'Layers': [{'Arn': 'arn:aws:lambda:us-east-2:517169013426:layer:aimsauth_layer:9', 'CodeSize': 1524004}], 'PackageType': 'Zip', 'Architectures': ['x86_64']}\n",
            "{'FunctionName': 'modfunction2aVxrWE2BEJMb8hpZMiBAP', 'FunctionArn': 'arn:aws:lambda:us-east-2:165928433299:function:modfunction2aVxrWE2BEJMb8hpZMiBAP', 'Role': 'arn:aws:iam::165928433299:role/modfunction2aVxrWE2BEJMb8hpZMiBAP-lambda-role', 'CodeSize': 0, 'Description': '', 'Timeout': 120, 'MemorySize': 1024, 'LastModified': '2022-10-27T14:30:17.515+0000', 'CodeSha256': 'b15405391aa0d2a4aea272fb283f9638bd197dc1c488fd2d86f4464471ae0f0a', 'Version': '$LATEST', 'TracingConfig': {'Mode': 'PassThrough'}, 'RevisionId': '2bae931a-663c-42c1-8121-b3a3429e9ae8', 'PackageType': 'Image', 'Architectures': ['x86_64']}\n",
            "{'FunctionName': 'evalfunction2aVxrWE2BEJMb8hpZMiBAP', 'FunctionArn': 'arn:aws:lambda:us-east-2:165928433299:function:evalfunction2aVxrWE2BEJMb8hpZMiBAP', 'Runtime': 'python3.7', 'Role': 'arn:aws:iam::165928433299:role/myService-dev-us-us-east-2-lambdaRole2aVxrWE2BEJMb8hpZMiBAP', 'Handler': 'main.handler', 'CodeSize': 57941, 'Description': '', 'Timeout': 90, 'MemorySize': 2048, 'LastModified': '2022-10-27T14:32:05.703+0000', 'CodeSha256': 'xiyS16vjeI813bCNF2VeJvfqSLdide8YJMNlAAtgzvQ=', 'Version': '$LATEST', 'TracingConfig': {'Mode': 'PassThrough'}, 'RevisionId': '5f42c70a-761e-48fd-8a71-f3156c7e37b7', 'Layers': [{'Arn': 'arn:aws:lambda:us-east-2:517169013426:layer:eval_layer_test:5', 'CodeSize': 69748945}, {'Arn': 'arn:aws:lambda:us-east-2:517169013426:layer:aimsauth_layer:9', 'CodeSize': 1524004}], 'PackageType': 'Zip', 'Architectures': ['x86_64']}\n",
            "{'FunctionName': 'redisAccess2aVxrWE2BEJMb8hpZMiBAP', 'FunctionArn': 'arn:aws:lambda:us-east-2:165928433299:function:redisAccess2aVxrWE2BEJMb8hpZMiBAP', 'Runtime': 'python3.7', 'Role': 'arn:aws:iam::165928433299:role/myService-dev-us-us-east-2-lambdaRole2aVxrWE2BEJMb8hpZMiBAP', 'Handler': 'main.handler', 'CodeSize': 10443, 'Description': '', 'Timeout': 90, 'MemorySize': 512, 'LastModified': '2022-10-27T14:32:20.912+0000', 'CodeSha256': 'uxeodrPGsVlpQVhGF8b0O41aadjpuJU3U2IViBEPhH8=', 'Version': '$LATEST', 'TracingConfig': {'Mode': 'PassThrough'}, 'RevisionId': '42e5f261-9841-4d06-97de-4b511c75ca59', 'Layers': [{'Arn': 'arn:aws:lambda:us-east-2:517169013426:layer:aimsauth_layer:9', 'CodeSize': 1524004}], 'PackageType': 'Zip', 'Architectures': ['x86_64']}\n",
            "{'FunctionName': 'modfunctionAg6HvcFzXwmeeQDLLrg4mY', 'FunctionArn': 'arn:aws:lambda:us-east-2:165928433299:function:modfunctionAg6HvcFzXwmeeQDLLrg4mY', 'Role': 'arn:aws:iam::165928433299:role/modfunctionAg6HvcFzXwmeeQDLLrg4mY-lambda-role', 'CodeSize': 0, 'Description': '', 'Timeout': 120, 'MemorySize': 1024, 'LastModified': '2022-10-27T14:43:58.708+0000', 'CodeSha256': 'f98d31f92c67f6cd9515b9ff3dd07c1ba50dc6e19de0ac9c2b556839f34d61c4', 'Version': '$LATEST', 'TracingConfig': {'Mode': 'PassThrough'}, 'RevisionId': '9d4697b8-fa7b-4335-b756-d5bb78994a01', 'PackageType': 'Image', 'Architectures': ['x86_64']}\n",
            "{'FunctionName': 'evalfunctionAg6HvcFzXwmeeQDLLrg4mY', 'FunctionArn': 'arn:aws:lambda:us-east-2:165928433299:function:evalfunctionAg6HvcFzXwmeeQDLLrg4mY', 'Runtime': 'python3.7', 'Role': 'arn:aws:iam::165928433299:role/myService-dev-us-us-east-2-lambdaRoleAg6HvcFzXwmeeQDLLrg4mY', 'Handler': 'main.handler', 'CodeSize': 57941, 'Description': '', 'Timeout': 90, 'MemorySize': 2048, 'LastModified': '2022-10-27T14:45:33.218+0000', 'CodeSha256': 'X/p32BhFhEG6vOvt/FxE9yAoNn+LbNxrw0SSuq0Rmf0=', 'Version': '$LATEST', 'TracingConfig': {'Mode': 'PassThrough'}, 'RevisionId': '1cc58be2-7877-4ea2-a71f-d4635628eb25', 'Layers': [{'Arn': 'arn:aws:lambda:us-east-2:517169013426:layer:eval_layer_test:5', 'CodeSize': 69748945}, {'Arn': 'arn:aws:lambda:us-east-2:517169013426:layer:aimsauth_layer:9', 'CodeSize': 1524004}], 'PackageType': 'Zip', 'Architectures': ['x86_64']}\n",
            "{'FunctionName': 'redisAccessAg6HvcFzXwmeeQDLLrg4mY', 'FunctionArn': 'arn:aws:lambda:us-east-2:165928433299:function:redisAccessAg6HvcFzXwmeeQDLLrg4mY', 'Runtime': 'python3.7', 'Role': 'arn:aws:iam::165928433299:role/myService-dev-us-us-east-2-lambdaRoleAg6HvcFzXwmeeQDLLrg4mY', 'Handler': 'main.handler', 'CodeSize': 10443, 'Description': '', 'Timeout': 90, 'MemorySize': 512, 'LastModified': '2022-10-27T14:45:48.180+0000', 'CodeSha256': 'igMudIoi1JKoqQbFxyeD80QeKB8J7Mje17Hf5TcJP4g=', 'Version': '$LATEST', 'TracingConfig': {'Mode': 'PassThrough'}, 'RevisionId': '56169318-6bea-4dbd-97c2-0d9691c86673', 'Layers': [{'Arn': 'arn:aws:lambda:us-east-2:517169013426:layer:aimsauth_layer:9', 'CodeSize': 1524004}], 'PackageType': 'Zip', 'Architectures': ['x86_64']}\n"
          ]
        }
      ]
    }
  ]
}